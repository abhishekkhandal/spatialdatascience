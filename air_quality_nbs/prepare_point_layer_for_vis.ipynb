{
 "cells": [
  {
   "cell_type": "code",
   "execution_count": 45,
   "metadata": {},
   "outputs": [],
   "source": [
    "from datetime import datetime as dt\n",
    "from arcgis.gis import GIS\n",
    "from arcgis.geoanalytics.analyze_patterns import forest, glr\n",
    "gis = GIS('https://ndhagsb01.esri.com/portal', \n",
    "          'admin', \n",
    "          'esri.agp2', \n",
    "          profile=\"your_enterprise_portal\", verify_cert=False)"
   ]
  },
  {
   "cell_type": "code",
   "execution_count": 46,
   "metadata": {},
   "outputs": [],
   "source": [
    "%matplotlib inline\n",
    "\n",
    "import matplotlib.pyplot as plt\n",
    "import pandas as pd\n",
    "from datetime import datetime as dt\n",
    "\n",
    "import arcgis\n",
    "import arcgis.geoanalytics\n",
    "from arcgis.gis import GIS\n",
    "\n",
    "from arcgis.geoanalytics.manage_data import run_python_script"
   ]
  },
  {
   "cell_type": "code",
   "execution_count": 47,
   "metadata": {},
   "outputs": [],
   "source": [
    "import arcgis\n",
    "arcgis.env.verbose = True"
   ]
  },
  {
   "cell_type": "code",
   "execution_count": 48,
   "metadata": {},
   "outputs": [
    {
     "data": {
      "text/plain": [
       "[<Item title:\"bigDataFileShares_air_quality_2019\" type:Big Data File Share owner:admin>,\n",
       " <Item title:\"bigDataFileShares_pm2017\" type:Big Data File Share owner:admin>,\n",
       " <Item title:\"bigDataFileShares_pm2017_4326\" type:Big Data File Share owner:admin>]"
      ]
     },
     "execution_count": 48,
     "metadata": {},
     "output_type": "execute_result"
    }
   ],
   "source": [
    "search_result = gis.content.search(\"\", item_type = \"big data file share\", max_items=40)\n",
    "search_result"
   ]
  },
  {
   "cell_type": "code",
   "execution_count": 49,
   "metadata": {},
   "outputs": [],
   "source": [
    "air_item = search_result[0]"
   ]
  },
  {
   "cell_type": "code",
   "execution_count": 50,
   "metadata": {},
   "outputs": [],
   "source": [
    "air_lyr = air_item.layers[0]"
   ]
  },
  {
   "cell_type": "code",
   "execution_count": 51,
   "metadata": {},
   "outputs": [
    {
     "data": {
      "text/plain": [
       "<Layer url:\"https://ndhga01.esri.com/gis/rest/services/DataStoreCatalogs/bigDataFileShares_air_quality_2019/BigDataCatalogServer/air_quality\">"
      ]
     },
     "execution_count": 51,
     "metadata": {},
     "output_type": "execute_result"
    }
   ],
   "source": [
    "air_lyr"
   ]
  },
  {
   "cell_type": "code",
   "execution_count": 54,
   "metadata": {},
   "outputs": [],
   "source": [
    "def code():\n",
    "    from datetime import datetime as dt\n",
    "    import pyspark.sql.functions as F\n",
    "    from pyspark.sql.functions import concat, col, lit\n",
    "    from datetime import datetime as dt\n",
    "    df = layers[0]\n",
    "    cols = ['Site Num', 'County Code', 'State Code', 'Date Local', 'Time Local', \n",
    "            'Parameter Name', 'Sample Measurement', 'Latitude', 'Longitude']\n",
    "    df = df.select(cols)\n",
    "    df = df.withColumn('Site_Num', F.lpad(df['Site Num'], 4, '0'))\n",
    "    df = df.withColumn('County_Code', F.lpad(df['County Code'], 3, '0'))\n",
    "    df = df.withColumn('State_Code', F.lpad(df['State Code'], 2, '0'))\n",
    "    df = df.withColumn('unique_id', F.concat(F.col('State_Code'), F.col('County_Code'), F.col('Site_Num')))\n",
    "    id = int(df.select('unique_id').first()[0])\n",
    "    df = df.where(col(\"unique_id\") == id)\n",
    "    \n",
    "    drop_cols = ['Site_Num', 'County_Code', 'State_Code', 'Site Num', 'County Code', 'State Code']\n",
    "    df = df.drop('Site_Num', 'County_Code', 'State_Code', 'Site Num', 'County Code', 'State Code')\n",
    "    df = df.withColumn('datetime', concat(col(\"Date Local\"), lit(\" \"), col(\"Time Local\")))\n",
    "    drop_cols = ['Time Local', 'Date Local']\n",
    "    df = df.drop('Time Local', 'Date Local')\n",
    "    \n",
    "    df_pm25 = df.filter(df['Parameter Name'] == 'PM2.5 - Local Conditions')\n",
    "    df_pm10 = df.filter(df['Parameter Name'] == 'PM10 - LC')\n",
    "    df_windspeed = df.filter(df['Parameter Name'] == 'Wind Speed - Resultant')\n",
    "    df_windir = df.filter(df['Parameter Name'] == 'Wind Direction - Resultant')\n",
    "    \n",
    "    df_pm25 = df_pm25.withColumnRenamed('Sample Measurement', df_pm25.select('Parameter Name').first()[0])\n",
    "    df_pm25 = df_pm25.drop('Parameter Name')\n",
    "\n",
    "    df_pm10 = df_pm10.withColumnRenamed('Sample Measurement', df_pm10.select('Parameter Name').first()[0])\n",
    "    df_pm10 = df_pm10.drop('Parameter Name')\n",
    "\n",
    "    df_windspeed = df_windspeed.withColumnRenamed('Sample Measurement', df_windspeed.select('Parameter Name').first()[0])\n",
    "    df_windspeed = df_windspeed.drop('Parameter Name')\n",
    "\n",
    "    df_windir = df_windir.withColumnRenamed('Sample Measurement', df_windir.select('Parameter Name').first()[0])\n",
    "    df_windir = df_windir.drop('Parameter Name')\n",
    "    \n",
    "    new_df1 = df_pm25.join(df_pm10, on=['datetime'], how='inner')\n",
    "    new_df2 = df_windir.join(df_windspeed, on=['datetime'], how='inner')\n",
    "    new_df3 = new_df2.join(new_df1, on=['datetime'], how='inner')\n",
    "    \n",
    "    new_df3.write.format(\"webgis\").save(\"fbmodeldata\" + str(dt.now().microsecond))"
   ]
  },
  {
   "cell_type": "code",
   "execution_count": 55,
   "metadata": {
    "scrolled": true
   },
   "outputs": [
    {
     "name": "stdout",
     "output_type": "stream",
     "text": [
      "Submitted.\n",
      "Executing...\n",
      "Executing (RunPythonScript): RunPythonScript \"def code():\\n    from datetime import datetime as dt\\n    import pyspark.sql.functions as F\\n    from pyspark.sql.functions import concat, col, lit\\n    from datetime import datetime as dt\\n    df = layers[0]\\n    cols = ['Site Num', 'County Code', 'State Code', 'Date Local', 'Time Local', \\n            'Parameter Name', 'Sample Measurement', 'Latitude', 'Longitude']\\n    df = df.select(cols)\\n    df = df.withColumn('Site_Num', F.lpad(df['Site Num'], 4, '0'))\\n    df = df.withColumn('County_Code', F.lpad(df['County Code'], 3, '0'))\\n    df = df.withColumn('State_Code', F.lpad(df['State Code'], 2, '0'))\\n    df = df.withColumn('unique_id', F.concat(F.col('State_Code'), F.col('County_Code'), F.col('Site_Num')))\\n    id = int(df.select('unique_id').first()[0])\\n    df = df.where(col(\"unique_id\") == id)\\n    \\n    drop_cols = ['Site_Num', 'County_Code', 'State_Code', 'Site Num', 'County Code', 'State Code']\\n    df = df.drop('Site_Num', 'County_Code', 'State_Code', 'Site Num', 'County Code', 'State Code')\\n    df = df.withColumn('datetime', concat(col(\"Date Local\"), lit(\" \"), col(\"Time Local\")))\\n    drop_cols = ['Time Local', 'Date Local']\\n    df = df.drop('Time Local', 'Date Local')\\n    \\n    df_pm25 = df.filter(df['Parameter Name'] == 'PM2.5 - Local Conditions')\\n    df_pm10 = df.filter(df['Parameter Name'] == 'PM10 - LC')\\n    df_windspeed = df.filter(df['Parameter Name'] == 'Wind Speed - Resultant')\\n    df_windir = df.filter(df['Parameter Name'] == 'Wind Direction - Resultant')\\n    \\n    df_pm25 = df_pm25.withColumnRenamed('Sample Measurement', df_pm25.select('Parameter Name').first()[0])\\n    df_pm25 = df_pm25.drop('Parameter Name')\\n\\n    df_pm10 = df_pm10.withColumnRenamed('Sample Measurement', df_pm10.select('Parameter Name').first()[0])\\n    df_pm10 = df_pm10.drop('Parameter Name')\\n\\n    df_windspeed = df_windspeed.withColumnRenamed('Sample Measurement', df_windspeed.select('Parameter Name').first()[0])\\n    df_windspeed = df_windspeed.drop('Parameter Name')\\n\\n    df_windir = df_windir.withColumnRenamed('Sample Measurement', df_windir.select('Parameter Name').first()[0])\\n    df_windir = df_windir.drop('Parameter Name')\\n    \\n    new_df1 = df_pm25.join(df_pm10, on=['datetime'], how='inner')\\n    new_df2 = df_windir.join(df_windspeed, on=['datetime'], how='inner')\\n    new_df3 = new_df2.join(new_df1, on=['datetime'], how='inner')\\n    \\n    new_df3.write.format(\"webgis\").save(\"fbmodeldata\" + str(dt.now().microsecond))\\n\\ncode()\" https://ndhga01.esri.com/gis/rest/services/DataStoreCatalogs/bigDataFileShares_air_quality_2019/BigDataCatalogServer/air_quality \"{\"defaultAggregationStyles\": false}\"\n",
      "Start Time: Sat Mar 28 12:01:54 2020\n",
      "Using URL based GPRecordSet param: https://ndhga01.esri.com/gis/rest/services/DataStoreCatalogs/bigDataFileShares_air_quality_2019/BigDataCatalogServer/air_quality\n",
      "{\"messageCode\":\"BD_101028\",\"message\":\"Starting new distributed job with 1 tasks.\",\"params\":{\"totalTasks\":\"1\"}}\n",
      "{\"messageCode\":\"BD_101029\",\"message\":\"0/1 distributed tasks completed.\",\"params\":{\"completedTasks\":\"0\",\"totalTasks\":\"1\"}}\n",
      "{\"messageCode\":\"BD_101029\",\"message\":\"1/1 distributed tasks completed.\",\"params\":{\"completedTasks\":\"1\",\"totalTasks\":\"1\"}}\n",
      "{\"messageCode\":\"BD_101028\",\"message\":\"Starting new distributed job with 1 tasks.\",\"params\":{\"totalTasks\":\"1\"}}\n",
      "{\"messageCode\":\"BD_101029\",\"message\":\"1/1 distributed tasks completed.\",\"params\":{\"completedTasks\":\"1\",\"totalTasks\":\"1\"}}\n",
      "{\"messageCode\":\"BD_101028\",\"message\":\"Starting new distributed job with 4 tasks.\",\"params\":{\"totalTasks\":\"4\"}}\n",
      "{\"messageCode\":\"BD_101029\",\"message\":\"3/4 distributed tasks completed.\",\"params\":{\"completedTasks\":\"3\",\"totalTasks\":\"4\"}}\n",
      "{\"messageCode\":\"BD_101029\",\"message\":\"4/4 distributed tasks completed.\",\"params\":{\"completedTasks\":\"4\",\"totalTasks\":\"4\"}}\n",
      "{\"messageCode\":\"BD_101028\",\"message\":\"Starting new distributed job with 20 tasks.\",\"params\":{\"totalTasks\":\"20\"}}\n",
      "{\"messageCode\":\"BD_101029\",\"message\":\"11/20 distributed tasks completed.\",\"params\":{\"completedTasks\":\"11\",\"totalTasks\":\"20\"}}\n",
      "{\"messageCode\":\"BD_101029\",\"message\":\"20/20 distributed tasks completed.\",\"params\":{\"completedTasks\":\"20\",\"totalTasks\":\"20\"}}\n",
      "{\"messageCode\":\"BD_101028\",\"message\":\"Starting new distributed job with 100 tasks.\",\"params\":{\"totalTasks\":\"100\"}}\n",
      "{\"messageCode\":\"BD_101029\",\"message\":\"6/100 distributed tasks completed.\",\"params\":{\"completedTasks\":\"6\",\"totalTasks\":\"100\"}}\n",
      "{\"messageCode\":\"BD_101029\",\"message\":\"27/100 distributed tasks completed.\",\"params\":{\"completedTasks\":\"27\",\"totalTasks\":\"100\"}}\n",
      "{\"messageCode\":\"BD_101029\",\"message\":\"49/100 distributed tasks completed.\",\"params\":{\"completedTasks\":\"49\",\"totalTasks\":\"100\"}}\n",
      "{\"messageCode\":\"BD_101029\",\"message\":\"66/100 distributed tasks completed.\",\"params\":{\"completedTasks\":\"66\",\"totalTasks\":\"100\"}}\n",
      "{\"messageCode\":\"BD_101029\",\"message\":\"82/100 distributed tasks completed.\",\"params\":{\"completedTasks\":\"82\",\"totalTasks\":\"100\"}}\n",
      "{\"messageCode\":\"BD_101029\",\"message\":\"100/100 distributed tasks completed.\",\"params\":{\"completedTasks\":\"100\",\"totalTasks\":\"100\"}}\n",
      "{\"messageCode\":\"BD_101028\",\"message\":\"Starting new distributed job with 500 tasks.\",\"params\":{\"totalTasks\":\"500\"}}\n",
      "{\"messageCode\":\"BD_101029\",\"message\":\"10/500 distributed tasks completed.\",\"params\":{\"completedTasks\":\"10\",\"totalTasks\":\"500\"}}\n",
      "{\"messageCode\":\"BD_101029\",\"message\":\"31/500 distributed tasks completed.\",\"params\":{\"completedTasks\":\"31\",\"totalTasks\":\"500\"}}\n",
      "{\"messageCode\":\"BD_101029\",\"message\":\"45/500 distributed tasks completed.\",\"params\":{\"completedTasks\":\"45\",\"totalTasks\":\"500\"}}\n",
      "{\"messageCode\":\"BD_101029\",\"message\":\"68/500 distributed tasks completed.\",\"params\":{\"completedTasks\":\"68\",\"totalTasks\":\"500\"}}\n",
      "{\"messageCode\":\"BD_101029\",\"message\":\"89/500 distributed tasks completed.\",\"params\":{\"completedTasks\":\"89\",\"totalTasks\":\"500\"}}\n",
      "{\"messageCode\":\"BD_101029\",\"message\":\"108/500 distributed tasks completed.\",\"params\":{\"completedTasks\":\"108\",\"totalTasks\":\"500\"}}\n",
      "{\"messageCode\":\"BD_101029\",\"message\":\"133/500 distributed tasks completed.\",\"params\":{\"completedTasks\":\"133\",\"totalTasks\":\"500\"}}\n",
      "{\"messageCode\":\"BD_101029\",\"message\":\"159/500 distributed tasks completed.\",\"params\":{\"completedTasks\":\"159\",\"totalTasks\":\"500\"}}\n",
      "{\"messageCode\":\"BD_101029\",\"message\":\"175/500 distributed tasks completed.\",\"params\":{\"completedTasks\":\"175\",\"totalTasks\":\"500\"}}\n",
      "{\"messageCode\":\"BD_101029\",\"message\":\"194/500 distributed tasks completed.\",\"params\":{\"completedTasks\":\"194\",\"totalTasks\":\"500\"}}\n",
      "{\"messageCode\":\"BD_101029\",\"message\":\"218/500 distributed tasks completed.\",\"params\":{\"completedTasks\":\"218\",\"totalTasks\":\"500\"}}\n",
      "{\"messageCode\":\"BD_101029\",\"message\":\"234/500 distributed tasks completed.\",\"params\":{\"completedTasks\":\"234\",\"totalTasks\":\"500\"}}\n",
      "{\"messageCode\":\"BD_101029\",\"message\":\"251/500 distributed tasks completed.\",\"params\":{\"completedTasks\":\"251\",\"totalTasks\":\"500\"}}\n",
      "{\"messageCode\":\"BD_101029\",\"message\":\"274/500 distributed tasks completed.\",\"params\":{\"completedTasks\":\"274\",\"totalTasks\":\"500\"}}\n",
      "{\"messageCode\":\"BD_101029\",\"message\":\"288/500 distributed tasks completed.\",\"params\":{\"completedTasks\":\"288\",\"totalTasks\":\"500\"}}\n",
      "{\"messageCode\":\"BD_101029\",\"message\":\"310/500 distributed tasks completed.\",\"params\":{\"completedTasks\":\"310\",\"totalTasks\":\"500\"}}\n",
      "{\"messageCode\":\"BD_101029\",\"message\":\"324/500 distributed tasks completed.\",\"params\":{\"completedTasks\":\"324\",\"totalTasks\":\"500\"}}\n",
      "{\"messageCode\":\"BD_101029\",\"message\":\"342/500 distributed tasks completed.\",\"params\":{\"completedTasks\":\"342\",\"totalTasks\":\"500\"}}\n",
      "{\"messageCode\":\"BD_101029\",\"message\":\"360/500 distributed tasks completed.\",\"params\":{\"completedTasks\":\"360\",\"totalTasks\":\"500\"}}\n",
      "{\"messageCode\":\"BD_101029\",\"message\":\"376/500 distributed tasks completed.\",\"params\":{\"completedTasks\":\"376\",\"totalTasks\":\"500\"}}\n",
      "{\"messageCode\":\"BD_101029\",\"message\":\"395/500 distributed tasks completed.\",\"params\":{\"completedTasks\":\"395\",\"totalTasks\":\"500\"}}\n",
      "{\"messageCode\":\"BD_101029\",\"message\":\"408/500 distributed tasks completed.\",\"params\":{\"completedTasks\":\"408\",\"totalTasks\":\"500\"}}\n",
      "{\"messageCode\":\"BD_101029\",\"message\":\"435/500 distributed tasks completed.\",\"params\":{\"completedTasks\":\"435\",\"totalTasks\":\"500\"}}\n",
      "{\"messageCode\":\"BD_101029\",\"message\":\"455/500 distributed tasks completed.\",\"params\":{\"completedTasks\":\"455\",\"totalTasks\":\"500\"}}\n",
      "{\"messageCode\":\"BD_101029\",\"message\":\"474/500 distributed tasks completed.\",\"params\":{\"completedTasks\":\"474\",\"totalTasks\":\"500\"}}\n",
      "{\"messageCode\":\"BD_101029\",\"message\":\"495/500 distributed tasks completed.\",\"params\":{\"completedTasks\":\"495\",\"totalTasks\":\"500\"}}\n",
      "{\"messageCode\":\"BD_101029\",\"message\":\"500/500 distributed tasks completed.\",\"params\":{\"completedTasks\":\"500\",\"totalTasks\":\"500\"}}\n",
      "{\"messageCode\":\"BD_101028\",\"message\":\"Starting new distributed job with 1 tasks.\",\"params\":{\"totalTasks\":\"1\"}}\n",
      "{\"messageCode\":\"BD_101029\",\"message\":\"1/1 distributed tasks completed.\",\"params\":{\"completedTasks\":\"1\",\"totalTasks\":\"1\"}}\n",
      "{\"messageCode\":\"BD_101028\",\"message\":\"Starting new distributed job with 4 tasks.\",\"params\":{\"totalTasks\":\"4\"}}\n",
      "{\"messageCode\":\"BD_101029\",\"message\":\"4/4 distributed tasks completed.\",\"params\":{\"completedTasks\":\"4\",\"totalTasks\":\"4\"}}\n",
      "{\"messageCode\":\"BD_101028\",\"message\":\"Starting new distributed job with 20 tasks.\",\"params\":{\"totalTasks\":\"20\"}}\n",
      "{\"messageCode\":\"BD_101029\",\"message\":\"14/20 distributed tasks completed.\",\"params\":{\"completedTasks\":\"14\",\"totalTasks\":\"20\"}}\n",
      "{\"messageCode\":\"BD_101029\",\"message\":\"20/20 distributed tasks completed.\",\"params\":{\"completedTasks\":\"20\",\"totalTasks\":\"20\"}}\n",
      "{\"messageCode\":\"BD_101028\",\"message\":\"Starting new distributed job with 100 tasks.\",\"params\":{\"totalTasks\":\"100\"}}\n",
      "{\"messageCode\":\"BD_101029\",\"message\":\"7/100 distributed tasks completed.\",\"params\":{\"completedTasks\":\"7\",\"totalTasks\":\"100\"}}\n",
      "{\"messageCode\":\"BD_101029\",\"message\":\"28/100 distributed tasks completed.\",\"params\":{\"completedTasks\":\"28\",\"totalTasks\":\"100\"}}\n",
      "{\"messageCode\":\"BD_101029\",\"message\":\"50/100 distributed tasks completed.\",\"params\":{\"completedTasks\":\"50\",\"totalTasks\":\"100\"}}\n",
      "{\"messageCode\":\"BD_101029\",\"message\":\"68/100 distributed tasks completed.\",\"params\":{\"completedTasks\":\"68\",\"totalTasks\":\"100\"}}\n",
      "{\"messageCode\":\"BD_101029\",\"message\":\"87/100 distributed tasks completed.\",\"params\":{\"completedTasks\":\"87\",\"totalTasks\":\"100\"}}\n",
      "{\"messageCode\":\"BD_101029\",\"message\":\"100/100 distributed tasks completed.\",\"params\":{\"completedTasks\":\"100\",\"totalTasks\":\"100\"}}\n",
      "{\"messageCode\":\"BD_101028\",\"message\":\"Starting new distributed job with 500 tasks.\",\"params\":{\"totalTasks\":\"500\"}}\n",
      "{\"messageCode\":\"BD_101029\",\"message\":\"8/500 distributed tasks completed.\",\"params\":{\"completedTasks\":\"8\",\"totalTasks\":\"500\"}}\n",
      "{\"messageCode\":\"BD_101029\",\"message\":\"30/500 distributed tasks completed.\",\"params\":{\"completedTasks\":\"30\",\"totalTasks\":\"500\"}}\n",
      "{\"messageCode\":\"BD_101029\",\"message\":\"44/500 distributed tasks completed.\",\"params\":{\"completedTasks\":\"44\",\"totalTasks\":\"500\"}}\n",
      "{\"messageCode\":\"BD_101029\",\"message\":\"66/500 distributed tasks completed.\",\"params\":{\"completedTasks\":\"66\",\"totalTasks\":\"500\"}}\n",
      "{\"messageCode\":\"BD_101029\",\"message\":\"83/500 distributed tasks completed.\",\"params\":{\"completedTasks\":\"83\",\"totalTasks\":\"500\"}}\n",
      "{\"messageCode\":\"BD_101029\",\"message\":\"101/500 distributed tasks completed.\",\"params\":{\"completedTasks\":\"101\",\"totalTasks\":\"500\"}}\n",
      "{\"messageCode\":\"BD_101029\",\"message\":\"118/500 distributed tasks completed.\",\"params\":{\"completedTasks\":\"118\",\"totalTasks\":\"500\"}}\n",
      "{\"messageCode\":\"BD_101029\",\"message\":\"133/500 distributed tasks completed.\",\"params\":{\"completedTasks\":\"133\",\"totalTasks\":\"500\"}}\n",
      "{\"messageCode\":\"BD_101029\",\"message\":\"154/500 distributed tasks completed.\",\"params\":{\"completedTasks\":\"154\",\"totalTasks\":\"500\"}}\n",
      "{\"messageCode\":\"BD_101029\",\"message\":\"173/500 distributed tasks completed.\",\"params\":{\"completedTasks\":\"173\",\"totalTasks\":\"500\"}}\n",
      "{\"messageCode\":\"BD_101029\",\"message\":\"188/500 distributed tasks completed.\",\"params\":{\"completedTasks\":\"188\",\"totalTasks\":\"500\"}}\n",
      "{\"messageCode\":\"BD_101029\",\"message\":\"212/500 distributed tasks completed.\",\"params\":{\"completedTasks\":\"212\",\"totalTasks\":\"500\"}}\n",
      "{\"messageCode\":\"BD_101029\",\"message\":\"228/500 distributed tasks completed.\",\"params\":{\"completedTasks\":\"228\",\"totalTasks\":\"500\"}}\n",
      "{\"messageCode\":\"BD_101029\",\"message\":\"248/500 distributed tasks completed.\",\"params\":{\"completedTasks\":\"248\",\"totalTasks\":\"500\"}}\n",
      "{\"messageCode\":\"BD_101029\",\"message\":\"269/500 distributed tasks completed.\",\"params\":{\"completedTasks\":\"269\",\"totalTasks\":\"500\"}}\n",
      "{\"messageCode\":\"BD_101029\",\"message\":\"287/500 distributed tasks completed.\",\"params\":{\"completedTasks\":\"287\",\"totalTasks\":\"500\"}}\n",
      "{\"messageCode\":\"BD_101029\",\"message\":\"306/500 distributed tasks completed.\",\"params\":{\"completedTasks\":\"306\",\"totalTasks\":\"500\"}}\n",
      "{\"messageCode\":\"BD_101029\",\"message\":\"321/500 distributed tasks completed.\",\"params\":{\"completedTasks\":\"321\",\"totalTasks\":\"500\"}}\n",
      "{\"messageCode\":\"BD_101029\",\"message\":\"340/500 distributed tasks completed.\",\"params\":{\"completedTasks\":\"340\",\"totalTasks\":\"500\"}}\n",
      "{\"messageCode\":\"BD_101029\",\"message\":\"358/500 distributed tasks completed.\",\"params\":{\"completedTasks\":\"358\",\"totalTasks\":\"500\"}}\n",
      "{\"messageCode\":\"BD_101029\",\"message\":\"377/500 distributed tasks completed.\",\"params\":{\"completedTasks\":\"377\",\"totalTasks\":\"500\"}}\n",
      "{\"messageCode\":\"BD_101029\",\"message\":\"395/500 distributed tasks completed.\",\"params\":{\"completedTasks\":\"395\",\"totalTasks\":\"500\"}}\n",
      "{\"messageCode\":\"BD_101029\",\"message\":\"413/500 distributed tasks completed.\",\"params\":{\"completedTasks\":\"413\",\"totalTasks\":\"500\"}}\n",
      "{\"messageCode\":\"BD_101029\",\"message\":\"430/500 distributed tasks completed.\",\"params\":{\"completedTasks\":\"430\",\"totalTasks\":\"500\"}}\n",
      "{\"messageCode\":\"BD_101029\",\"message\":\"452/500 distributed tasks completed.\",\"params\":{\"completedTasks\":\"452\",\"totalTasks\":\"500\"}}\n",
      "{\"messageCode\":\"BD_101029\",\"message\":\"470/500 distributed tasks completed.\",\"params\":{\"completedTasks\":\"470\",\"totalTasks\":\"500\"}}\n",
      "{\"messageCode\":\"BD_101029\",\"message\":\"484/500 distributed tasks completed.\",\"params\":{\"completedTasks\":\"484\",\"totalTasks\":\"500\"}}\n",
      "{\"messageCode\":\"BD_101029\",\"message\":\"500/500 distributed tasks completed.\",\"params\":{\"completedTasks\":\"500\",\"totalTasks\":\"500\"}}\n",
      "{\"messageCode\":\"BD_101028\",\"message\":\"Starting new distributed job with 522 tasks.\",\"params\":{\"totalTasks\":\"522\"}}\n",
      "{\"messageCode\":\"BD_101029\",\"message\":\"5/522 distributed tasks completed.\",\"params\":{\"completedTasks\":\"5\",\"totalTasks\":\"522\"}}\n",
      "{\"messageCode\":\"BD_101029\",\"message\":\"28/522 distributed tasks completed.\",\"params\":{\"completedTasks\":\"28\",\"totalTasks\":\"522\"}}\n",
      "{\"messageCode\":\"BD_101029\",\"message\":\"47/522 distributed tasks completed.\",\"params\":{\"completedTasks\":\"47\",\"totalTasks\":\"522\"}}\n",
      "{\"messageCode\":\"BD_101029\",\"message\":\"67/522 distributed tasks completed.\",\"params\":{\"completedTasks\":\"67\",\"totalTasks\":\"522\"}}\n",
      "{\"messageCode\":\"BD_101029\",\"message\":\"83/522 distributed tasks completed.\",\"params\":{\"completedTasks\":\"83\",\"totalTasks\":\"522\"}}\n",
      "{\"messageCode\":\"BD_101029\",\"message\":\"101/522 distributed tasks completed.\",\"params\":{\"completedTasks\":\"101\",\"totalTasks\":\"522\"}}\n",
      "{\"messageCode\":\"BD_101029\",\"message\":\"114/522 distributed tasks completed.\",\"params\":{\"completedTasks\":\"114\",\"totalTasks\":\"522\"}}\n",
      "{\"messageCode\":\"BD_101029\",\"message\":\"139/522 distributed tasks completed.\",\"params\":{\"completedTasks\":\"139\",\"totalTasks\":\"522\"}}\n",
      "{\"messageCode\":\"BD_101029\",\"message\":\"157/522 distributed tasks completed.\",\"params\":{\"completedTasks\":\"157\",\"totalTasks\":\"522\"}}\n",
      "{\"messageCode\":\"BD_101029\",\"message\":\"179/522 distributed tasks completed.\",\"params\":{\"completedTasks\":\"179\",\"totalTasks\":\"522\"}}\n",
      "{\"messageCode\":\"BD_101029\",\"message\":\"194/522 distributed tasks completed.\",\"params\":{\"completedTasks\":\"194\",\"totalTasks\":\"522\"}}\n",
      "{\"messageCode\":\"BD_101029\",\"message\":\"214/522 distributed tasks completed.\",\"params\":{\"completedTasks\":\"214\",\"totalTasks\":\"522\"}}\n",
      "{\"messageCode\":\"BD_101029\",\"message\":\"232/522 distributed tasks completed.\",\"params\":{\"completedTasks\":\"232\",\"totalTasks\":\"522\"}}\n",
      "{\"messageCode\":\"BD_101029\",\"message\":\"249/522 distributed tasks completed.\",\"params\":{\"completedTasks\":\"249\",\"totalTasks\":\"522\"}}\n",
      "{\"messageCode\":\"BD_101029\",\"message\":\"268/522 distributed tasks completed.\",\"params\":{\"completedTasks\":\"268\",\"totalTasks\":\"522\"}}\n"
     ]
    },
    {
     "name": "stdout",
     "output_type": "stream",
     "text": [
      "{\"messageCode\":\"BD_101029\",\"message\":\"287/522 distributed tasks completed.\",\"params\":{\"completedTasks\":\"287\",\"totalTasks\":\"522\"}}\n",
      "{\"messageCode\":\"BD_101029\",\"message\":\"308/522 distributed tasks completed.\",\"params\":{\"completedTasks\":\"308\",\"totalTasks\":\"522\"}}\n",
      "{\"messageCode\":\"BD_101029\",\"message\":\"327/522 distributed tasks completed.\",\"params\":{\"completedTasks\":\"327\",\"totalTasks\":\"522\"}}\n",
      "{\"messageCode\":\"BD_101029\",\"message\":\"344/522 distributed tasks completed.\",\"params\":{\"completedTasks\":\"344\",\"totalTasks\":\"522\"}}\n",
      "{\"messageCode\":\"BD_101029\",\"message\":\"365/522 distributed tasks completed.\",\"params\":{\"completedTasks\":\"365\",\"totalTasks\":\"522\"}}\n",
      "{\"messageCode\":\"BD_101029\",\"message\":\"383/522 distributed tasks completed.\",\"params\":{\"completedTasks\":\"383\",\"totalTasks\":\"522\"}}\n",
      "{\"messageCode\":\"BD_101029\",\"message\":\"401/522 distributed tasks completed.\",\"params\":{\"completedTasks\":\"401\",\"totalTasks\":\"522\"}}\n",
      "{\"messageCode\":\"BD_101029\",\"message\":\"418/522 distributed tasks completed.\",\"params\":{\"completedTasks\":\"418\",\"totalTasks\":\"522\"}}\n",
      "{\"messageCode\":\"BD_101029\",\"message\":\"435/522 distributed tasks completed.\",\"params\":{\"completedTasks\":\"435\",\"totalTasks\":\"522\"}}\n",
      "{\"messageCode\":\"BD_101029\",\"message\":\"456/522 distributed tasks completed.\",\"params\":{\"completedTasks\":\"456\",\"totalTasks\":\"522\"}}\n",
      "{\"messageCode\":\"BD_101029\",\"message\":\"475/522 distributed tasks completed.\",\"params\":{\"completedTasks\":\"475\",\"totalTasks\":\"522\"}}\n",
      "{\"messageCode\":\"BD_101029\",\"message\":\"495/522 distributed tasks completed.\",\"params\":{\"completedTasks\":\"495\",\"totalTasks\":\"522\"}}\n",
      "{\"messageCode\":\"BD_101029\",\"message\":\"515/522 distributed tasks completed.\",\"params\":{\"completedTasks\":\"515\",\"totalTasks\":\"522\"}}\n",
      "{\"messageCode\":\"BD_101029\",\"message\":\"522/522 distributed tasks completed.\",\"params\":{\"completedTasks\":\"522\",\"totalTasks\":\"522\"}}\n",
      "{\"messageCode\":\"BD_101138\",\"message\":\"[Python] TypeError: 'NoneType' object is not subscriptable\",\"params\":{\"text\":\"TypeError: 'NoneType' object is not subscriptable\"}}\n"
     ]
    },
    {
     "name": "stderr",
     "output_type": "stream",
     "text": [
      "{\"messageCode\":\"BD_101138\",\"message\":\"[Python] TypeError: 'NoneType' object is not subscriptable\",\"params\":{\"text\":\"TypeError: 'NoneType' object is not subscriptable\"}}\n"
     ]
    },
    {
     "name": "stdout",
     "output_type": "stream",
     "text": [
      "{\"messageCode\":\"BD_101139\",\"message\":\"An error while executing the Python script.\"}\n"
     ]
    },
    {
     "name": "stderr",
     "output_type": "stream",
     "text": [
      "{\"messageCode\":\"BD_101139\",\"message\":\"An error while executing the Python script.\"}\n"
     ]
    },
    {
     "name": "stdout",
     "output_type": "stream",
     "text": [
      "Failed to execute (RunPythonScript).\n"
     ]
    },
    {
     "name": "stderr",
     "output_type": "stream",
     "text": [
      "Failed to execute (RunPythonScript).\n"
     ]
    },
    {
     "name": "stdout",
     "output_type": "stream",
     "text": [
      "Failed at Sat Mar 28 12:11:14 2020 (Elapsed Time: 9 minutes 20 seconds)\n",
      "Failed.\n"
     ]
    },
    {
     "name": "stderr",
     "output_type": "stream",
     "text": [
      "Failed.\n"
     ]
    },
    {
     "ename": "Exception",
     "evalue": "Job failed.",
     "output_type": "error",
     "traceback": [
      "\u001b[1;31m---------------------------------------------------------------------------\u001b[0m",
      "\u001b[1;31mException\u001b[0m                                 Traceback (most recent call last)",
      "\u001b[1;32m<ipython-input-55-6e2e59200104>\u001b[0m in \u001b[0;36m<module>\u001b[1;34m\u001b[0m\n\u001b[1;32m----> 1\u001b[1;33m \u001b[0mrun_python_script\u001b[0m\u001b[1;33m(\u001b[0m\u001b[0mcode\u001b[0m\u001b[1;33m=\u001b[0m\u001b[0mcode\u001b[0m\u001b[1;33m,\u001b[0m \u001b[0mlayers\u001b[0m\u001b[1;33m=\u001b[0m\u001b[1;33m[\u001b[0m\u001b[0mair_lyr\u001b[0m\u001b[1;33m]\u001b[0m\u001b[1;33m)\u001b[0m\u001b[1;33m\u001b[0m\u001b[1;33m\u001b[0m\u001b[0m\n\u001b[0m",
      "\u001b[1;32m~\\.conda\\envs\\tf-py-fast-arcgis\\lib\\site-packages\\arcgis\\geoanalytics\\manage_data.py\u001b[0m in \u001b[0;36mrun_python_script\u001b[1;34m(code, layers, gis, context, future)\u001b[0m\n\u001b[0;32m    157\u001b[0m             \u001b[0mgpjob\u001b[0m \u001b[1;33m=\u001b[0m \u001b[0m_execute_gp_tool\u001b[0m\u001b[1;33m(\u001b[0m\u001b[0mgis\u001b[0m\u001b[1;33m,\u001b[0m \u001b[0mtool_name\u001b[0m\u001b[1;33m,\u001b[0m \u001b[0mparams\u001b[0m\u001b[1;33m,\u001b[0m \u001b[0mparam_db\u001b[0m\u001b[1;33m,\u001b[0m \u001b[1;33m[\u001b[0m\u001b[1;33m]\u001b[0m\u001b[1;33m,\u001b[0m \u001b[0m_use_async\u001b[0m\u001b[1;33m,\u001b[0m \u001b[0murl\u001b[0m\u001b[1;33m,\u001b[0m \u001b[1;32mTrue\u001b[0m\u001b[1;33m,\u001b[0m \u001b[0mreturn_messages\u001b[0m\u001b[1;33m=\u001b[0m\u001b[1;32mFalse\u001b[0m\u001b[1;33m,\u001b[0m \u001b[0mfuture\u001b[0m\u001b[1;33m=\u001b[0m\u001b[0mfuture\u001b[0m\u001b[1;33m)\u001b[0m\u001b[1;33m\u001b[0m\u001b[1;33m\u001b[0m\u001b[0m\n\u001b[0;32m    158\u001b[0m             \u001b[1;32mreturn\u001b[0m \u001b[0mGAJob\u001b[0m\u001b[1;33m(\u001b[0m\u001b[0mgpjob\u001b[0m\u001b[1;33m=\u001b[0m\u001b[0mgpjob\u001b[0m\u001b[1;33m,\u001b[0m \u001b[0mreturn_service\u001b[0m\u001b[1;33m=\u001b[0m\u001b[1;32mNone\u001b[0m\u001b[1;33m)\u001b[0m\u001b[1;33m\u001b[0m\u001b[1;33m\u001b[0m\u001b[0m\n\u001b[1;32m--> 159\u001b[1;33m         \u001b[0mres\u001b[0m\u001b[1;33m,\u001b[0m \u001b[0mmsg\u001b[0m \u001b[1;33m=\u001b[0m \u001b[0m_execute_gp_tool\u001b[0m\u001b[1;33m(\u001b[0m\u001b[0mgis\u001b[0m\u001b[1;33m,\u001b[0m \u001b[0mtool_name\u001b[0m\u001b[1;33m,\u001b[0m \u001b[0mparams\u001b[0m\u001b[1;33m,\u001b[0m \u001b[0mparam_db\u001b[0m\u001b[1;33m,\u001b[0m \u001b[1;33m[\u001b[0m\u001b[1;33m]\u001b[0m\u001b[1;33m,\u001b[0m \u001b[0m_use_async\u001b[0m\u001b[1;33m,\u001b[0m \u001b[0murl\u001b[0m\u001b[1;33m,\u001b[0m \u001b[1;32mTrue\u001b[0m\u001b[1;33m,\u001b[0m \u001b[0mreturn_messages\u001b[0m\u001b[1;33m=\u001b[0m\u001b[1;32mTrue\u001b[0m\u001b[1;33m,\u001b[0m \u001b[0mfuture\u001b[0m\u001b[1;33m=\u001b[0m\u001b[0mfuture\u001b[0m\u001b[1;33m)\u001b[0m\u001b[1;33m\u001b[0m\u001b[1;33m\u001b[0m\u001b[0m\n\u001b[0m\u001b[0;32m    160\u001b[0m         \u001b[0mmsg\u001b[0m \u001b[1;33m=\u001b[0m \u001b[0mmsg\u001b[0m\u001b[1;33m[\u001b[0m\u001b[1;34m'messages'\u001b[0m\u001b[1;33m]\u001b[0m\u001b[1;33m\u001b[0m\u001b[1;33m\u001b[0m\u001b[0m\n\u001b[0;32m    161\u001b[0m         \u001b[1;32mreturn\u001b[0m \u001b[0mmsg\u001b[0m\u001b[1;33m\u001b[0m\u001b[1;33m\u001b[0m\u001b[0m\n",
      "\u001b[1;32m~\\.conda\\envs\\tf-py-fast-arcgis\\lib\\site-packages\\arcgis\\geoprocessing\\_support.py\u001b[0m in \u001b[0;36m_execute_gp_tool\u001b[1;34m(gis, task_name, params, param_db, return_values, use_async, url, webtool, add_token, return_messages, future)\u001b[0m\n\u001b[0;32m    396\u001b[0m             \u001b[0mgpjob\u001b[0m \u001b[1;33m=\u001b[0m \u001b[0mGPJob\u001b[0m\u001b[1;33m(\u001b[0m\u001b[0mfuture\u001b[0m\u001b[1;33m=\u001b[0m\u001b[0mfuture\u001b[0m\u001b[1;33m,\u001b[0m \u001b[0mgptool\u001b[0m\u001b[1;33m=\u001b[0m\u001b[0mgptool\u001b[0m\u001b[1;33m,\u001b[0m \u001b[0mjobid\u001b[0m\u001b[1;33m=\u001b[0m\u001b[0mjob_id\u001b[0m\u001b[1;33m,\u001b[0m \u001b[0mtask_url\u001b[0m\u001b[1;33m=\u001b[0m\u001b[0mtask_url\u001b[0m\u001b[1;33m,\u001b[0m \u001b[0mgis\u001b[0m\u001b[1;33m=\u001b[0m\u001b[0mgptool\u001b[0m\u001b[1;33m.\u001b[0m\u001b[0m_gis\u001b[0m\u001b[1;33m,\u001b[0m \u001b[0mnotify\u001b[0m\u001b[1;33m=\u001b[0m\u001b[0marcgis\u001b[0m\u001b[1;33m.\u001b[0m\u001b[0menv\u001b[0m\u001b[1;33m.\u001b[0m\u001b[0mverbose\u001b[0m\u001b[1;33m)\u001b[0m\u001b[1;33m\u001b[0m\u001b[1;33m\u001b[0m\u001b[0m\n\u001b[0;32m    397\u001b[0m             \u001b[1;32mreturn\u001b[0m \u001b[0mgpjob\u001b[0m\u001b[1;33m\u001b[0m\u001b[1;33m\u001b[0m\u001b[0m\n\u001b[1;32m--> 398\u001b[1;33m         \u001b[0mjob_info\u001b[0m \u001b[1;33m=\u001b[0m \u001b[0m_analysis_job_status\u001b[0m\u001b[1;33m(\u001b[0m\u001b[0mgptool\u001b[0m\u001b[1;33m,\u001b[0m \u001b[0mtask_url\u001b[0m\u001b[1;33m,\u001b[0m \u001b[0mjob_info\u001b[0m\u001b[1;33m)\u001b[0m\u001b[1;33m\u001b[0m\u001b[1;33m\u001b[0m\u001b[0m\n\u001b[0m\u001b[0;32m    399\u001b[0m         \u001b[0mresp\u001b[0m \u001b[1;33m=\u001b[0m \u001b[0m_analysis_job_results\u001b[0m\u001b[1;33m(\u001b[0m\u001b[0mgptool\u001b[0m\u001b[1;33m,\u001b[0m \u001b[0mtask_url\u001b[0m\u001b[1;33m,\u001b[0m \u001b[0mjob_info\u001b[0m\u001b[1;33m,\u001b[0m \u001b[0mjob_id\u001b[0m\u001b[1;33m)\u001b[0m\u001b[1;33m\u001b[0m\u001b[1;33m\u001b[0m\u001b[0m\n\u001b[0;32m    400\u001b[0m \u001b[1;33m\u001b[0m\u001b[0m\n",
      "\u001b[1;32m~\\.conda\\envs\\tf-py-fast-arcgis\\lib\\site-packages\\arcgis\\geoprocessing\\_support.py\u001b[0m in \u001b[0;36m_analysis_job_status\u001b[1;34m(gptool, task_url, job_info)\u001b[0m\n\u001b[0;32m    229\u001b[0m \u001b[1;33m\u001b[0m\u001b[0m\n\u001b[0;32m    230\u001b[0m                     \u001b[1;32mif\u001b[0m \u001b[0mjob_response\u001b[0m\u001b[1;33m.\u001b[0m\u001b[0mget\u001b[0m\u001b[1;33m(\u001b[0m\u001b[1;34m\"jobStatus\"\u001b[0m\u001b[1;33m)\u001b[0m \u001b[1;33m==\u001b[0m \u001b[1;34m\"esriJobFailed\"\u001b[0m\u001b[1;33m:\u001b[0m\u001b[1;33m\u001b[0m\u001b[1;33m\u001b[0m\u001b[0m\n\u001b[1;32m--> 231\u001b[1;33m                         \u001b[1;32mraise\u001b[0m \u001b[0mException\u001b[0m\u001b[1;33m(\u001b[0m\u001b[1;34m\"Job failed.\"\u001b[0m\u001b[1;33m)\u001b[0m\u001b[1;33m\u001b[0m\u001b[1;33m\u001b[0m\u001b[0m\n\u001b[0m\u001b[0;32m    232\u001b[0m                     \u001b[1;32melif\u001b[0m \u001b[0mjob_response\u001b[0m\u001b[1;33m.\u001b[0m\u001b[0mget\u001b[0m\u001b[1;33m(\u001b[0m\u001b[1;34m\"jobStatus\"\u001b[0m\u001b[1;33m)\u001b[0m \u001b[1;33m==\u001b[0m \u001b[1;34m\"esriJobCancelled\"\u001b[0m\u001b[1;33m:\u001b[0m\u001b[1;33m\u001b[0m\u001b[1;33m\u001b[0m\u001b[0m\n\u001b[0;32m    233\u001b[0m                         \u001b[1;32mraise\u001b[0m \u001b[0mException\u001b[0m\u001b[1;33m(\u001b[0m\u001b[1;34m\"Job cancelled.\"\u001b[0m\u001b[1;33m)\u001b[0m\u001b[1;33m\u001b[0m\u001b[1;33m\u001b[0m\u001b[0m\n",
      "\u001b[1;31mException\u001b[0m: Job failed."
     ]
    }
   ],
   "source": [
    "run_python_script(code=code, layers=[air_lyr])"
   ]
  },
  {
   "cell_type": "code",
   "execution_count": 36,
   "metadata": {},
   "outputs": [],
   "source": [
    "item1 = gis.content.search('df_pm25', 'feature layer')[0]"
   ]
  },
  {
   "cell_type": "code",
   "execution_count": 37,
   "metadata": {},
   "outputs": [],
   "source": [
    "item2 = gis.content.search('df_temp', 'feature layer')[0]"
   ]
  },
  {
   "cell_type": "code",
   "execution_count": 38,
   "metadata": {},
   "outputs": [],
   "source": [
    "item3 = gis.content.search('df_pm10', 'feature layer')[0]"
   ]
  },
  {
   "cell_type": "code",
   "execution_count": null,
   "metadata": {},
   "outputs": [],
   "source": []
  },
  {
   "cell_type": "code",
   "execution_count": null,
   "metadata": {},
   "outputs": [],
   "source": []
  },
  {
   "cell_type": "code",
   "execution_count": null,
   "metadata": {},
   "outputs": [],
   "source": []
  },
  {
   "cell_type": "code",
   "execution_count": 10,
   "metadata": {},
   "outputs": [],
   "source": [
    "item = gis.content.search('point_data_air_quality', 'feature layer')[0]"
   ]
  },
  {
   "cell_type": "code",
   "execution_count": 11,
   "metadata": {},
   "outputs": [
    {
     "data": {
      "text/html": [
       "<div class=\"item_container\" style=\"height: auto; overflow: hidden; border: 1px solid #cfcfcf; border-radius: 2px; background: #f6fafa; line-height: 1.21429em; padding: 10px;\">\n",
       "                    <div class=\"item_left\" style=\"width: 210px; float: left;\">\n",
       "                       <a href='https://ndhagsb01.esri.com/portal/home/item.html?id=eab2ff5d0e8b49518fa7329b5b73f56f' target='_blank'>\n",
       "                        <img src='https://ndhagsb01.esri.com/portal/portalimages/desktopapp.png' class=\"itemThumbnail\">\n",
       "                       </a>\n",
       "                    </div>\n",
       "\n",
       "                    <div class=\"item_right\"     style=\"float: none; width: auto; overflow: hidden;\">\n",
       "                        <a href='https://ndhagsb01.esri.com/portal/home/item.html?id=eab2ff5d0e8b49518fa7329b5b73f56f' target='_blank'><b>point_data_air_quality313441</b>\n",
       "                        </a>\n",
       "                        <br/><img src='https://ndhagsb01.esri.com/portal/home/js/jsapi/esri/css/images/item_type_icons/table16.png' style=\"vertical-align:middle;\">Table Layer by admin\n",
       "                        <br/>Last Modified: March 27, 2020\n",
       "                        <br/>0 comments, 3 views\n",
       "                    </div>\n",
       "                </div>\n",
       "                "
      ],
      "text/plain": [
       "<Item title:\"point_data_air_quality313441\" type:Table Layer owner:admin>"
      ]
     },
     "execution_count": 11,
     "metadata": {},
     "output_type": "execute_result"
    }
   ],
   "source": [
    "item"
   ]
  },
  {
   "cell_type": "code",
   "execution_count": 13,
   "metadata": {},
   "outputs": [],
   "source": [
    "df = item.tables[0].query(as_df=True)"
   ]
  },
  {
   "cell_type": "code",
   "execution_count": 15,
   "metadata": {},
   "outputs": [
    {
     "data": {
      "text/plain": [
       "Index(['Barometric_pressure', 'Latitude', 'Latitude1', 'Latitude2',\n",
       "       'Latitude3', 'Latitude4', 'Latitude5', 'Latitude6', 'Longitude',\n",
       "       'Longitude1', 'Longitude2', 'Longitude3', 'Longitude4', 'Longitude5',\n",
       "       'Longitude6', 'OBJECTID', 'Outdoor_Temperature', 'PM10___LC',\n",
       "       'PM2_5___Local_Conditions', 'Relative_Humidity',\n",
       "       'Wind_Direction___Resultant', 'Wind_Speed___Resultant', 'datetime',\n",
       "       'globalid', 'unique_id'],\n",
       "      dtype='object')"
      ]
     },
     "execution_count": 15,
     "metadata": {},
     "output_type": "execute_result"
    }
   ],
   "source": [
    "df.columns"
   ]
  },
  {
   "cell_type": "code",
   "execution_count": 16,
   "metadata": {
    "scrolled": true
   },
   "outputs": [],
   "source": [
    "df = df[['Barometric_pressure', 'Latitude', 'Longitude', 'Outdoor_Temperature', 'PM10___LC',\n",
    "       'PM2_5___Local_Conditions', 'Relative_Humidity',\n",
    "       'Wind_Direction___Resultant', 'Wind_Speed___Resultant', 'datetime',\n",
    "       'globalid', 'unique_id']]"
   ]
  },
  {
   "cell_type": "code",
   "execution_count": 18,
   "metadata": {},
   "outputs": [],
   "source": [
    "df.to_csv('AirQualityData')"
   ]
  },
  {
   "cell_type": "code",
   "execution_count": 21,
   "metadata": {},
   "outputs": [],
   "source": [
    "from arcgis.features import GeoAccessor"
   ]
  },
  {
   "cell_type": "code",
   "execution_count": 22,
   "metadata": {},
   "outputs": [
    {
     "name": "stderr",
     "output_type": "stream",
     "text": [
      "C:\\Users\\pri10421.AVWORLD\\.conda\\envs\\tf-py-fast-arcgis\\lib\\site-packages\\arcgis\\features\\geo\\_io\\fileops.py:150: SettingWithCopyWarning: \n",
      "A value is trying to be set on a copy of a slice from a DataFrame.\n",
      "Try using .loc[row_indexer,col_indexer] = value instead\n",
      "\n",
      "See the caveats in the documentation: http://pandas.pydata.org/pandas-docs/stable/user_guide/indexing.html#returning-a-view-versus-a-copy\n",
      "  df['SHAPE'] = geoms\n",
      "C:\\Users\\pri10421.AVWORLD\\.conda\\envs\\tf-py-fast-arcgis\\lib\\site-packages\\pandas\\core\\indexing.py:494: SettingWithCopyWarning: \n",
      "A value is trying to be set on a copy of a slice from a DataFrame.\n",
      "Try using .loc[row_indexer,col_indexer] = value instead\n",
      "\n",
      "See the caveats in the documentation: http://pandas.pydata.org/pandas-docs/stable/user_guide/indexing.html#returning-a-view-versus-a-copy\n",
      "  self.obj[item] = s\n",
      "C:\\Users\\pri10421.AVWORLD\\.conda\\envs\\tf-py-fast-arcgis\\lib\\site-packages\\arcgis\\features\\geo\\_accessor.py:1021: SettingWithCopyWarning: \n",
      "A value is trying to be set on a copy of a slice from a DataFrame.\n",
      "Try using .loc[row_indexer,col_indexer] = value instead\n",
      "\n",
      "See the caveats in the documentation: http://pandas.pydata.org/pandas-docs/stable/user_guide/indexing.html#returning-a-view-versus-a-copy\n",
      "  self._data[col] = GeoArray(self._data[col])\n"
     ]
    }
   ],
   "source": [
    "sdf = GeoAccessor.from_xy(df, 'Longitude', 'Latitude')"
   ]
  },
  {
   "cell_type": "code",
   "execution_count": 33,
   "metadata": {},
   "outputs": [
    {
     "data": {
      "text/plain": [
       "Barometric_pressure            float64\n",
       "Latitude                       float64\n",
       "Longitude                      float64\n",
       "Outdoor_Temperature            float64\n",
       "PM10___LC                      float64\n",
       "PM2_5___Local_Conditions       float64\n",
       "Relative_Humidity              float64\n",
       "Wind_Direction___Resultant     float64\n",
       "Wind_Speed___Resultant         float64\n",
       "datetime                        object\n",
       "globalid                        object\n",
       "unique_id                       object\n",
       "SHAPE                         geometry\n",
       "dtype: object"
      ]
     },
     "execution_count": 33,
     "metadata": {},
     "output_type": "execute_result"
    }
   ],
   "source": [
    "sdf.dtypes"
   ]
  },
  {
   "cell_type": "code",
   "execution_count": 24,
   "metadata": {},
   "outputs": [],
   "source": [
    "data = gis.content.import_data(sdf, 'air_quality_fl')"
   ]
  },
  {
   "cell_type": "code",
   "execution_count": 31,
   "metadata": {},
   "outputs": [
    {
     "data": {
      "text/html": [
       "<div class=\"item_container\" style=\"height: auto; overflow: hidden; border: 1px solid #cfcfcf; border-radius: 2px; background: #f6fafa; line-height: 1.21429em; padding: 10px;\">\n",
       "                    <div class=\"item_left\" style=\"width: 210px; float: left;\">\n",
       "                       <a href='https://ndhagsb01.esri.com/portal/home/item.html?id=9ef77272783747c1924d81bb90d5e924' target='_blank'>\n",
       "                        <img src='https://ndhagsb01.esri.com/portal/portalimages/desktopapp.png' class=\"itemThumbnail\">\n",
       "                       </a>\n",
       "                    </div>\n",
       "\n",
       "                    <div class=\"item_right\"     style=\"float: none; width: auto; overflow: hidden;\">\n",
       "                        <a href='https://ndhagsb01.esri.com/portal/home/item.html?id=9ef77272783747c1924d81bb90d5e924' target='_blank'><b>cc38faf8abd4407b9f735361024906f1</b>\n",
       "                        </a>\n",
       "                        <br/><img src='https://ndhagsb01.esri.com/portal/home/js/jsapi/esri/css/images/item_type_icons/featureshosted16.png' style=\"vertical-align:middle;\">Feature Layer Collection by admin\n",
       "                        <br/>Last Modified: March 27, 2020\n",
       "                        <br/>0 comments, 0 views\n",
       "                    </div>\n",
       "                </div>\n",
       "                "
      ],
      "text/plain": [
       "<Item title:\"cc38faf8abd4407b9f735361024906f1\" type:Feature Layer Collection owner:admin>"
      ]
     },
     "execution_count": 31,
     "metadata": {},
     "output_type": "execute_result"
    }
   ],
   "source": [
    "data"
   ]
  },
  {
   "cell_type": "code",
   "execution_count": 26,
   "metadata": {},
   "outputs": [],
   "source": [
    "df = data.layers[0].query(as_df=True)"
   ]
  },
  {
   "cell_type": "code",
   "execution_count": 27,
   "metadata": {
    "scrolled": true
   },
   "outputs": [
    {
     "data": {
      "text/html": [
       "<div>\n",
       "<style scoped>\n",
       "    .dataframe tbody tr th:only-of-type {\n",
       "        vertical-align: middle;\n",
       "    }\n",
       "\n",
       "    .dataframe tbody tr th {\n",
       "        vertical-align: top;\n",
       "    }\n",
       "\n",
       "    .dataframe thead th {\n",
       "        text-align: right;\n",
       "    }\n",
       "</style>\n",
       "<table border=\"1\" class=\"dataframe\">\n",
       "  <thead>\n",
       "    <tr style=\"text-align: right;\">\n",
       "      <th></th>\n",
       "      <th>SHAPE</th>\n",
       "      <th>barometric</th>\n",
       "      <th>datetime</th>\n",
       "      <th>fid</th>\n",
       "      <th>globalid</th>\n",
       "      <th>latitude</th>\n",
       "      <th>longitude</th>\n",
       "      <th>outdoor_te</th>\n",
       "      <th>pm10___lc</th>\n",
       "      <th>pm2_5___lo</th>\n",
       "      <th>relative_h</th>\n",
       "      <th>unique_id</th>\n",
       "      <th>wind_direc</th>\n",
       "      <th>wind_speed</th>\n",
       "    </tr>\n",
       "  </thead>\n",
       "  <tbody>\n",
       "    <tr>\n",
       "      <td>0</td>\n",
       "      <td>{\"x\": -13326772.361100657, \"y\": 4413970.097713...</td>\n",
       "      <td>999.5</td>\n",
       "      <td>2018-02-10 10:00</td>\n",
       "      <td>1</td>\n",
       "      <td>{6EFB48BA-4ED6-E70C-5C39-4BFDBB5445D9}</td>\n",
       "      <td>36.819449</td>\n",
       "      <td>-119.716433</td>\n",
       "      <td>62.0</td>\n",
       "      <td>44.6</td>\n",
       "      <td>30.1</td>\n",
       "      <td>57.0</td>\n",
       "      <td>060195001</td>\n",
       "      <td>282.3</td>\n",
       "      <td>3.9</td>\n",
       "    </tr>\n",
       "    <tr>\n",
       "      <td>1</td>\n",
       "      <td>{\"x\": -13326772.361100657, \"y\": 4413970.097713...</td>\n",
       "      <td>1008.0</td>\n",
       "      <td>2018-02-21 07:00</td>\n",
       "      <td>2</td>\n",
       "      <td>{721F4790-B0D6-6A19-3BF0-430AEBF629A0}</td>\n",
       "      <td>36.819449</td>\n",
       "      <td>-119.716433</td>\n",
       "      <td>34.0</td>\n",
       "      <td>5.1</td>\n",
       "      <td>15.3</td>\n",
       "      <td>70.0</td>\n",
       "      <td>060195001</td>\n",
       "      <td>167.1</td>\n",
       "      <td>0.9</td>\n",
       "    </tr>\n",
       "    <tr>\n",
       "      <td>2</td>\n",
       "      <td>{\"x\": -13326772.361100657, \"y\": 4413970.097713...</td>\n",
       "      <td>1000.4</td>\n",
       "      <td>2018-02-18 09:00</td>\n",
       "      <td>3</td>\n",
       "      <td>{42A94F87-86D2-E7BA-9FCC-D81206AECF47}</td>\n",
       "      <td>36.819449</td>\n",
       "      <td>-119.716433</td>\n",
       "      <td>56.0</td>\n",
       "      <td>0.4</td>\n",
       "      <td>15.7</td>\n",
       "      <td>44.0</td>\n",
       "      <td>060195001</td>\n",
       "      <td>273.7</td>\n",
       "      <td>3.7</td>\n",
       "    </tr>\n",
       "    <tr>\n",
       "      <td>3</td>\n",
       "      <td>{\"x\": -13326772.361100657, \"y\": 4413970.097713...</td>\n",
       "      <td>1010.0</td>\n",
       "      <td>2018-02-08 07:00</td>\n",
       "      <td>4</td>\n",
       "      <td>{3FD7F79D-3A61-DE97-0866-57DFAD866787}</td>\n",
       "      <td>36.819449</td>\n",
       "      <td>-119.716433</td>\n",
       "      <td>47.0</td>\n",
       "      <td>55.6</td>\n",
       "      <td>23.0</td>\n",
       "      <td>83.0</td>\n",
       "      <td>060195001</td>\n",
       "      <td>91.5</td>\n",
       "      <td>1.6</td>\n",
       "    </tr>\n",
       "    <tr>\n",
       "      <td>4</td>\n",
       "      <td>{\"x\": -13326772.361100657, \"y\": 4413970.097713...</td>\n",
       "      <td>1005.9</td>\n",
       "      <td>2018-02-09 00:00</td>\n",
       "      <td>5</td>\n",
       "      <td>{86EC21C3-4035-8FF7-473E-9B5C8D7D97D7}</td>\n",
       "      <td>36.819449</td>\n",
       "      <td>-119.716433</td>\n",
       "      <td>53.0</td>\n",
       "      <td>43.0</td>\n",
       "      <td>26.3</td>\n",
       "      <td>77.0</td>\n",
       "      <td>060195001</td>\n",
       "      <td>80.6</td>\n",
       "      <td>1.1</td>\n",
       "    </tr>\n",
       "    <tr>\n",
       "      <td>...</td>\n",
       "      <td>...</td>\n",
       "      <td>...</td>\n",
       "      <td>...</td>\n",
       "      <td>...</td>\n",
       "      <td>...</td>\n",
       "      <td>...</td>\n",
       "      <td>...</td>\n",
       "      <td>...</td>\n",
       "      <td>...</td>\n",
       "      <td>...</td>\n",
       "      <td>...</td>\n",
       "      <td>...</td>\n",
       "      <td>...</td>\n",
       "      <td>...</td>\n",
       "    </tr>\n",
       "    <tr>\n",
       "      <td>663490</td>\n",
       "      <td>{\"x\": -9865256.95000663, \"y\": 5383189.96017645...</td>\n",
       "      <td>1006.0</td>\n",
       "      <td>2019-01-29 06:00</td>\n",
       "      <td>663491</td>\n",
       "      <td>{90B0BE4B-F659-F196-A73E-F7264B32131B}</td>\n",
       "      <td>43.466111</td>\n",
       "      <td>-88.621111</td>\n",
       "      <td>-2.0</td>\n",
       "      <td>11.3</td>\n",
       "      <td>6.6</td>\n",
       "      <td>78.0</td>\n",
       "      <td>550270001</td>\n",
       "      <td>280.0</td>\n",
       "      <td>9.8</td>\n",
       "    </tr>\n",
       "    <tr>\n",
       "      <td>663491</td>\n",
       "      <td>{\"x\": -9865256.95000663, \"y\": 5383189.96017645...</td>\n",
       "      <td>1023.0</td>\n",
       "      <td>2019-01-31 05:00</td>\n",
       "      <td>663492</td>\n",
       "      <td>{6B1F9982-14F6-1F7B-EB50-CAA4D60C7D91}</td>\n",
       "      <td>43.466111</td>\n",
       "      <td>-88.621111</td>\n",
       "      <td>-26.0</td>\n",
       "      <td>14.7</td>\n",
       "      <td>7.1</td>\n",
       "      <td>70.0</td>\n",
       "      <td>550270001</td>\n",
       "      <td>247.0</td>\n",
       "      <td>4.6</td>\n",
       "    </tr>\n",
       "    <tr>\n",
       "      <td>663492</td>\n",
       "      <td>{\"x\": -9865256.95000663, \"y\": 5383189.96017645...</td>\n",
       "      <td>1013.0</td>\n",
       "      <td>2019-02-17 22:00</td>\n",
       "      <td>663493</td>\n",
       "      <td>{D6A9BE01-C26F-4A35-6191-C8A4FADFC1E8}</td>\n",
       "      <td>43.466111</td>\n",
       "      <td>-88.621111</td>\n",
       "      <td>19.0</td>\n",
       "      <td>7.7</td>\n",
       "      <td>4.6</td>\n",
       "      <td>90.0</td>\n",
       "      <td>550270001</td>\n",
       "      <td>8.0</td>\n",
       "      <td>7.3</td>\n",
       "    </tr>\n",
       "    <tr>\n",
       "      <td>663493</td>\n",
       "      <td>{\"x\": -9865256.95000663, \"y\": 5383189.96017645...</td>\n",
       "      <td>1023.0</td>\n",
       "      <td>2019-02-18 09:00</td>\n",
       "      <td>663494</td>\n",
       "      <td>{6E055DB8-06D9-2D3C-628B-1D42428BF868}</td>\n",
       "      <td>43.466111</td>\n",
       "      <td>-88.621111</td>\n",
       "      <td>17.0</td>\n",
       "      <td>6.5</td>\n",
       "      <td>4.1</td>\n",
       "      <td>71.0</td>\n",
       "      <td>550270001</td>\n",
       "      <td>12.0</td>\n",
       "      <td>7.4</td>\n",
       "    </tr>\n",
       "    <tr>\n",
       "      <td>663494</td>\n",
       "      <td>{\"x\": -9865256.95000663, \"y\": 5383189.96017645...</td>\n",
       "      <td>1000.0</td>\n",
       "      <td>2019-02-20 14:00</td>\n",
       "      <td>663495</td>\n",
       "      <td>{97361950-B942-18AA-8214-032AB65E8666}</td>\n",
       "      <td>43.466111</td>\n",
       "      <td>-88.621111</td>\n",
       "      <td>32.0</td>\n",
       "      <td>5.8</td>\n",
       "      <td>4.0</td>\n",
       "      <td>97.0</td>\n",
       "      <td>550270001</td>\n",
       "      <td>146.0</td>\n",
       "      <td>9.5</td>\n",
       "    </tr>\n",
       "  </tbody>\n",
       "</table>\n",
       "<p>663495 rows × 14 columns</p>\n",
       "</div>"
      ],
      "text/plain": [
       "                                                    SHAPE  barometric  \\\n",
       "0       {\"x\": -13326772.361100657, \"y\": 4413970.097713...       999.5   \n",
       "1       {\"x\": -13326772.361100657, \"y\": 4413970.097713...      1008.0   \n",
       "2       {\"x\": -13326772.361100657, \"y\": 4413970.097713...      1000.4   \n",
       "3       {\"x\": -13326772.361100657, \"y\": 4413970.097713...      1010.0   \n",
       "4       {\"x\": -13326772.361100657, \"y\": 4413970.097713...      1005.9   \n",
       "...                                                   ...         ...   \n",
       "663490  {\"x\": -9865256.95000663, \"y\": 5383189.96017645...      1006.0   \n",
       "663491  {\"x\": -9865256.95000663, \"y\": 5383189.96017645...      1023.0   \n",
       "663492  {\"x\": -9865256.95000663, \"y\": 5383189.96017645...      1013.0   \n",
       "663493  {\"x\": -9865256.95000663, \"y\": 5383189.96017645...      1023.0   \n",
       "663494  {\"x\": -9865256.95000663, \"y\": 5383189.96017645...      1000.0   \n",
       "\n",
       "                datetime     fid                                globalid  \\\n",
       "0       2018-02-10 10:00       1  {6EFB48BA-4ED6-E70C-5C39-4BFDBB5445D9}   \n",
       "1       2018-02-21 07:00       2  {721F4790-B0D6-6A19-3BF0-430AEBF629A0}   \n",
       "2       2018-02-18 09:00       3  {42A94F87-86D2-E7BA-9FCC-D81206AECF47}   \n",
       "3       2018-02-08 07:00       4  {3FD7F79D-3A61-DE97-0866-57DFAD866787}   \n",
       "4       2018-02-09 00:00       5  {86EC21C3-4035-8FF7-473E-9B5C8D7D97D7}   \n",
       "...                  ...     ...                                     ...   \n",
       "663490  2019-01-29 06:00  663491  {90B0BE4B-F659-F196-A73E-F7264B32131B}   \n",
       "663491  2019-01-31 05:00  663492  {6B1F9982-14F6-1F7B-EB50-CAA4D60C7D91}   \n",
       "663492  2019-02-17 22:00  663493  {D6A9BE01-C26F-4A35-6191-C8A4FADFC1E8}   \n",
       "663493  2019-02-18 09:00  663494  {6E055DB8-06D9-2D3C-628B-1D42428BF868}   \n",
       "663494  2019-02-20 14:00  663495  {97361950-B942-18AA-8214-032AB65E8666}   \n",
       "\n",
       "         latitude   longitude  outdoor_te  pm10___lc  pm2_5___lo  relative_h  \\\n",
       "0       36.819449 -119.716433        62.0       44.6        30.1        57.0   \n",
       "1       36.819449 -119.716433        34.0        5.1        15.3        70.0   \n",
       "2       36.819449 -119.716433        56.0        0.4        15.7        44.0   \n",
       "3       36.819449 -119.716433        47.0       55.6        23.0        83.0   \n",
       "4       36.819449 -119.716433        53.0       43.0        26.3        77.0   \n",
       "...           ...         ...         ...        ...         ...         ...   \n",
       "663490  43.466111  -88.621111        -2.0       11.3         6.6        78.0   \n",
       "663491  43.466111  -88.621111       -26.0       14.7         7.1        70.0   \n",
       "663492  43.466111  -88.621111        19.0        7.7         4.6        90.0   \n",
       "663493  43.466111  -88.621111        17.0        6.5         4.1        71.0   \n",
       "663494  43.466111  -88.621111        32.0        5.8         4.0        97.0   \n",
       "\n",
       "        unique_id  wind_direc  wind_speed  \n",
       "0       060195001       282.3         3.9  \n",
       "1       060195001       167.1         0.9  \n",
       "2       060195001       273.7         3.7  \n",
       "3       060195001        91.5         1.6  \n",
       "4       060195001        80.6         1.1  \n",
       "...           ...         ...         ...  \n",
       "663490  550270001       280.0         9.8  \n",
       "663491  550270001       247.0         4.6  \n",
       "663492  550270001         8.0         7.3  \n",
       "663493  550270001        12.0         7.4  \n",
       "663494  550270001       146.0         9.5  \n",
       "\n",
       "[663495 rows x 14 columns]"
      ]
     },
     "execution_count": 27,
     "metadata": {},
     "output_type": "execute_result"
    }
   ],
   "source": [
    "df"
   ]
  },
  {
   "cell_type": "code",
   "execution_count": null,
   "metadata": {},
   "outputs": [],
   "source": []
  },
  {
   "cell_type": "code",
   "execution_count": 29,
   "metadata": {
    "scrolled": true
   },
   "outputs": [
    {
     "data": {
      "application/vnd.jupyter.widget-view+json": {
       "model_id": "1ba1a330f613460cb89d8eca0d03c090",
       "version_major": 2,
       "version_minor": 0
      },
      "text/plain": [
       "MapView(layout=Layout(height='400px', width='100%'))"
      ]
     },
     "metadata": {},
     "output_type": "display_data"
    },
    {
     "data": {
      "text/html": [
       "<div class=\"map-static-img-preview-311fae4c-af11-4ed7-9793-1ad6a35bda81\"><img src=\"\"></img></div>"
      ],
      "text/plain": [
       "<IPython.core.display.HTML object>"
      ]
     },
     "metadata": {},
     "output_type": "display_data"
    }
   ],
   "source": [
    "m1 = gis.map('USA')\n",
    "m1"
   ]
  },
  {
   "cell_type": "code",
   "execution_count": 30,
   "metadata": {},
   "outputs": [],
   "source": [
    "m1.add_layer(data.layers[0])"
   ]
  },
  {
   "cell_type": "code",
   "execution_count": null,
   "metadata": {},
   "outputs": [],
   "source": []
  }
 ],
 "metadata": {
  "kernelspec": {
   "display_name": "Python 3",
   "language": "python",
   "name": "python3"
  },
  "language_info": {
   "codemirror_mode": {
    "name": "ipython",
    "version": 3
   },
   "file_extension": ".py",
   "mimetype": "text/x-python",
   "name": "python",
   "nbconvert_exporter": "python",
   "pygments_lexer": "ipython3",
   "version": "3.6.9"
  }
 },
 "nbformat": 4,
 "nbformat_minor": 2
}
