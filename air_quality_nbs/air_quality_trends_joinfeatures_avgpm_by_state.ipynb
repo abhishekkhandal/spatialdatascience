{
 "cells": [
  {
   "cell_type": "code",
   "execution_count": 40,
   "metadata": {},
   "outputs": [],
   "source": [
    "from datetime import datetime as dt\n",
    "from arcgis.gis import GIS\n",
    "from arcgis.geoanalytics.analyze_patterns import forest, glr\n",
    "gis = GIS('https://ndhagsb01.esri.com/portal', \n",
    "          'admin', \n",
    "          'esri.agp2', \n",
    "          profile=\"your_enterprise_portal\", verify_cert=False)"
   ]
  },
  {
   "cell_type": "code",
   "execution_count": 41,
   "metadata": {},
   "outputs": [],
   "source": [
    "%matplotlib inline\n",
    "\n",
    "import matplotlib.pyplot as plt\n",
    "import pandas as pd\n",
    "from datetime import datetime as dt\n",
    "\n",
    "import arcgis\n",
    "import arcgis.geoanalytics\n",
    "from arcgis.gis import GIS\n",
    "\n",
    "from arcgis.geoanalytics.manage_data import run_python_script\n",
    "from arcgis.geoanalytics.analyze_patterns import forest, glr\n",
    "from arcgis.geoanalytics.summarize_data import describe_dataset"
   ]
  },
  {
   "cell_type": "code",
   "execution_count": 42,
   "metadata": {},
   "outputs": [],
   "source": [
    "import arcgis\n",
    "arcgis.env.verbose = True"
   ]
  },
  {
   "cell_type": "code",
   "execution_count": 55,
   "metadata": {},
   "outputs": [
    {
     "data": {
      "text/plain": [
       "<DatastoreManager for https://ndhga01.esri.com:6443/arcgis/admin>"
      ]
     },
     "execution_count": 55,
     "metadata": {},
     "output_type": "execute_result"
    }
   ],
   "source": [
    "bigdata_datastore_manager = arcgis.geoanalytics.get_datastores()\n",
    "bigdata_datastore_manager"
   ]
  },
  {
   "cell_type": "code",
   "execution_count": 72,
   "metadata": {},
   "outputs": [
    {
     "name": "stdout",
     "output_type": "stream",
     "text": [
      "Created Big Data file share for pm2017_4326\n"
     ]
    }
   ],
   "source": [
    "data_item = bigdata_datastore_manager.add_bigdata(\"pm2017_4326\", r\"\\\\DELDEVD014\\pm2017\")"
   ]
  },
  {
   "cell_type": "code",
   "execution_count": 56,
   "metadata": {},
   "outputs": [
    {
     "data": {
      "text/plain": [
       "[<Datastore title:\"/bigDataFileShares/air_quality_2017_18_19\" type:\"bigDataFileShare\">,\n",
       " <Datastore title:\"/bigDataFileShares/air_quality_2019\" type:\"bigDataFileShare\">,\n",
       " <Datastore title:\"/bigDataFileShares/ChicagoCrime_2001_2020\" type:\"bigDataFileShare\">,\n",
       " <Datastore title:\"/bigDataFileShares/pm2017\" type:\"bigDataFileShare\">]"
      ]
     },
     "execution_count": 56,
     "metadata": {},
     "output_type": "execute_result"
    }
   ],
   "source": [
    "bigdata_fileshares = bigdata_datastore_manager.search()\n",
    "bigdata_fileshares"
   ]
  },
  {
   "cell_type": "code",
   "execution_count": 57,
   "metadata": {},
   "outputs": [],
   "source": [
    "file_share_folder = bigdata_fileshares[-1]"
   ]
  },
  {
   "cell_type": "code",
   "execution_count": 58,
   "metadata": {},
   "outputs": [
    {
     "data": {
      "text/plain": [
       "{'datasets': [{'name': 'data',\n",
       "   'format': {'quoteChar': '\"',\n",
       "    'fieldDelimiter': ',',\n",
       "    'hasHeaderRow': True,\n",
       "    'encoding': 'UTF-8',\n",
       "    'escapeChar': '\"',\n",
       "    'recordTerminator': '\\n',\n",
       "    'type': 'delimited',\n",
       "    'extension': 'csv'},\n",
       "   'schema': {'fields': [{'name': 'State Code',\n",
       "      'type': 'esriFieldTypeBigInteger'},\n",
       "     {'name': 'County Code', 'type': 'esriFieldTypeBigInteger'},\n",
       "     {'name': 'Site Num', 'type': 'esriFieldTypeBigInteger'},\n",
       "     {'name': 'Parameter Code', 'type': 'esriFieldTypeBigInteger'},\n",
       "     {'name': 'POC', 'type': 'esriFieldTypeBigInteger'},\n",
       "     {'name': 'Latitude', 'type': 'esriFieldTypeDouble'},\n",
       "     {'name': 'Longitude', 'type': 'esriFieldTypeDouble'},\n",
       "     {'name': 'Datum', 'type': 'esriFieldTypeString'},\n",
       "     {'name': 'Parameter Name', 'type': 'esriFieldTypeString'},\n",
       "     {'name': 'Date Local', 'type': 'esriFieldTypeString'},\n",
       "     {'name': 'Time Local', 'type': 'esriFieldTypeString'},\n",
       "     {'name': 'Date GMT', 'type': 'esriFieldTypeString'},\n",
       "     {'name': 'Time GMT', 'type': 'esriFieldTypeString'},\n",
       "     {'name': 'Sample Measurement', 'type': 'esriFieldTypeDouble'},\n",
       "     {'name': 'Units of Measure', 'type': 'esriFieldTypeString'},\n",
       "     {'name': 'MDL', 'type': 'esriFieldTypeBigInteger'},\n",
       "     {'name': 'Uncertainty', 'type': 'esriFieldTypeString'},\n",
       "     {'name': 'Qualifier', 'type': 'esriFieldTypeString'},\n",
       "     {'name': 'Method Type', 'type': 'esriFieldTypeString'},\n",
       "     {'name': 'Method Code', 'type': 'esriFieldTypeBigInteger'},\n",
       "     {'name': 'Method Name', 'type': 'esriFieldTypeString'},\n",
       "     {'name': 'State Name', 'type': 'esriFieldTypeString'},\n",
       "     {'name': 'County Name', 'type': 'esriFieldTypeString'},\n",
       "     {'name': 'Date of Last Change', 'type': 'esriFieldTypeString'}]},\n",
       "   'geometry': {'geometryType': 'esriGeometryPoint',\n",
       "    'spatialReference': {'wkid': 3857},\n",
       "    'fields': [{'name': 'Longitude', 'formats': ['x']},\n",
       "     {'name': 'Latitude', 'formats': ['y']}]},\n",
       "   'time': {'timeType': 'instant',\n",
       "    'timeReference': {'timeZone': 'UTC'},\n",
       "    'fields': [{'name': 'Date Local', 'formats': ['yyyy-MM-dd']}]}}]}"
      ]
     },
     "execution_count": 58,
     "metadata": {},
     "output_type": "execute_result"
    }
   ],
   "source": [
    "manifest = file_share_folder.manifest\n",
    "manifest"
   ]
  },
  {
   "cell_type": "code",
   "execution_count": 59,
   "metadata": {},
   "outputs": [],
   "source": [
    "manifest['datasets'][0]['geometry']['spatialReference'] = { \"wkid\": 102100, \"latestWkid\": 3857 }"
   ]
  },
  {
   "cell_type": "code",
   "execution_count": 60,
   "metadata": {},
   "outputs": [],
   "source": [
    "file_share_folder.manifest = manifest"
   ]
  },
  {
   "cell_type": "code",
   "execution_count": 76,
   "metadata": {},
   "outputs": [
    {
     "data": {
      "text/plain": [
       "[<Item title:\"bigDataFileShares_pm2017_4326\" type:Big Data File Share owner:admin>]"
      ]
     },
     "execution_count": 76,
     "metadata": {},
     "output_type": "execute_result"
    }
   ],
   "source": [
    "search_result = gis.content.search(\"bigDataFileShares_pm2017_4326\", item_type = \"big data file share\", max_items=40)\n",
    "search_result"
   ]
  },
  {
   "cell_type": "code",
   "execution_count": 77,
   "metadata": {},
   "outputs": [],
   "source": [
    "data = search_result[0]"
   ]
  },
  {
   "cell_type": "code",
   "execution_count": 78,
   "metadata": {},
   "outputs": [
    {
     "data": {
      "text/html": [
       "<div class=\"item_container\" style=\"height: auto; overflow: hidden; border: 1px solid #cfcfcf; border-radius: 2px; background: #f6fafa; line-height: 1.21429em; padding: 10px;\">\n",
       "                    <div class=\"item_left\" style=\"width: 210px; float: left;\">\n",
       "                       <a href='https://ndhagsb01.esri.com/portal/home/item.html?id=bb542064a1c24eb9beee096c195cda27' target='_blank'>\n",
       "                        <img src='https://ndhagsb01.esri.com/portal/portalimages/desktopapp.png' class=\"itemThumbnail\">\n",
       "                       </a>\n",
       "                    </div>\n",
       "\n",
       "                    <div class=\"item_right\"     style=\"float: none; width: auto; overflow: hidden;\">\n",
       "                        <a href='https://ndhagsb01.esri.com/portal/home/item.html?id=bb542064a1c24eb9beee096c195cda27' target='_blank'><b>bigDataFileShares_pm2017_4326</b>\n",
       "                        </a>\n",
       "                        <br/><img src='https://ndhagsb01.esri.com/portal/home/js/jsapi/esri/css/images/item_type_icons/layers16.png' style=\"vertical-align:middle;\">Big Data File Share by admin\n",
       "                        <br/>Last Modified: March 26, 2020\n",
       "                        <br/>0 comments, 0 views\n",
       "                    </div>\n",
       "                </div>\n",
       "                "
      ],
      "text/plain": [
       "<Item title:\"bigDataFileShares_pm2017_4326\" type:Big Data File Share owner:admin>"
      ]
     },
     "execution_count": 78,
     "metadata": {},
     "output_type": "execute_result"
    }
   ],
   "source": [
    "data"
   ]
  },
  {
   "cell_type": "code",
   "execution_count": 79,
   "metadata": {},
   "outputs": [],
   "source": [
    "air_lyr = data.layers[0]"
   ]
  },
  {
   "cell_type": "code",
   "execution_count": 80,
   "metadata": {
    "scrolled": true
   },
   "outputs": [
    {
     "data": {
      "text/plain": [
       "{\n",
       "  \"dataStoreID\": \"212e15e6-1870-493f-bfe4-3f83e0a74a30\",\n",
       "  \"fields\": [\n",
       "    {\n",
       "      \"name\": \"State Code\",\n",
       "      \"type\": \"esriFieldTypeInteger\"\n",
       "    },\n",
       "    {\n",
       "      \"name\": \"County Code\",\n",
       "      \"type\": \"esriFieldTypeInteger\"\n",
       "    },\n",
       "    {\n",
       "      \"name\": \"Site Num\",\n",
       "      \"type\": \"esriFieldTypeInteger\"\n",
       "    },\n",
       "    {\n",
       "      \"name\": \"Parameter Code\",\n",
       "      \"type\": \"esriFieldTypeInteger\"\n",
       "    },\n",
       "    {\n",
       "      \"name\": \"POC\",\n",
       "      \"type\": \"esriFieldTypeInteger\"\n",
       "    },\n",
       "    {\n",
       "      \"name\": \"Latitude\",\n",
       "      \"type\": \"esriFieldTypeDouble\"\n",
       "    },\n",
       "    {\n",
       "      \"name\": \"Longitude\",\n",
       "      \"type\": \"esriFieldTypeDouble\"\n",
       "    },\n",
       "    {\n",
       "      \"name\": \"Datum\",\n",
       "      \"type\": \"esriFieldTypeString\"\n",
       "    },\n",
       "    {\n",
       "      \"name\": \"Parameter Name\",\n",
       "      \"type\": \"esriFieldTypeString\"\n",
       "    },\n",
       "    {\n",
       "      \"name\": \"Date Local\",\n",
       "      \"type\": \"esriFieldTypeString\"\n",
       "    },\n",
       "    {\n",
       "      \"name\": \"Time Local\",\n",
       "      \"type\": \"esriFieldTypeString\"\n",
       "    },\n",
       "    {\n",
       "      \"name\": \"Date GMT\",\n",
       "      \"type\": \"esriFieldTypeString\"\n",
       "    },\n",
       "    {\n",
       "      \"name\": \"Time GMT\",\n",
       "      \"type\": \"esriFieldTypeString\"\n",
       "    },\n",
       "    {\n",
       "      \"name\": \"Sample Measurement\",\n",
       "      \"type\": \"esriFieldTypeDouble\"\n",
       "    },\n",
       "    {\n",
       "      \"name\": \"Units of Measure\",\n",
       "      \"type\": \"esriFieldTypeString\"\n",
       "    },\n",
       "    {\n",
       "      \"name\": \"MDL\",\n",
       "      \"type\": \"esriFieldTypeInteger\"\n",
       "    },\n",
       "    {\n",
       "      \"name\": \"Uncertainty\",\n",
       "      \"type\": \"esriFieldTypeString\"\n",
       "    },\n",
       "    {\n",
       "      \"name\": \"Qualifier\",\n",
       "      \"type\": \"esriFieldTypeString\"\n",
       "    },\n",
       "    {\n",
       "      \"name\": \"Method Type\",\n",
       "      \"type\": \"esriFieldTypeString\"\n",
       "    },\n",
       "    {\n",
       "      \"name\": \"Method Code\",\n",
       "      \"type\": \"esriFieldTypeInteger\"\n",
       "    },\n",
       "    {\n",
       "      \"name\": \"Method Name\",\n",
       "      \"type\": \"esriFieldTypeString\"\n",
       "    },\n",
       "    {\n",
       "      \"name\": \"State Name\",\n",
       "      \"type\": \"esriFieldTypeString\"\n",
       "    },\n",
       "    {\n",
       "      \"name\": \"County Name\",\n",
       "      \"type\": \"esriFieldTypeString\"\n",
       "    },\n",
       "    {\n",
       "      \"name\": \"Date of Last Change\",\n",
       "      \"type\": \"esriFieldTypeString\"\n",
       "    }\n",
       "  ],\n",
       "  \"name\": \"data\",\n",
       "  \"geometryType\": \"esriGeometryPoint\",\n",
       "  \"type\": \"featureClass\",\n",
       "  \"spatialReference\": {\n",
       "    \"wkid\": 4326\n",
       "  },\n",
       "  \"geometry\": {\n",
       "    \"fields\": [\n",
       "      {\n",
       "        \"name\": \"Longitude\",\n",
       "        \"formats\": [\n",
       "          \"x\"\n",
       "        ]\n",
       "      },\n",
       "      {\n",
       "        \"name\": \"Latitude\",\n",
       "        \"formats\": [\n",
       "          \"y\"\n",
       "        ]\n",
       "      }\n",
       "    ]\n",
       "  },\n",
       "  \"time\": {\n",
       "    \"timeType\": \"instant\",\n",
       "    \"timeReference\": {\n",
       "      \"timeZone\": \"UTC\"\n",
       "    },\n",
       "    \"fields\": [\n",
       "      {\n",
       "        \"name\": \"Date Local\",\n",
       "        \"formats\": [\n",
       "          \"yyyy-MM-dd\"\n",
       "        ]\n",
       "      }\n",
       "    ]\n",
       "  },\n",
       "  \"currentVersion\": 10.8,\n",
       "  \"children\": []\n",
       "}"
      ]
     },
     "execution_count": 80,
     "metadata": {},
     "output_type": "execute_result"
    }
   ],
   "source": [
    "air_lyr.properties"
   ]
  },
  {
   "cell_type": "code",
   "execution_count": 49,
   "metadata": {},
   "outputs": [],
   "source": [
    "counties = gis.content.get('10308a3e7dd7424592a1e3c648ac37b0')"
   ]
  },
  {
   "cell_type": "code",
   "execution_count": 66,
   "metadata": {},
   "outputs": [
    {
     "data": {
      "text/html": [
       "<div class=\"item_container\" style=\"height: auto; overflow: hidden; border: 1px solid #cfcfcf; border-radius: 2px; background: #f6fafa; line-height: 1.21429em; padding: 10px;\">\n",
       "                    <div class=\"item_left\" style=\"width: 210px; float: left;\">\n",
       "                       <a href='https://ndhagsb01.esri.com/portal/home/item.html?id=10308a3e7dd7424592a1e3c648ac37b0' target='_blank'>\n",
       "                        <img src='data:image/png;base64,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' width='200' height='133' class=\"itemThumbnail\">\n",
       "                       </a>\n",
       "                    </div>\n",
       "\n",
       "                    <div class=\"item_right\"     style=\"float: none; width: auto; overflow: hidden;\">\n",
       "                        <a href='https://ndhagsb01.esri.com/portal/home/item.html?id=10308a3e7dd7424592a1e3c648ac37b0' target='_blank'><b>usaCounties</b>\n",
       "                        </a>\n",
       "                        <br/>usaCounties<img src='https://ndhagsb01.esri.com/portal/home/js/jsapi/esri/css/images/item_type_icons/featureshosted16.png' style=\"vertical-align:middle;\">Feature Layer Collection by admin\n",
       "                        <br/>Last Modified: March 25, 2020\n",
       "                        <br/>0 comments, 2 views\n",
       "                    </div>\n",
       "                </div>\n",
       "                "
      ],
      "text/plain": [
       "<Item title:\"usaCounties\" type:Feature Layer Collection owner:admin>"
      ]
     },
     "execution_count": 66,
     "metadata": {},
     "output_type": "execute_result"
    }
   ],
   "source": [
    "counties"
   ]
  },
  {
   "cell_type": "code",
   "execution_count": 67,
   "metadata": {},
   "outputs": [],
   "source": [
    "boundary = counties.layers[0]"
   ]
  },
  {
   "cell_type": "code",
   "execution_count": 69,
   "metadata": {},
   "outputs": [
    {
     "data": {
      "text/plain": [
       "{\n",
       "  \"currentVersion\": 10.8,\n",
       "  \"cimVersion\": \"2.5.0\",\n",
       "  \"id\": 0,\n",
       "  \"name\": \"usaCounties\",\n",
       "  \"type\": \"Feature Layer\",\n",
       "  \"parentLayer\": null,\n",
       "  \"defaultVisibility\": true,\n",
       "  \"minScale\": 0,\n",
       "  \"maxScale\": 0,\n",
       "  \"canScaleSymbols\": false,\n",
       "  \"geometryType\": \"esriGeometryPolygon\",\n",
       "  \"description\": \"\",\n",
       "  \"copyrightText\": \"\",\n",
       "  \"editFieldsInfo\": null,\n",
       "  \"syncCanReturnChanges\": true,\n",
       "  \"relationships\": [],\n",
       "  \"isDataVersioned\": false,\n",
       "  \"isDataArchived\": false,\n",
       "  \"isDataBranchVersioned\": false,\n",
       "  \"isCoGoEnabled\": false,\n",
       "  \"supportsRollbackOnFailureParameter\": true,\n",
       "  \"supportsStatistics\": true,\n",
       "  \"supportsAdvancedQueries\": true,\n",
       "  \"supportsValidateSQL\": true,\n",
       "  \"supportsCoordinatesQuantization\": true,\n",
       "  \"supportsCalculate\": true,\n",
       "  \"supportsASyncCalculate\": true,\n",
       "  \"advancedQueryCapabilities\": {\n",
       "    \"supportsReturningQueryExtent\": true,\n",
       "    \"supportsStatistics\": true,\n",
       "    \"supportsDistinct\": true,\n",
       "    \"supportsPagination\": true,\n",
       "    \"supportsOrderBy\": true,\n",
       "    \"supportsQueryWithDistance\": true,\n",
       "    \"supportsLod\": false,\n",
       "    \"supportsPaginationOnAggregatedQueries\": true,\n",
       "    \"supportsQueryWithResultType\": true,\n",
       "    \"supportsCountDistinct\": true,\n",
       "    \"supportsReturningGeometryCentroid\": true,\n",
       "    \"supportsHavingClause\": true,\n",
       "    \"supportsQueryWithLodSR\": false,\n",
       "    \"supportsTopFeaturesQuery\": false,\n",
       "    \"supportsOrderByOnlyOnLayerFields\": false,\n",
       "    \"supportsPercentileStatistics\": true,\n",
       "    \"supportsQueryAttachments\": true,\n",
       "    \"supportsQueryAttachmentsWithReturnUrl\": true,\n",
       "    \"supportsQueryWithDatumTransformation\": true\n",
       "  },\n",
       "  \"extent\": {\n",
       "    \"xmin\": -19942592,\n",
       "    \"ymin\": 2023652.7969999984,\n",
       "    \"xmax\": 20012848,\n",
       "    \"ymax\": 11537127.5,\n",
       "    \"spatialReference\": {\n",
       "      \"wkid\": 102100,\n",
       "      \"latestWkid\": 3857,\n",
       "      \"xyTolerance\": 0.001,\n",
       "      \"zTolerance\": 0.001,\n",
       "      \"mTolerance\": 0.001,\n",
       "      \"falseX\": -20037700,\n",
       "      \"falseY\": -30241100,\n",
       "      \"xyUnits\": 10000,\n",
       "      \"falseZ\": -100000,\n",
       "      \"zUnits\": 10000,\n",
       "      \"falseM\": -100000,\n",
       "      \"mUnits\": 10000\n",
       "    }\n",
       "  },\n",
       "  \"drawingInfo\": {\n",
       "    \"renderer\": {\n",
       "      \"type\": \"simple\",\n",
       "      \"symbol\": {\n",
       "        \"type\": \"esriSFS\",\n",
       "        \"style\": \"esriSFSSolid\",\n",
       "        \"color\": [\n",
       "          186,\n",
       "          252,\n",
       "          195,\n",
       "          255\n",
       "        ],\n",
       "        \"outline\": {\n",
       "          \"type\": \"esriSLS\",\n",
       "          \"style\": \"esriSLSSolid\",\n",
       "          \"color\": [\n",
       "            110,\n",
       "            110,\n",
       "            110,\n",
       "            255\n",
       "          ],\n",
       "          \"width\": 0.7\n",
       "        }\n",
       "      }\n",
       "    },\n",
       "    \"scaleSymbols\": true,\n",
       "    \"transparency\": 0,\n",
       "    \"labelingInfo\": null\n",
       "  },\n",
       "  \"hasM\": false,\n",
       "  \"hasZ\": false,\n",
       "  \"allowTrueCurvesUpdates\": false,\n",
       "  \"onlyAllowTrueCurveUpdatesByTrueCurveClients\": true,\n",
       "  \"hasAttachments\": false,\n",
       "  \"htmlPopupType\": \"esriServerHTMLPopupTypeAsHTMLText\",\n",
       "  \"objectIdField\": \"fid\",\n",
       "  \"globalIdField\": null,\n",
       "  \"displayField\": \"state_name\",\n",
       "  \"typeIdField\": \"\",\n",
       "  \"fields\": [\n",
       "    {\n",
       "      \"name\": \"fid\",\n",
       "      \"type\": \"esriFieldTypeOID\",\n",
       "      \"alias\": \"db_0cdja.hsu_60wht.usaCounties_usaCounties.fid\",\n",
       "      \"domain\": null,\n",
       "      \"nullable\": false,\n",
       "      \"defaultValue\": null,\n",
       "      \"modelName\": \"db_0cdja.hsu_60wht.usaCounties_usaCounties.fid\",\n",
       "      \"editable\": false\n",
       "    },\n",
       "    {\n",
       "      \"name\": \"state_name\",\n",
       "      \"type\": \"esriFieldTypeString\",\n",
       "      \"alias\": \"STATE_NAME\",\n",
       "      \"domain\": null,\n",
       "      \"editable\": true,\n",
       "      \"nullable\": true,\n",
       "      \"length\": 35,\n",
       "      \"defaultValue\": null,\n",
       "      \"modelName\": \"STATE_NAME\"\n",
       "    },\n",
       "    {\n",
       "      \"name\": \"fips\",\n",
       "      \"type\": \"esriFieldTypeString\",\n",
       "      \"alias\": \"FIPS\",\n",
       "      \"domain\": null,\n",
       "      \"editable\": true,\n",
       "      \"nullable\": true,\n",
       "      \"length\": 5,\n",
       "      \"defaultValue\": null,\n",
       "      \"modelName\": \"FIPS\"\n",
       "    },\n",
       "    {\n",
       "      \"name\": \"population\",\n",
       "      \"type\": \"esriFieldTypeInteger\",\n",
       "      \"alias\": \"POPULATION\",\n",
       "      \"domain\": null,\n",
       "      \"editable\": true,\n",
       "      \"nullable\": true,\n",
       "      \"defaultValue\": null,\n",
       "      \"modelName\": \"POPULATION\"\n",
       "    },\n",
       "    {\n",
       "      \"name\": \"pop_sqmi\",\n",
       "      \"type\": \"esriFieldTypeDouble\",\n",
       "      \"alias\": \"POP_SQMI\",\n",
       "      \"domain\": null,\n",
       "      \"editable\": true,\n",
       "      \"nullable\": true,\n",
       "      \"defaultValue\": null,\n",
       "      \"modelName\": \"POP_SQMI\"\n",
       "    },\n",
       "    {\n",
       "      \"type\": \"esriFieldTypeDouble\",\n",
       "      \"nullable\": true,\n",
       "      \"editable\": false,\n",
       "      \"domain\": null,\n",
       "      \"defaultValue\": null,\n",
       "      \"virtual\": true,\n",
       "      \"name\": \"SHAPE__Length\",\n",
       "      \"alias\": \"SHAPE__Length\"\n",
       "    },\n",
       "    {\n",
       "      \"type\": \"esriFieldTypeDouble\",\n",
       "      \"nullable\": true,\n",
       "      \"editable\": false,\n",
       "      \"domain\": null,\n",
       "      \"defaultValue\": null,\n",
       "      \"virtual\": true,\n",
       "      \"name\": \"SHAPE__Area\",\n",
       "      \"alias\": \"SHAPE__Area\"\n",
       "    }\n",
       "  ],\n",
       "  \"geometryField\": {\n",
       "    \"name\": \"shape\",\n",
       "    \"type\": \"esriFieldTypeGeometry\",\n",
       "    \"alias\": \"Shape\",\n",
       "    \"domain\": null,\n",
       "    \"editable\": true,\n",
       "    \"nullable\": true,\n",
       "    \"defaultValue\": null,\n",
       "    \"modelName\": \"Shape\"\n",
       "  },\n",
       "  \"indexes\": [\n",
       "    {\n",
       "      \"name\": \"r26_sde_rowid_uk\",\n",
       "      \"fields\": \"fid\",\n",
       "      \"isAscending\": true,\n",
       "      \"isUnique\": true,\n",
       "      \"description\": \"\"\n",
       "    },\n",
       "    {\n",
       "      \"name\": \"a10_ix1\",\n",
       "      \"fields\": \"shape\",\n",
       "      \"isAscending\": true,\n",
       "      \"isUnique\": true,\n",
       "      \"description\": \"\"\n",
       "    }\n",
       "  ],\n",
       "  \"dateFieldsTimeReference\": {\n",
       "    \"timeZone\": \"UTC\",\n",
       "    \"respectsDaylightSaving\": false\n",
       "  },\n",
       "  \"types\": [],\n",
       "  \"templates\": [\n",
       "    {\n",
       "      \"name\": \"usaCounties\",\n",
       "      \"description\": \"\",\n",
       "      \"prototype\": {\n",
       "        \"attributes\": {\n",
       "          \"pop_sqmi\": null,\n",
       "          \"population\": null,\n",
       "          \"state_name\": null,\n",
       "          \"fips\": null\n",
       "        }\n",
       "      },\n",
       "      \"drawingTool\": \"esriFeatureEditToolPolygon\"\n",
       "    }\n",
       "  ],\n",
       "  \"useStandardizedQueries\": true,\n",
       "  \"standardMaxRecordCount\": 2000,\n",
       "  \"tileMaxRecordCount\": 2000,\n",
       "  \"standardMaxRecordCountNoGeometry\": 16000,\n",
       "  \"maxRecordCountFactor\": 1,\n",
       "  \"supportedQueryFormats\": \"JSON, geoJSON, PBF\",\n",
       "  \"maxRecordCount\": 2000,\n",
       "  \"allowGeometryUpdates\": true,\n",
       "  \"capabilities\": \"Query\",\n",
       "  \"enableZDefaults\": true,\n",
       "  \"zDefault\": 0,\n",
       "  \"allowUpdateWithoutMValues\": true,\n",
       "  \"hasGeometryProperties\": true,\n",
       "  \"advancedEditingCapabilities\": {\n",
       "    \"supportedSqlFormatsInCalculate\": [\n",
       "      \"standard\"\n",
       "    ]\n",
       "  },\n",
       "  \"supportsApplyEditsWithGlobalIds\": false,\n",
       "  \"geometryProperties\": {\n",
       "    \"shapeLengthFieldName\": \"SHAPE__Length\",\n",
       "    \"shapeAreaFieldName\": \"SHAPE__Area\",\n",
       "    \"units\": \"esriMeters\"\n",
       "  },\n",
       "  \"serviceItemId\": \"10308a3e7dd7424592a1e3c648ac37b0\",\n",
       "  \"hasMetadata\": true,\n",
       "  \"supportsAttachmentsByUploadId\": true,\n",
       "  \"supportsAsyncDelete\": true,\n",
       "  \"supportsFieldDescriptionProperty\": true,\n",
       "  \"sqlParserVersion\": \"PG_10.6.1\"\n",
       "}"
      ]
     },
     "execution_count": 69,
     "metadata": {},
     "output_type": "execute_result"
    }
   ],
   "source": [
    "boundary.properties"
   ]
  },
  {
   "cell_type": "code",
   "execution_count": 81,
   "metadata": {},
   "outputs": [],
   "source": [
    "def average():\n",
    "    from datetime import datetime as dt\n",
    "    df = layers[0]\n",
    "    df = df.filter(df['Parameter Name'] == 'PM2.5 - Local Conditions')\n",
    "    res = geoanalytics.join_features(target_layer=layers[1], \n",
    "                                     join_layer=df, \n",
    "                                     join_operation=\"JoinOneToOne\",\n",
    "                                     summary_fields=[{'statisticType' : 'mean', 'onStatisticField' : 'Sample Measurement'}],\n",
    "                                     spatial_relationship='Contains')\n",
    "    res.write.format(\"webgis\").save(\"average_pm_by_boundaryFinal\" + str(dt.now().microsecond))"
   ]
  },
  {
   "cell_type": "code",
   "execution_count": 82,
   "metadata": {
    "scrolled": true
   },
   "outputs": [
    {
     "name": "stdout",
     "output_type": "stream",
     "text": [
      "Submitted.\n",
      "Executing...\n",
      "Executing (RunPythonScript): RunPythonScript \"def average():\\n    from datetime import datetime as dt\\n    df = layers[0]\\n    df = df.filter(df['Parameter Name'] == 'PM2.5 - Local Conditions')\\n    res = geoanalytics.join_features(target_layer=layers[1], \\n                                     join_layer=df, \\n                                     join_operation=\"JoinOneToOne\",\\n                                     summary_fields=[{'statisticType' : 'mean', 'onStatisticField' : 'Sample Measurement'}],\\n                                     spatial_relationship='Contains')\\n    res.write.format(\"webgis\").save(\"average_pm_by_boundaryFinal\" + str(dt.now().microsecond))\\n\\naverage()\" https://ndhga01.esri.com/gis/rest/services/DataStoreCatalogs/bigDataFileShares_pm2017_4326/BigDataCatalogServer/data;https://ndhagsb01.esri.com/gis/rest/services/Hosted/usaCounties/FeatureServer/0 \"{\"defaultAggregationStyles\": false}\"\n",
      "Start Time: Thu Mar 26 12:15:18 2020\n",
      "Using URL based GPRecordSet param: https://ndhga01.esri.com/gis/rest/services/DataStoreCatalogs/bigDataFileShares_pm2017_4326/BigDataCatalogServer/data\n",
      "Using URL based GPRecordSet param: https://ndhagsb01.esri.com/gis/rest/services/Hosted/usaCounties/FeatureServer/0\n",
      "{\"messageCode\":\"BD_101028\",\"message\":\"Starting new distributed job with 3 tasks.\",\"params\":{\"totalTasks\":\"3\"}}\n",
      "{\"messageCode\":\"BD_101029\",\"message\":\"0/3 distributed tasks completed.\",\"params\":{\"completedTasks\":\"0\",\"totalTasks\":\"3\"}}\n",
      "{\"messageCode\":\"BD_101029\",\"message\":\"1/3 distributed tasks completed.\",\"params\":{\"completedTasks\":\"1\",\"totalTasks\":\"3\"}}\n",
      "{\"messageCode\":\"BD_101029\",\"message\":\"3/3 distributed tasks completed.\",\"params\":{\"completedTasks\":\"3\",\"totalTasks\":\"3\"}}\n",
      "{\"messageCode\":\"BD_101028\",\"message\":\"Starting new distributed job with 3 tasks.\",\"params\":{\"totalTasks\":\"3\"}}\n",
      "{\"messageCode\":\"BD_101028\",\"message\":\"Starting new distributed job with 194 tasks.\",\"params\":{\"totalTasks\":\"194\"}}\n",
      "{\"messageCode\":\"BD_101029\",\"message\":\"1/194 distributed tasks completed.\",\"params\":{\"completedTasks\":\"1\",\"totalTasks\":\"194\"}}\n",
      "{\"messageCode\":\"BD_101029\",\"message\":\"2/194 distributed tasks completed.\",\"params\":{\"completedTasks\":\"2\",\"totalTasks\":\"194\"}}\n",
      "{\"messageCode\":\"BD_101081\",\"message\":\"Finished writing results:\"}\n",
      "{\"messageCode\":\"BD_101082\",\"message\":\"* Count of features = 8\",\"params\":{\"resultCount\":\"8\"}}\n",
      "{\"messageCode\":\"BD_101083\",\"message\":\"* Spatial extent = {\\\"xmin\\\":-153.00654565183464,\\\"ymin\\\":31.332407977878976,\\\"xmax\\\":-84.88824692388006,\\\"ymax\\\":63.482913038367414}\",\"params\":{\"extent\":\"{\\\"xmin\\\":-153.00654565183464,\\\"ymin\\\":31.332407977878976,\\\"xmax\\\":-84.88824692388006,\\\"ymax\\\":63.482913038367414}\"}}\n",
      "{\"messageCode\":\"BD_101084\",\"message\":\"* Temporal extent = None\",\"params\":{\"extent\":\"None\"}}\n",
      "{\"messageCode\":\"BD_101226\",\"message\":\"Feature service layer created: https://ndhagsb01.esri.com/gis/rest/services/Hosted/average_pm_by_boundaryFinal671168/FeatureServer/0\",\"params\":{\"serviceUrl\":\"https://ndhagsb01.esri.com/gis/rest/services/Hosted/average_pm_by_boundaryFinal671168/FeatureServer/0\"}}\n",
      "Succeeded at Thu Mar 26 12:15:52 2020 (Elapsed Time: 33.83 seconds)\n"
     ]
    },
    {
     "data": {
      "text/plain": [
       "[{'type': 'esriJobMessageTypeInformative',\n",
       "  'description': 'Executing (RunPythonScript): RunPythonScript \"def average():\\\\n    from datetime import datetime as dt\\\\n    df = layers[0]\\\\n    df = df.filter(df[\\'Parameter Name\\'] == \\'PM2.5 - Local Conditions\\')\\\\n    res = geoanalytics.join_features(target_layer=layers[1], \\\\n                                     join_layer=df, \\\\n                                     join_operation=\"JoinOneToOne\",\\\\n                                     summary_fields=[{\\'statisticType\\' : \\'mean\\', \\'onStatisticField\\' : \\'Sample Measurement\\'}],\\\\n                                     spatial_relationship=\\'Contains\\')\\\\n    res.write.format(\"webgis\").save(\"average_pm_by_boundaryFinal\" + str(dt.now().microsecond))\\\\n\\\\naverage()\" https://ndhga01.esri.com/gis/rest/services/DataStoreCatalogs/bigDataFileShares_pm2017_4326/BigDataCatalogServer/data;https://ndhagsb01.esri.com/gis/rest/services/Hosted/usaCounties/FeatureServer/0 \"{\"defaultAggregationStyles\": false}\"'},\n",
       " {'type': 'esriJobMessageTypeInformative',\n",
       "  'description': 'Start Time: Thu Mar 26 12:15:18 2020'},\n",
       " {'type': 'esriJobMessageTypeInformative',\n",
       "  'description': 'Using URL based GPRecordSet param: https://ndhga01.esri.com/gis/rest/services/DataStoreCatalogs/bigDataFileShares_pm2017_4326/BigDataCatalogServer/data'},\n",
       " {'type': 'esriJobMessageTypeInformative',\n",
       "  'description': 'Using URL based GPRecordSet param: https://ndhagsb01.esri.com/gis/rest/services/Hosted/usaCounties/FeatureServer/0'},\n",
       " {'type': 'esriJobMessageTypeInformative',\n",
       "  'description': '{\"messageCode\":\"BD_101028\",\"message\":\"Starting new distributed job with 3 tasks.\",\"params\":{\"totalTasks\":\"3\"}}'},\n",
       " {'type': 'esriJobMessageTypeInformative',\n",
       "  'description': '{\"messageCode\":\"BD_101029\",\"message\":\"0/3 distributed tasks completed.\",\"params\":{\"completedTasks\":\"0\",\"totalTasks\":\"3\"}}'},\n",
       " {'type': 'esriJobMessageTypeInformative',\n",
       "  'description': '{\"messageCode\":\"BD_101029\",\"message\":\"1/3 distributed tasks completed.\",\"params\":{\"completedTasks\":\"1\",\"totalTasks\":\"3\"}}'},\n",
       " {'type': 'esriJobMessageTypeInformative',\n",
       "  'description': '{\"messageCode\":\"BD_101029\",\"message\":\"3/3 distributed tasks completed.\",\"params\":{\"completedTasks\":\"3\",\"totalTasks\":\"3\"}}'},\n",
       " {'type': 'esriJobMessageTypeInformative',\n",
       "  'description': '{\"messageCode\":\"BD_101028\",\"message\":\"Starting new distributed job with 3 tasks.\",\"params\":{\"totalTasks\":\"3\"}}'},\n",
       " {'type': 'esriJobMessageTypeInformative',\n",
       "  'description': '{\"messageCode\":\"BD_101028\",\"message\":\"Starting new distributed job with 194 tasks.\",\"params\":{\"totalTasks\":\"194\"}}'},\n",
       " {'type': 'esriJobMessageTypeInformative',\n",
       "  'description': '{\"messageCode\":\"BD_101029\",\"message\":\"1/194 distributed tasks completed.\",\"params\":{\"completedTasks\":\"1\",\"totalTasks\":\"194\"}}'},\n",
       " {'type': 'esriJobMessageTypeInformative',\n",
       "  'description': '{\"messageCode\":\"BD_101029\",\"message\":\"2/194 distributed tasks completed.\",\"params\":{\"completedTasks\":\"2\",\"totalTasks\":\"194\"}}'},\n",
       " {'type': 'esriJobMessageTypeInformative',\n",
       "  'description': '{\"messageCode\":\"BD_101081\",\"message\":\"Finished writing results:\"}'},\n",
       " {'type': 'esriJobMessageTypeInformative',\n",
       "  'description': '{\"messageCode\":\"BD_101082\",\"message\":\"* Count of features = 8\",\"params\":{\"resultCount\":\"8\"}}'},\n",
       " {'type': 'esriJobMessageTypeInformative',\n",
       "  'description': '{\"messageCode\":\"BD_101083\",\"message\":\"* Spatial extent = {\\\\\"xmin\\\\\":-153.00654565183464,\\\\\"ymin\\\\\":31.332407977878976,\\\\\"xmax\\\\\":-84.88824692388006,\\\\\"ymax\\\\\":63.482913038367414}\",\"params\":{\"extent\":\"{\\\\\"xmin\\\\\":-153.00654565183464,\\\\\"ymin\\\\\":31.332407977878976,\\\\\"xmax\\\\\":-84.88824692388006,\\\\\"ymax\\\\\":63.482913038367414}\"}}'},\n",
       " {'type': 'esriJobMessageTypeInformative',\n",
       "  'description': '{\"messageCode\":\"BD_101084\",\"message\":\"* Temporal extent = None\",\"params\":{\"extent\":\"None\"}}'},\n",
       " {'type': 'esriJobMessageTypeInformative',\n",
       "  'description': '{\"messageCode\":\"BD_101226\",\"message\":\"Feature service layer created: https://ndhagsb01.esri.com/gis/rest/services/Hosted/average_pm_by_boundaryFinal671168/FeatureServer/0\",\"params\":{\"serviceUrl\":\"https://ndhagsb01.esri.com/gis/rest/services/Hosted/average_pm_by_boundaryFinal671168/FeatureServer/0\"}}'},\n",
       " {'type': 'esriJobMessageTypeInformative',\n",
       "  'description': 'Succeeded at Thu Mar 26 12:15:52 2020 (Elapsed Time: 33.83 seconds)'}]"
      ]
     },
     "execution_count": 82,
     "metadata": {},
     "output_type": "execute_result"
    }
   ],
   "source": [
    "run_python_script(average, [air_lyr, boundary])"
   ]
  },
  {
   "cell_type": "code",
   "execution_count": 39,
   "metadata": {},
   "outputs": [],
   "source": [
    "from arcgis.geoanalytics.summarize_data import join_features"
   ]
  },
  {
   "cell_type": "code",
   "execution_count": null,
   "metadata": {},
   "outputs": [],
   "source": [
    "join_features(target_layer=boundary, \n",
    "              join_layer=air_lyr, \n",
    "              join_operation=\"JoinOneToMany\",\n",
    "              summary_fields=[{'statisticType' : 'mean', 'onStatisticField' : 'Sample Measurement'}],\n",
    "              spatial_relationship='Contains')"
   ]
  },
  {
   "cell_type": "code",
   "execution_count": null,
   "metadata": {},
   "outputs": [],
   "source": [
    "join_fields=[{ 'action' : 'rename', 'field' : 'Sample Measurement', 'to' : 'pm25'}],                                     \n",
    "summary_fields=[{'statisticType' : 'mean', 'onStatisticField' : 'Sample Measurement'}]"
   ]
  },
  {
   "cell_type": "code",
   "execution_count": 83,
   "metadata": {},
   "outputs": [],
   "source": [
    "avg = gis.content.search('average_pm_by_boundaryFinal')[0].layers[0]"
   ]
  },
  {
   "cell_type": "code",
   "execution_count": 84,
   "metadata": {},
   "outputs": [
    {
     "data": {
      "text/plain": [
       "<FeatureLayer url:\"https://ndhagsb01.esri.com/gis/rest/services/Hosted/average_pm_by_boundaryFinal671168/FeatureServer/0\">"
      ]
     },
     "execution_count": 84,
     "metadata": {},
     "output_type": "execute_result"
    }
   ],
   "source": [
    "avg"
   ]
  },
  {
   "cell_type": "code",
   "execution_count": 85,
   "metadata": {},
   "outputs": [
    {
     "data": {
      "application/vnd.jupyter.widget-view+json": {
       "model_id": "caf7bbceab6e431293535ed7a05372d3",
       "version_major": 2,
       "version_minor": 0
      },
      "text/plain": [
       "MapView(layout=Layout(height='400px', width='100%'))"
      ]
     },
     "metadata": {},
     "output_type": "display_data"
    },
    {
     "data": {
      "text/html": [
       "<div class=\"map-static-img-preview-d73d184a-7585-4349-b0e5-da6a2b4734d3\"><img src=\"\"></img></div>"
      ],
      "text/plain": [
       "<IPython.core.display.HTML object>"
      ]
     },
     "metadata": {},
     "output_type": "display_data"
    }
   ],
   "source": [
    "m = gis.map('usa')\n",
    "m"
   ]
  },
  {
   "cell_type": "code",
   "execution_count": 37,
   "metadata": {},
   "outputs": [],
   "source": [
    "m.add_layer(avg)\n",
    "m.zoom_to_layer(avg)"
   ]
  },
  {
   "cell_type": "code",
   "execution_count": 86,
   "metadata": {},
   "outputs": [],
   "source": [
    "df = avg.query(as_df=True)"
   ]
  },
  {
   "cell_type": "markdown",
   "metadata": {},
   "source": [
    "successfully plotted classedolor"
   ]
  },
  {
   "cell_type": "markdown",
   "metadata": {},
   "source": [
    "calulate AQI"
   ]
  },
  {
   "cell_type": "code",
   "execution_count": null,
   "metadata": {},
   "outputs": [],
   "source": []
  },
  {
   "cell_type": "code",
   "execution_count": null,
   "metadata": {},
   "outputs": [],
   "source": []
  },
  {
   "cell_type": "code",
   "execution_count": null,
   "metadata": {},
   "outputs": [],
   "source": []
  },
  {
   "cell_type": "code",
   "execution_count": null,
   "metadata": {},
   "outputs": [],
   "source": []
  }
 ],
 "metadata": {
  "kernelspec": {
   "display_name": "Python 3",
   "language": "python",
   "name": "python3"
  },
  "language_info": {
   "codemirror_mode": {
    "name": "ipython",
    "version": 3
   },
   "file_extension": ".py",
   "mimetype": "text/x-python",
   "name": "python",
   "nbconvert_exporter": "python",
   "pygments_lexer": "ipython3",
   "version": "3.6.10"
  }
 },
 "nbformat": 4,
 "nbformat_minor": 2
}
