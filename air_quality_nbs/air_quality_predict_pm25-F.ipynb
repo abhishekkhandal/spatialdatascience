{
 "cells": [
  {
   "cell_type": "code",
   "execution_count": null,
   "metadata": {},
   "outputs": [],
   "source": []
  },
  {
   "cell_type": "code",
   "execution_count": 1,
   "metadata": {},
   "outputs": [],
   "source": [
    "from datetime import datetime as dt\n",
    "from arcgis.gis import GIS\n",
    "from arcgis.geoanalytics.analyze_patterns import forest, glr\n",
    "gis = GIS('https://ndhagsb01.esri.com/portal', \n",
    "          'admin', \n",
    "          'esri.agp2', \n",
    "          profile=\"your_enterprise_portal\", verify_cert=False)\n",
    "data = gis.content.search('timeseries_data_17_18_19_1station')[0]\n",
    "series_data = data.tables[0]"
   ]
  },
  {
   "cell_type": "code",
   "execution_count": 4,
   "metadata": {},
   "outputs": [],
   "source": [
    "res2 = glr(input_layer=series_data,\n",
    "           var_dependent='PM2_5___Local_Conditions',\n",
    "           var_explanatory=['Outdoor_Temperature', \n",
    "                         'Relative_Humidity', \n",
    "                         'Wind_Direction___Resultant', \n",
    "                         'Wind_Speed___Resultant', \n",
    "                         'PM10_Total_0_10um_STP'], \n",
    "           output_name='test_glr2', return_tuple=True)"
   ]
  },
  {
   "cell_type": "code",
   "execution_count": 6,
   "metadata": {
    "scrolled": true
   },
   "outputs": [
    {
     "data": {
      "text/plain": [
       "<FeatureLayer url:\"https://ndhagsb01.esri.com/gis/rest/services/Hosted/test_glr2/FeatureServer/0\">"
      ]
     },
     "execution_count": 6,
     "metadata": {},
     "output_type": "execute_result"
    }
   ],
   "source": [
    "res2.output"
   ]
  },
  {
   "cell_type": "code",
   "execution_count": 7,
   "metadata": {},
   "outputs": [],
   "source": [
    "res2.output_predicted"
   ]
  },
  {
   "cell_type": "code",
   "execution_count": 8,
   "metadata": {},
   "outputs": [
    {
     "data": {
      "text/plain": [
       "ToolOutput(output=<FeatureLayer url:\"https://ndhagsb01.esri.com/gis/rest/services/Hosted/test_glr2/FeatureServer/0\">, output_predicted=None, coefficient_table=None, process_info=['{\"messageCode\":\"BD_101178\",\"message\":\"Summary of GLR Results &#91;Model Type: Continuous (Gaussian/OLS)&#93;\",\"params\":{\"regressionFamily\":\"Continuous (Gaussian/OLS)\"},\"style\":\"<b></b><br></br>\"}', '{\"messageCode\":\"BD_101179\",\"message\":[\"Variable\",\"Coefficient\",\"StdError\",\"t-Statistic\",\"Probability\"],\"params\":{},\"style\":\"<table><tr><th style=\\'text-align:center;\\'></th>\\\\n<th style=\\'text-align:center;\\'></th>\\\\n<th style=\\'text-align:center;\\'></th>\\\\n<th style=\\'text-align:center;\\'></th>\\\\n<th style=\\'text-align:center;\\'></th></tr>\"}', '{\"messageCode\":\"\",\"message\":[\"Wind_Speed___Resultant\",\"-0.382317\",\"0.035246\",\"-10.847164\",\"0.0*\"],\"params\":{},\"style\":\"<tr><td style=\\'text-align:left;padding:0 15px\\'></td>\\\\n<td style=\\'text-align:right;padding:0 15px\\'></td>\\\\n<td style=\\'text-align:right;padding:0 15px\\'></td>\\\\n<td style=\\'text-align:right;padding:0 15px\\'></td>\\\\n<td style=\\'text-align:right;padding:0 15px\\'></td></tr>\"}', '{\"messageCode\":\"\",\"message\":[\"Outdoor_Temperature\",\"-0.032289\",\"0.004692\",\"-6.882011\",\"0.0*\"],\"params\":{},\"style\":\"<tr><td style=\\'text-align:left;padding:0 15px\\'></td>\\\\n<td style=\\'text-align:right;padding:0 15px\\'></td>\\\\n<td style=\\'text-align:right;padding:0 15px\\'></td>\\\\n<td style=\\'text-align:right;padding:0 15px\\'></td>\\\\n<td style=\\'text-align:right;padding:0 15px\\'></td></tr>\"}', '{\"messageCode\":\"\",\"message\":[\"Relative_Humidity\",\"0.002938\",\"0.003386\",\"0.867835\",\"0.385501\"],\"params\":{},\"style\":\"<tr><td style=\\'text-align:left;padding:0 15px\\'></td>\\\\n<td style=\\'text-align:right;padding:0 15px\\'></td>\\\\n<td style=\\'text-align:right;padding:0 15px\\'></td>\\\\n<td style=\\'text-align:right;padding:0 15px\\'></td>\\\\n<td style=\\'text-align:right;padding:0 15px\\'></td></tr>\"}', '{\"messageCode\":\"\",\"message\":[\"PM10_Total_0_10um_STP\",\"0.356844\",\"0.0045\",\"79.29629\",\"0.0*\"],\"params\":{},\"style\":\"<tr><td style=\\'text-align:left;padding:0 15px\\'></td>\\\\n<td style=\\'text-align:right;padding:0 15px\\'></td>\\\\n<td style=\\'text-align:right;padding:0 15px\\'></td>\\\\n<td style=\\'text-align:right;padding:0 15px\\'></td>\\\\n<td style=\\'text-align:right;padding:0 15px\\'></td></tr>\"}', '{\"messageCode\":\"\",\"message\":[\"Wind_Direction___Resultant\",\"-0.006418\",\"9.26E-4\",\"-6.929004\",\"0.0*\"],\"params\":{},\"style\":\"<tr><td style=\\'text-align:left;padding:0 15px\\'></td>\\\\n<td style=\\'text-align:right;padding:0 15px\\'></td>\\\\n<td style=\\'text-align:right;padding:0 15px\\'></td>\\\\n<td style=\\'text-align:right;padding:0 15px\\'></td>\\\\n<td style=\\'text-align:right;padding:0 15px\\'></td></tr>\"}', '{\"messageCode\":\"\",\"message\":[\"Intercept\",\"7.903056\",\"0.520743\",\"15.176487\",\"0.0*\"],\"params\":{},\"style\":\"<tr><td style=\\'text-align:left;padding:0 15px\\'></td>\\\\n<td style=\\'text-align:right;padding:0 15px\\'></td>\\\\n<td style=\\'text-align:right;padding:0 15px\\'></td>\\\\n<td style=\\'text-align:right;padding:0 15px\\'></td>\\\\n<td style=\\'text-align:right;padding:0 15px\\'></td></tr>\"}', '{\"messageCode\":\"BD_101218\",\"message\":\"\",\"params\":{},\"style\":\"</table><br></br>\"}', '{\"messageCode\":\"BD_101181\",\"message\":\"GLR Diagnostics\",\"params\":{},\"style\":\"<span><b></b></span>\"}', '{\"messageCode\":\"BD_101217\",\"message\":[\"Property\",\"Value\"],\"style\":\"<table><tr><th style=\\'text-align:center;\\'></th>\\\\n<th style=\\'text-align:center;\\'></th></tr>\"}', '{\"messageCode\":\"\",\"message\":[\"Dependent Variable\",\"PM2_5___Local_Conditions\"],\"params\":{},\"style\":\"<tr><td style=\\'text-align:left;padding:0 15px\\'></td>\\\\n<td style=\\'text-align:right;padding:0 15px\\'></td></tr>\"}', '{\"messageCode\":\"\",\"message\":[\"Number of Observations\",\"12677\"],\"params\":{},\"style\":\"<tr><td style=\\'text-align:left;padding:0 15px\\'></td>\\\\n<td style=\\'text-align:right;padding:0 15px\\'></td></tr>\"}', '{\"messageCode\":\"\",\"message\":[\"Akaike\\'s Information Criterion (AIC)\",\"85232.688277\"],\"params\":{},\"style\":\"<tr><td style=\\'text-align:left;padding:0 15px\\'></td>\\\\n<td style=\\'text-align:right;padding:0 15px\\'></td></tr>\"}', '{\"messageCode\":\"\",\"message\":[\"Akaike\\'s Information Criterion corrected (AICc)\",\"85232.688277\"],\"params\":{},\"style\":\"<tr><td style=\\'text-align:left;padding:0 15px\\'></td>\\\\n<td style=\\'text-align:right;padding:0 15px\\'></td></tr>\"}', '{\"messageCode\":\"\",\"message\":[\"Multiple R-Squared\",\"0.39359\"],\"params\":{},\"style\":\"<tr><td style=\\'text-align:left;padding:0 15px\\'></td>\\\\n<td style=\\'text-align:right;padding:0 15px\\'></td></tr>\"}', '{\"messageCode\":\"\",\"message\":[\"Adjusted R-Squared\",\"0.393351\"],\"params\":{},\"style\":\"<tr><td style=\\'text-align:left;padding:0 15px\\'></td>\\\\n<td style=\\'text-align:right;padding:0 15px\\'></td></tr>\"}', '{\"messageCode\":\"BD_101218\",\"message\":\"\",\"params\":{},\"style\":\"</table><br></br>\"}'])"
      ]
     },
     "execution_count": 8,
     "metadata": {},
     "output_type": "execute_result"
    }
   ],
   "source": [
    "res2"
   ]
  },
  {
   "cell_type": "code",
   "execution_count": 2,
   "metadata": {},
   "outputs": [],
   "source": [
    "from arcgis.geoanalytics.analyze_patterns import forest, glr"
   ]
  },
  {
   "cell_type": "code",
   "execution_count": null,
   "metadata": {},
   "outputs": [],
   "source": [
    "forest(input_layer=series_data,\n",
    "       va)"
   ]
  },
  {
   "cell_type": "code",
   "execution_count": 6,
   "metadata": {},
   "outputs": [
    {
     "name": "stderr",
     "output_type": "stream",
     "text": [
      "{\"messageCode\":\"BD_101138\",\"message\":\"[Python] AttributeError: 'NoneType' object has no attribute 'version'\",\"params\":{\"text\":\"AttributeError: 'NoneType' object has no attribute 'version'\"}}\n",
      "{\"messageCode\":\"BD_101139\",\"message\":\"An error while executing the Python script.\"}\n",
      "Failed to execute (RunPythonScript).\n",
      "Failed.\n"
     ]
    },
    {
     "ename": "Exception",
     "evalue": "Job failed.",
     "output_type": "error",
     "traceback": [
      "\u001b[1;31m---------------------------------------------------------------------------\u001b[0m",
      "\u001b[1;31mException\u001b[0m                                 Traceback (most recent call last)",
      "\u001b[1;32m<ipython-input-6-1330ef125d5d>\u001b[0m in \u001b[0;36m<module>\u001b[1;34m\u001b[0m\n\u001b[0;32m     17\u001b[0m                           \u001b[0mimportance_tbl\u001b[0m\u001b[1;33m=\u001b[0m\u001b[1;32mTrue\u001b[0m\u001b[1;33m,\u001b[0m\u001b[1;33m\u001b[0m\u001b[1;33m\u001b[0m\u001b[0m\n\u001b[0;32m     18\u001b[0m                           output_name='train and predict pm25 tstbla')\n\u001b[1;32m---> 19\u001b[1;33m \u001b[0mrun_python_script\u001b[0m\u001b[1;33m(\u001b[0m\u001b[0mcode\u001b[0m\u001b[1;33m=\u001b[0m\u001b[0mcode\u001b[0m\u001b[1;33m,\u001b[0m \u001b[0mlayers\u001b[0m\u001b[1;33m=\u001b[0m\u001b[1;33m[\u001b[0m\u001b[0mseries_data\u001b[0m\u001b[1;33m]\u001b[0m\u001b[1;33m)\u001b[0m\u001b[1;33m\u001b[0m\u001b[1;33m\u001b[0m\u001b[0m\n\u001b[0m",
      "\u001b[1;32m~\\.conda\\envs\\tf-py-fast-arcgis\\lib\\site-packages\\arcgis\\geoanalytics\\manage_data.py\u001b[0m in \u001b[0;36mrun_python_script\u001b[1;34m(code, layers, gis, context, future)\u001b[0m\n\u001b[0;32m    163\u001b[0m             \u001b[0mgpjob\u001b[0m \u001b[1;33m=\u001b[0m \u001b[0m_execute_gp_tool\u001b[0m\u001b[1;33m(\u001b[0m\u001b[0mgis\u001b[0m\u001b[1;33m,\u001b[0m \u001b[0mtool_name\u001b[0m\u001b[1;33m,\u001b[0m \u001b[0mparams\u001b[0m\u001b[1;33m,\u001b[0m \u001b[0mparam_db\u001b[0m\u001b[1;33m,\u001b[0m \u001b[1;33m[\u001b[0m\u001b[1;33m]\u001b[0m\u001b[1;33m,\u001b[0m \u001b[0m_use_async\u001b[0m\u001b[1;33m,\u001b[0m \u001b[0murl\u001b[0m\u001b[1;33m,\u001b[0m \u001b[1;32mTrue\u001b[0m\u001b[1;33m,\u001b[0m \u001b[0mreturn_messages\u001b[0m\u001b[1;33m=\u001b[0m\u001b[1;32mFalse\u001b[0m\u001b[1;33m,\u001b[0m \u001b[0mfuture\u001b[0m\u001b[1;33m=\u001b[0m\u001b[0mfuture\u001b[0m\u001b[1;33m)\u001b[0m\u001b[1;33m\u001b[0m\u001b[1;33m\u001b[0m\u001b[0m\n\u001b[0;32m    164\u001b[0m             \u001b[1;32mreturn\u001b[0m \u001b[0mGAJob\u001b[0m\u001b[1;33m(\u001b[0m\u001b[0mgpjob\u001b[0m\u001b[1;33m=\u001b[0m\u001b[0mgpjob\u001b[0m\u001b[1;33m,\u001b[0m \u001b[0mreturn_service\u001b[0m\u001b[1;33m=\u001b[0m\u001b[1;32mNone\u001b[0m\u001b[1;33m)\u001b[0m\u001b[1;33m\u001b[0m\u001b[1;33m\u001b[0m\u001b[0m\n\u001b[1;32m--> 165\u001b[1;33m         \u001b[0mres\u001b[0m\u001b[1;33m,\u001b[0m \u001b[0mmsg\u001b[0m \u001b[1;33m=\u001b[0m \u001b[0m_execute_gp_tool\u001b[0m\u001b[1;33m(\u001b[0m\u001b[0mgis\u001b[0m\u001b[1;33m,\u001b[0m \u001b[0mtool_name\u001b[0m\u001b[1;33m,\u001b[0m \u001b[0mparams\u001b[0m\u001b[1;33m,\u001b[0m \u001b[0mparam_db\u001b[0m\u001b[1;33m,\u001b[0m \u001b[1;33m[\u001b[0m\u001b[1;33m]\u001b[0m\u001b[1;33m,\u001b[0m \u001b[0m_use_async\u001b[0m\u001b[1;33m,\u001b[0m \u001b[0murl\u001b[0m\u001b[1;33m,\u001b[0m \u001b[1;32mTrue\u001b[0m\u001b[1;33m,\u001b[0m \u001b[0mreturn_messages\u001b[0m\u001b[1;33m=\u001b[0m\u001b[1;32mTrue\u001b[0m\u001b[1;33m,\u001b[0m \u001b[0mfuture\u001b[0m\u001b[1;33m=\u001b[0m\u001b[0mfuture\u001b[0m\u001b[1;33m)\u001b[0m\u001b[1;33m\u001b[0m\u001b[1;33m\u001b[0m\u001b[0m\n\u001b[0m\u001b[0;32m    166\u001b[0m         \u001b[0mmsg\u001b[0m \u001b[1;33m=\u001b[0m \u001b[0mmsg\u001b[0m\u001b[1;33m[\u001b[0m\u001b[1;34m'messages'\u001b[0m\u001b[1;33m]\u001b[0m\u001b[1;33m\u001b[0m\u001b[1;33m\u001b[0m\u001b[0m\n\u001b[0;32m    167\u001b[0m         \u001b[1;32mreturn\u001b[0m \u001b[0mmsg\u001b[0m\u001b[1;33m\u001b[0m\u001b[1;33m\u001b[0m\u001b[0m\n",
      "\u001b[1;32m~\\.conda\\envs\\tf-py-fast-arcgis\\lib\\site-packages\\arcgis\\geoprocessing\\_support.py\u001b[0m in \u001b[0;36m_execute_gp_tool\u001b[1;34m(gis, task_name, params, param_db, return_values, use_async, url, webtool, add_token, return_messages, future)\u001b[0m\n\u001b[0;32m    396\u001b[0m             \u001b[0mgpjob\u001b[0m \u001b[1;33m=\u001b[0m \u001b[0mGPJob\u001b[0m\u001b[1;33m(\u001b[0m\u001b[0mfuture\u001b[0m\u001b[1;33m=\u001b[0m\u001b[0mfuture\u001b[0m\u001b[1;33m,\u001b[0m \u001b[0mgptool\u001b[0m\u001b[1;33m=\u001b[0m\u001b[0mgptool\u001b[0m\u001b[1;33m,\u001b[0m \u001b[0mjobid\u001b[0m\u001b[1;33m=\u001b[0m\u001b[0mjob_id\u001b[0m\u001b[1;33m,\u001b[0m \u001b[0mtask_url\u001b[0m\u001b[1;33m=\u001b[0m\u001b[0mtask_url\u001b[0m\u001b[1;33m,\u001b[0m \u001b[0mgis\u001b[0m\u001b[1;33m=\u001b[0m\u001b[0mgptool\u001b[0m\u001b[1;33m.\u001b[0m\u001b[0m_gis\u001b[0m\u001b[1;33m,\u001b[0m \u001b[0mnotify\u001b[0m\u001b[1;33m=\u001b[0m\u001b[0marcgis\u001b[0m\u001b[1;33m.\u001b[0m\u001b[0menv\u001b[0m\u001b[1;33m.\u001b[0m\u001b[0mverbose\u001b[0m\u001b[1;33m)\u001b[0m\u001b[1;33m\u001b[0m\u001b[1;33m\u001b[0m\u001b[0m\n\u001b[0;32m    397\u001b[0m             \u001b[1;32mreturn\u001b[0m \u001b[0mgpjob\u001b[0m\u001b[1;33m\u001b[0m\u001b[1;33m\u001b[0m\u001b[0m\n\u001b[1;32m--> 398\u001b[1;33m         \u001b[0mjob_info\u001b[0m \u001b[1;33m=\u001b[0m \u001b[0m_analysis_job_status\u001b[0m\u001b[1;33m(\u001b[0m\u001b[0mgptool\u001b[0m\u001b[1;33m,\u001b[0m \u001b[0mtask_url\u001b[0m\u001b[1;33m,\u001b[0m \u001b[0mjob_info\u001b[0m\u001b[1;33m)\u001b[0m\u001b[1;33m\u001b[0m\u001b[1;33m\u001b[0m\u001b[0m\n\u001b[0m\u001b[0;32m    399\u001b[0m         \u001b[0mresp\u001b[0m \u001b[1;33m=\u001b[0m \u001b[0m_analysis_job_results\u001b[0m\u001b[1;33m(\u001b[0m\u001b[0mgptool\u001b[0m\u001b[1;33m,\u001b[0m \u001b[0mtask_url\u001b[0m\u001b[1;33m,\u001b[0m \u001b[0mjob_info\u001b[0m\u001b[1;33m,\u001b[0m \u001b[0mjob_id\u001b[0m\u001b[1;33m)\u001b[0m\u001b[1;33m\u001b[0m\u001b[1;33m\u001b[0m\u001b[0m\n\u001b[0;32m    400\u001b[0m \u001b[1;33m\u001b[0m\u001b[0m\n",
      "\u001b[1;32m~\\.conda\\envs\\tf-py-fast-arcgis\\lib\\site-packages\\arcgis\\geoprocessing\\_support.py\u001b[0m in \u001b[0;36m_analysis_job_status\u001b[1;34m(gptool, task_url, job_info)\u001b[0m\n\u001b[0;32m    229\u001b[0m \u001b[1;33m\u001b[0m\u001b[0m\n\u001b[0;32m    230\u001b[0m                     \u001b[1;32mif\u001b[0m \u001b[0mjob_response\u001b[0m\u001b[1;33m.\u001b[0m\u001b[0mget\u001b[0m\u001b[1;33m(\u001b[0m\u001b[1;34m\"jobStatus\"\u001b[0m\u001b[1;33m)\u001b[0m \u001b[1;33m==\u001b[0m \u001b[1;34m\"esriJobFailed\"\u001b[0m\u001b[1;33m:\u001b[0m\u001b[1;33m\u001b[0m\u001b[1;33m\u001b[0m\u001b[0m\n\u001b[1;32m--> 231\u001b[1;33m                         \u001b[1;32mraise\u001b[0m \u001b[0mException\u001b[0m\u001b[1;33m(\u001b[0m\u001b[1;34m\"Job failed.\"\u001b[0m\u001b[1;33m)\u001b[0m\u001b[1;33m\u001b[0m\u001b[1;33m\u001b[0m\u001b[0m\n\u001b[0m\u001b[0;32m    232\u001b[0m                     \u001b[1;32melif\u001b[0m \u001b[0mjob_response\u001b[0m\u001b[1;33m.\u001b[0m\u001b[0mget\u001b[0m\u001b[1;33m(\u001b[0m\u001b[1;34m\"jobStatus\"\u001b[0m\u001b[1;33m)\u001b[0m \u001b[1;33m==\u001b[0m \u001b[1;34m\"esriJobCancelled\"\u001b[0m\u001b[1;33m:\u001b[0m\u001b[1;33m\u001b[0m\u001b[1;33m\u001b[0m\u001b[0m\n\u001b[0;32m    233\u001b[0m                         \u001b[1;32mraise\u001b[0m \u001b[0mException\u001b[0m\u001b[1;33m(\u001b[0m\u001b[1;34m\"Job cancelled.\"\u001b[0m\u001b[1;33m)\u001b[0m\u001b[1;33m\u001b[0m\u001b[1;33m\u001b[0m\u001b[0m\n",
      "\u001b[1;31mException\u001b[0m: Job failed."
     ]
    }
   ],
   "source": [
    "def code():\n",
    "    from arcgis.geoanalytics.analyze_patterns import forest\n",
    "    predicted_result = forest(input_layer=layers[0],\n",
    "                          var_prediction={\"fieldName\":\"PM2_5___Local_Conditions\", \"categorical\":False},\n",
    "                          var_explanatory=[{\"fieldName\":\"Wind_Direction___Resultant\", \"categorical\":False},\n",
    "                                            {\"fieldName\":\"Outdoor_Temperature\", \"categorical\":False},\n",
    "                                            {\"fieldName\":\"Relative_Humidity\", \"categorical\":False},\n",
    "                                            {\"fieldName\":\"Wind_Speed___Resultant\", \"categorical\":False},\n",
    "                                            {\"fieldName\":\"PM10_Total_0_10um_STP\", \"categorical\":False}],\n",
    "                          trees=50,\n",
    "                          max_tree_depth=10,\n",
    "                          random_vars=3,\n",
    "                          sample_size=100,\n",
    "                          min_leaf_size=5,\n",
    "                          prediction_type='TrainAndPredict',\n",
    "                          validation=10,\n",
    "                          importance_tbl=True,\n",
    "                          output_name='train and predict pm25 tstbla')\n",
    "run_python_script(code=code, layers=[series_data])    "
   ]
  },
  {
   "cell_type": "code",
   "execution_count": null,
   "metadata": {},
   "outputs": [],
   "source": []
  },
  {
   "cell_type": "code",
   "execution_count": 3,
   "metadata": {
    "scrolled": true
   },
   "outputs": [],
   "source": [
    "predicted_result = forest(input_layer=series_data,\n",
    "                          var_prediction={\"fieldName\":\"PM2_5___Local_Conditions\", \"categorical\":False},\n",
    "                          var_explanatory=[{\"fieldName\":\"Wind_Direction___Resultant\", \"categorical\":False},\n",
    "                                            {\"fieldName\":\"Outdoor_Temperature\", \"categorical\":False},\n",
    "                                            {\"fieldName\":\"Relative_Humidity\", \"categorical\":False},\n",
    "                                            {\"fieldName\":\"Wind_Speed___Resultant\", \"categorical\":False},\n",
    "                                            {\"fieldName\":\"PM10_Total_0_10um_STP\", \"categorical\":False}],\n",
    "                          trees=50,\n",
    "                          max_tree_depth=10,\n",
    "                          random_vars=3,\n",
    "                          sample_size=100,\n",
    "                          min_leaf_size=5,\n",
    "                          prediction_type='TrainAndPredict',\n",
    "                          validation=10,\n",
    "                          importance_tbl=True,\n",
    "                          output_name='train and predict pm25 tst')"
   ]
  },
  {
   "cell_type": "code",
   "execution_count": 4,
   "metadata": {},
   "outputs": [
    {
     "data": {
      "text/html": [
       "<div class=\"item_container\" style=\"height: auto; overflow: hidden; border: 1px solid #cfcfcf; border-radius: 2px; background: #f6fafa; line-height: 1.21429em; padding: 10px;\">\n",
       "                    <div class=\"item_left\" style=\"width: 210px; float: left;\">\n",
       "                       <a href='https://ndhagsb01.esri.com/portal/home/item.html?id=ccbf51bd9ac54d8c928b5df0617fad87' target='_blank'>\n",
       "                        <img src='https://ndhagsb01.esri.com/portal/portalimages/desktopapp.png' class=\"itemThumbnail\">\n",
       "                       </a>\n",
       "                    </div>\n",
       "\n",
       "                    <div class=\"item_right\"     style=\"float: none; width: auto; overflow: hidden;\">\n",
       "                        <a href='https://ndhagsb01.esri.com/portal/home/item.html?id=ccbf51bd9ac54d8c928b5df0617fad87' target='_blank'><b>train_and_predict_pm25_tst</b>\n",
       "                        </a>\n",
       "                        <br/>train_and_predict_pm25_tst<img src='https://ndhagsb01.esri.com/portal/home/js/jsapi/esri/css/images/item_type_icons/featureshosted16.png' style=\"vertical-align:middle;\">Feature Layer Collection by admin\n",
       "                        <br/>Last Modified: March 17, 2020\n",
       "                        <br/>0 comments, 0 views\n",
       "                    </div>\n",
       "                </div>\n",
       "                "
      ],
      "text/plain": [
       "<Item title:\"train_and_predict_pm25_tst\" type:Feature Layer Collection owner:admin>"
      ]
     },
     "execution_count": 4,
     "metadata": {},
     "output_type": "execute_result"
    }
   ],
   "source": [
    "predicted_result"
   ]
  },
  {
   "cell_type": "code",
   "execution_count": null,
   "metadata": {},
   "outputs": [],
   "source": []
  },
  {
   "cell_type": "code",
   "execution_count": null,
   "metadata": {},
   "outputs": [],
   "source": []
  },
  {
   "cell_type": "code",
   "execution_count": null,
   "metadata": {},
   "outputs": [],
   "source": []
  },
  {
   "cell_type": "code",
   "execution_count": null,
   "metadata": {},
   "outputs": [],
   "source": []
  },
  {
   "cell_type": "code",
   "execution_count": null,
   "metadata": {},
   "outputs": [],
   "source": []
  },
  {
   "cell_type": "code",
   "execution_count": null,
   "metadata": {},
   "outputs": [],
   "source": []
  },
  {
   "cell_type": "code",
   "execution_count": null,
   "metadata": {},
   "outputs": [],
   "source": []
  },
  {
   "cell_type": "code",
   "execution_count": null,
   "metadata": {},
   "outputs": [],
   "source": []
  },
  {
   "cell_type": "code",
   "execution_count": null,
   "metadata": {},
   "outputs": [],
   "source": []
  },
  {
   "cell_type": "code",
   "execution_count": null,
   "metadata": {},
   "outputs": [],
   "source": []
  },
  {
   "cell_type": "code",
   "execution_count": null,
   "metadata": {},
   "outputs": [],
   "source": []
  },
  {
   "cell_type": "code",
   "execution_count": null,
   "metadata": {},
   "outputs": [],
   "source": []
  },
  {
   "cell_type": "code",
   "execution_count": null,
   "metadata": {},
   "outputs": [],
   "source": []
  },
  {
   "cell_type": "code",
   "execution_count": null,
   "metadata": {},
   "outputs": [],
   "source": []
  },
  {
   "cell_type": "code",
   "execution_count": 3,
   "metadata": {},
   "outputs": [],
   "source": [
    "%matplotlib inline\n",
    "\n",
    "import matplotlib.pyplot as plt\n",
    "import pandas as pd\n",
    "from datetime import datetime as dt\n",
    "\n",
    "import arcgis\n",
    "import arcgis.geoanalytics\n",
    "from arcgis.gis import GIS\n",
    "\n",
    "from arcgis.geoanalytics.manage_data import run_python_script\n",
    "from arcgis.geoanalytics.analyze_patterns import forest, glr\n",
    "from arcgis.geoanalytics.summarize_data import describe_dataset"
   ]
  },
  {
   "cell_type": "code",
   "execution_count": 23,
   "metadata": {},
   "outputs": [],
   "source": [
    "import arcgis\n",
    "arcgis.env.verbose = True"
   ]
  },
  {
   "cell_type": "code",
   "execution_count": 28,
   "metadata": {},
   "outputs": [],
   "source": [
    "gis = GIS('https://ndhagsb01.esri.com/portal', \n",
    "          'admin', \n",
    "          'esri.agp2', \n",
    "          profile=\"your_enterprise_portal\", verify_cert=False)"
   ]
  },
  {
   "cell_type": "code",
   "execution_count": 17,
   "metadata": {},
   "outputs": [
    {
     "data": {
      "text/plain": [
       "[<Item title:\"bigDataFileShares_ChicagoCrime_2001_2020\" type:Big Data File Share owner:admin>,\n",
       " <Item title:\"bigDataFileShares_ServiceCallsOrleans\" type:Big Data File Share owner:admin>,\n",
       " <Item title:\"bigDataFileShares_ServiceCallsOrleans\" type:Big Data File Share owner:admin>,\n",
       " <Item title:\"bigDataFileShares_ChicagoCrime\" type:Big Data File Share owner:admin>,\n",
       " <Item title:\"bigDataFileShares_calls\" type:Big Data File Share owner:admin>,\n",
       " <Item title:\"bigDataFileShares_air_quality_subset\" type:Big Data File Share owner:admin>,\n",
       " <Item title:\"bigDataFileShares_chicago_crime\" type:Big Data File Share owner:admin>,\n",
       " <Item title:\"bigDataFileShares_air_quality_2019\" type:Big Data File Share owner:admin>,\n",
       " <Item title:\"bigDataFileShares_air_quality_2017_18_19\" type:Big Data File Share owner:admin>]"
      ]
     },
     "execution_count": 17,
     "metadata": {},
     "output_type": "execute_result"
    }
   ],
   "source": [
    "search_result = gis.content.search(\"\", item_type = \"big data file share\", max_items=40)\n",
    "search_result"
   ]
  },
  {
   "cell_type": "code",
   "execution_count": 32,
   "metadata": {},
   "outputs": [],
   "source": [
    "air_item = search_result[-1]"
   ]
  },
  {
   "cell_type": "code",
   "execution_count": 33,
   "metadata": {},
   "outputs": [
    {
     "data": {
      "text/html": [
       "<div class=\"item_container\" style=\"height: auto; overflow: hidden; border: 1px solid #cfcfcf; border-radius: 2px; background: #f6fafa; line-height: 1.21429em; padding: 10px;\">\n",
       "                    <div class=\"item_left\" style=\"width: 210px; float: left;\">\n",
       "                       <a href='https://ndhagsb01.esri.com/portal/home/item.html?id=97ad46c856d043cdb4af90e5c6184ec0' target='_blank'>\n",
       "                        <img src='https://ndhagsb01.esri.com/portal/portalimages/desktopapp.png' class=\"itemThumbnail\">\n",
       "                       </a>\n",
       "                    </div>\n",
       "\n",
       "                    <div class=\"item_right\"     style=\"float: none; width: auto; overflow: hidden;\">\n",
       "                        <a href='https://ndhagsb01.esri.com/portal/home/item.html?id=97ad46c856d043cdb4af90e5c6184ec0' target='_blank'><b>bigDataFileShares_air_quality_2017_18_19</b>\n",
       "                        </a>\n",
       "                        <br/><img src='https://ndhagsb01.esri.com/portal/home/js/jsapi/esri/css/images/item_type_icons/layers16.png' style=\"vertical-align:middle;\">Big Data File Share by admin\n",
       "                        <br/>Last Modified: March 16, 2020\n",
       "                        <br/>0 comments, 0 views\n",
       "                    </div>\n",
       "                </div>\n",
       "                "
      ],
      "text/plain": [
       "<Item title:\"bigDataFileShares_air_quality_2017_18_19\" type:Big Data File Share owner:admin>"
      ]
     },
     "execution_count": 33,
     "metadata": {},
     "output_type": "execute_result"
    }
   ],
   "source": [
    "air_item"
   ]
  },
  {
   "cell_type": "code",
   "execution_count": 34,
   "metadata": {},
   "outputs": [
    {
     "data": {
      "text/plain": [
       "[<Layer url:\"https://ndhga01.esri.com/gis/rest/services/DataStoreCatalogs/bigDataFileShares_air_quality_2017_18_19/BigDataCatalogServer/air_quality\">]"
      ]
     },
     "execution_count": 34,
     "metadata": {},
     "output_type": "execute_result"
    }
   ],
   "source": [
    "air_item.layers"
   ]
  },
  {
   "cell_type": "code",
   "execution_count": 35,
   "metadata": {},
   "outputs": [],
   "source": [
    "air_lyr = air_item.layers[0]"
   ]
  },
  {
   "cell_type": "code",
   "execution_count": 36,
   "metadata": {
    "scrolled": true
   },
   "outputs": [
    {
     "name": "stdout",
     "output_type": "stream",
     "text": [
      "Submitted.\n",
      "Executing...\n",
      "Executing (DescribeDataset): DescribeDataset \"Record Set\" 1000 true \"{\"serviceProperties\": {\"name\": \"Description of air quality 2019 data830823\", \"serviceUrl\": \"https://ndhagsb01.esri.com/gis/rest/services/Hosted/Description_of_air_quality_2019_data830823/FeatureServer\"}, \"itemProperties\": {\"itemId\": \"1d25d25d571d46878319e5abe03ef223\"}}\" \"{\"defaultAggregationStyles\": false}\"\n",
      "Start Time: Mon Mar 16 13:14:13 2020\n",
      "Using URL based GPRecordSet param: https://ndhga01.esri.com/gis/rest/services/DataStoreCatalogs/bigDataFileShares_air_quality_2017_18_19/BigDataCatalogServer/air_quality\n",
      "{\"messageCode\":\"BD_101028\",\"message\":\"Starting new distributed job with 2294 tasks.\",\"params\":{\"totalTasks\":\"2294\"}}\n",
      "{\"messageCode\":\"BD_101029\",\"message\":\"0/2294 distributed tasks completed.\",\"params\":{\"completedTasks\":\"0\",\"totalTasks\":\"2294\"}}\n",
      "{\"messageCode\":\"BD_101029\",\"message\":\"1/2294 distributed tasks completed.\",\"params\":{\"completedTasks\":\"1\",\"totalTasks\":\"2294\"}}\n",
      "{\"messageCode\":\"BD_101029\",\"message\":\"25/2294 distributed tasks completed.\",\"params\":{\"completedTasks\":\"25\",\"totalTasks\":\"2294\"}}\n",
      "{\"messageCode\":\"BD_101029\",\"message\":\"45/2294 distributed tasks completed.\",\"params\":{\"completedTasks\":\"45\",\"totalTasks\":\"2294\"}}\n",
      "{\"messageCode\":\"BD_101029\",\"message\":\"59/2294 distributed tasks completed.\",\"params\":{\"completedTasks\":\"59\",\"totalTasks\":\"2294\"}}\n",
      "{\"messageCode\":\"BD_101029\",\"message\":\"77/2294 distributed tasks completed.\",\"params\":{\"completedTasks\":\"77\",\"totalTasks\":\"2294\"}}\n",
      "{\"messageCode\":\"BD_101029\",\"message\":\"94/2294 distributed tasks completed.\",\"params\":{\"completedTasks\":\"94\",\"totalTasks\":\"2294\"}}\n",
      "{\"messageCode\":\"BD_101029\",\"message\":\"112/2294 distributed tasks completed.\",\"params\":{\"completedTasks\":\"112\",\"totalTasks\":\"2294\"}}\n",
      "{\"messageCode\":\"BD_101029\",\"message\":\"131/2294 distributed tasks completed.\",\"params\":{\"completedTasks\":\"131\",\"totalTasks\":\"2294\"}}\n",
      "{\"messageCode\":\"BD_101029\",\"message\":\"148/2294 distributed tasks completed.\",\"params\":{\"completedTasks\":\"148\",\"totalTasks\":\"2294\"}}\n",
      "{\"messageCode\":\"BD_101029\",\"message\":\"166/2294 distributed tasks completed.\",\"params\":{\"completedTasks\":\"166\",\"totalTasks\":\"2294\"}}\n",
      "{\"messageCode\":\"BD_101029\",\"message\":\"180/2294 distributed tasks completed.\",\"params\":{\"completedTasks\":\"180\",\"totalTasks\":\"2294\"}}\n",
      "{\"messageCode\":\"BD_101029\",\"message\":\"198/2294 distributed tasks completed.\",\"params\":{\"completedTasks\":\"198\",\"totalTasks\":\"2294\"}}\n",
      "{\"messageCode\":\"BD_101029\",\"message\":\"216/2294 distributed tasks completed.\",\"params\":{\"completedTasks\":\"216\",\"totalTasks\":\"2294\"}}\n",
      "{\"messageCode\":\"BD_101029\",\"message\":\"231/2294 distributed tasks completed.\",\"params\":{\"completedTasks\":\"231\",\"totalTasks\":\"2294\"}}\n",
      "{\"messageCode\":\"BD_101029\",\"message\":\"248/2294 distributed tasks completed.\",\"params\":{\"completedTasks\":\"248\",\"totalTasks\":\"2294\"}}\n",
      "{\"messageCode\":\"BD_101029\",\"message\":\"260/2294 distributed tasks completed.\",\"params\":{\"completedTasks\":\"260\",\"totalTasks\":\"2294\"}}\n",
      "{\"messageCode\":\"BD_101029\",\"message\":\"281/2294 distributed tasks completed.\",\"params\":{\"completedTasks\":\"281\",\"totalTasks\":\"2294\"}}\n",
      "{\"messageCode\":\"BD_101029\",\"message\":\"294/2294 distributed tasks completed.\",\"params\":{\"completedTasks\":\"294\",\"totalTasks\":\"2294\"}}\n",
      "{\"messageCode\":\"BD_101029\",\"message\":\"311/2294 distributed tasks completed.\",\"params\":{\"completedTasks\":\"311\",\"totalTasks\":\"2294\"}}\n",
      "{\"messageCode\":\"BD_101029\",\"message\":\"330/2294 distributed tasks completed.\",\"params\":{\"completedTasks\":\"330\",\"totalTasks\":\"2294\"}}\n",
      "{\"messageCode\":\"BD_101029\",\"message\":\"347/2294 distributed tasks completed.\",\"params\":{\"completedTasks\":\"347\",\"totalTasks\":\"2294\"}}\n",
      "{\"messageCode\":\"BD_101029\",\"message\":\"365/2294 distributed tasks completed.\",\"params\":{\"completedTasks\":\"365\",\"totalTasks\":\"2294\"}}\n",
      "{\"messageCode\":\"BD_101029\",\"message\":\"382/2294 distributed tasks completed.\",\"params\":{\"completedTasks\":\"382\",\"totalTasks\":\"2294\"}}\n",
      "{\"messageCode\":\"BD_101029\",\"message\":\"403/2294 distributed tasks completed.\",\"params\":{\"completedTasks\":\"403\",\"totalTasks\":\"2294\"}}\n",
      "{\"messageCode\":\"BD_101029\",\"message\":\"419/2294 distributed tasks completed.\",\"params\":{\"completedTasks\":\"419\",\"totalTasks\":\"2294\"}}\n",
      "{\"messageCode\":\"BD_101029\",\"message\":\"439/2294 distributed tasks completed.\",\"params\":{\"completedTasks\":\"439\",\"totalTasks\":\"2294\"}}\n",
      "{\"messageCode\":\"BD_101029\",\"message\":\"449/2294 distributed tasks completed.\",\"params\":{\"completedTasks\":\"449\",\"totalTasks\":\"2294\"}}\n",
      "{\"messageCode\":\"BD_101029\",\"message\":\"466/2294 distributed tasks completed.\",\"params\":{\"completedTasks\":\"466\",\"totalTasks\":\"2294\"}}\n",
      "{\"messageCode\":\"BD_101029\",\"message\":\"484/2294 distributed tasks completed.\",\"params\":{\"completedTasks\":\"484\",\"totalTasks\":\"2294\"}}\n",
      "{\"messageCode\":\"BD_101029\",\"message\":\"499/2294 distributed tasks completed.\",\"params\":{\"completedTasks\":\"499\",\"totalTasks\":\"2294\"}}\n",
      "{\"messageCode\":\"BD_101029\",\"message\":\"514/2294 distributed tasks completed.\",\"params\":{\"completedTasks\":\"514\",\"totalTasks\":\"2294\"}}\n",
      "{\"messageCode\":\"BD_101029\",\"message\":\"532/2294 distributed tasks completed.\",\"params\":{\"completedTasks\":\"532\",\"totalTasks\":\"2294\"}}\n",
      "{\"messageCode\":\"BD_101029\",\"message\":\"551/2294 distributed tasks completed.\",\"params\":{\"completedTasks\":\"551\",\"totalTasks\":\"2294\"}}\n",
      "{\"messageCode\":\"BD_101029\",\"message\":\"569/2294 distributed tasks completed.\",\"params\":{\"completedTasks\":\"569\",\"totalTasks\":\"2294\"}}\n",
      "{\"messageCode\":\"BD_101029\",\"message\":\"585/2294 distributed tasks completed.\",\"params\":{\"completedTasks\":\"585\",\"totalTasks\":\"2294\"}}\n",
      "{\"messageCode\":\"BD_101029\",\"message\":\"606/2294 distributed tasks completed.\",\"params\":{\"completedTasks\":\"606\",\"totalTasks\":\"2294\"}}\n",
      "{\"messageCode\":\"BD_101029\",\"message\":\"624/2294 distributed tasks completed.\",\"params\":{\"completedTasks\":\"624\",\"totalTasks\":\"2294\"}}\n",
      "{\"messageCode\":\"BD_101029\",\"message\":\"640/2294 distributed tasks completed.\",\"params\":{\"completedTasks\":\"640\",\"totalTasks\":\"2294\"}}\n",
      "{\"messageCode\":\"BD_101029\",\"message\":\"659/2294 distributed tasks completed.\",\"params\":{\"completedTasks\":\"659\",\"totalTasks\":\"2294\"}}\n",
      "{\"messageCode\":\"BD_101029\",\"message\":\"675/2294 distributed tasks completed.\",\"params\":{\"completedTasks\":\"675\",\"totalTasks\":\"2294\"}}\n",
      "{\"messageCode\":\"BD_101029\",\"message\":\"697/2294 distributed tasks completed.\",\"params\":{\"completedTasks\":\"697\",\"totalTasks\":\"2294\"}}\n",
      "{\"messageCode\":\"BD_101029\",\"message\":\"716/2294 distributed tasks completed.\",\"params\":{\"completedTasks\":\"716\",\"totalTasks\":\"2294\"}}\n",
      "{\"messageCode\":\"BD_101029\",\"message\":\"735/2294 distributed tasks completed.\",\"params\":{\"completedTasks\":\"735\",\"totalTasks\":\"2294\"}}\n",
      "{\"messageCode\":\"BD_101029\",\"message\":\"749/2294 distributed tasks completed.\",\"params\":{\"completedTasks\":\"749\",\"totalTasks\":\"2294\"}}\n",
      "{\"messageCode\":\"BD_101029\",\"message\":\"767/2294 distributed tasks completed.\",\"params\":{\"completedTasks\":\"767\",\"totalTasks\":\"2294\"}}\n",
      "{\"messageCode\":\"BD_101029\",\"message\":\"783/2294 distributed tasks completed.\",\"params\":{\"completedTasks\":\"783\",\"totalTasks\":\"2294\"}}\n",
      "{\"messageCode\":\"BD_101029\",\"message\":\"799/2294 distributed tasks completed.\",\"params\":{\"completedTasks\":\"799\",\"totalTasks\":\"2294\"}}\n",
      "{\"messageCode\":\"BD_101029\",\"message\":\"818/2294 distributed tasks completed.\",\"params\":{\"completedTasks\":\"818\",\"totalTasks\":\"2294\"}}\n",
      "{\"messageCode\":\"BD_101029\",\"message\":\"836/2294 distributed tasks completed.\",\"params\":{\"completedTasks\":\"836\",\"totalTasks\":\"2294\"}}\n",
      "{\"messageCode\":\"BD_101029\",\"message\":\"858/2294 distributed tasks completed.\",\"params\":{\"completedTasks\":\"858\",\"totalTasks\":\"2294\"}}\n",
      "{\"messageCode\":\"BD_101029\",\"message\":\"878/2294 distributed tasks completed.\",\"params\":{\"completedTasks\":\"878\",\"totalTasks\":\"2294\"}}\n",
      "{\"messageCode\":\"BD_101029\",\"message\":\"896/2294 distributed tasks completed.\",\"params\":{\"completedTasks\":\"896\",\"totalTasks\":\"2294\"}}\n",
      "{\"messageCode\":\"BD_101029\",\"message\":\"913/2294 distributed tasks completed.\",\"params\":{\"completedTasks\":\"913\",\"totalTasks\":\"2294\"}}\n",
      "{\"messageCode\":\"BD_101029\",\"message\":\"928/2294 distributed tasks completed.\",\"params\":{\"completedTasks\":\"928\",\"totalTasks\":\"2294\"}}\n",
      "{\"messageCode\":\"BD_101029\",\"message\":\"944/2294 distributed tasks completed.\",\"params\":{\"completedTasks\":\"944\",\"totalTasks\":\"2294\"}}\n",
      "{\"messageCode\":\"BD_101029\",\"message\":\"962/2294 distributed tasks completed.\",\"params\":{\"completedTasks\":\"962\",\"totalTasks\":\"2294\"}}\n",
      "{\"messageCode\":\"BD_101029\",\"message\":\"975/2294 distributed tasks completed.\",\"params\":{\"completedTasks\":\"975\",\"totalTasks\":\"2294\"}}\n",
      "{\"messageCode\":\"BD_101029\",\"message\":\"996/2294 distributed tasks completed.\",\"params\":{\"completedTasks\":\"996\",\"totalTasks\":\"2294\"}}\n",
      "{\"messageCode\":\"BD_101029\",\"message\":\"1014/2294 distributed tasks completed.\",\"params\":{\"completedTasks\":\"1014\",\"totalTasks\":\"2294\"}}\n",
      "{\"messageCode\":\"BD_101029\",\"message\":\"1032/2294 distributed tasks completed.\",\"params\":{\"completedTasks\":\"1032\",\"totalTasks\":\"2294\"}}\n",
      "{\"messageCode\":\"BD_101029\",\"message\":\"1050/2294 distributed tasks completed.\",\"params\":{\"completedTasks\":\"1050\",\"totalTasks\":\"2294\"}}\n",
      "{\"messageCode\":\"BD_101029\",\"message\":\"1068/2294 distributed tasks completed.\",\"params\":{\"completedTasks\":\"1068\",\"totalTasks\":\"2294\"}}\n",
      "{\"messageCode\":\"BD_101029\",\"message\":\"1085/2294 distributed tasks completed.\",\"params\":{\"completedTasks\":\"1085\",\"totalTasks\":\"2294\"}}\n",
      "{\"messageCode\":\"BD_101029\",\"message\":\"1103/2294 distributed tasks completed.\",\"params\":{\"completedTasks\":\"1103\",\"totalTasks\":\"2294\"}}\n",
      "{\"messageCode\":\"BD_101029\",\"message\":\"1119/2294 distributed tasks completed.\",\"params\":{\"completedTasks\":\"1119\",\"totalTasks\":\"2294\"}}\n",
      "{\"messageCode\":\"BD_101029\",\"message\":\"1140/2294 distributed tasks completed.\",\"params\":{\"completedTasks\":\"1140\",\"totalTasks\":\"2294\"}}\n",
      "{\"messageCode\":\"BD_101029\",\"message\":\"2294/2294 distributed tasks completed.\",\"params\":{\"completedTasks\":\"2294\",\"totalTasks\":\"2294\"}}\n",
      "{\"messageCode\":\"BD_101028\",\"message\":\"Starting new distributed job with 18 tasks.\",\"params\":{\"totalTasks\":\"18\"}}\n",
      "{\"messageCode\":\"BD_101029\",\"message\":\"18/18 distributed tasks completed.\",\"params\":{\"completedTasks\":\"18\",\"totalTasks\":\"18\"}}\n",
      "{\"messageCode\":\"BD_101081\",\"message\":\"Finished writing results:\"}\n",
      "{\"messageCode\":\"BD_101082\",\"message\":\"* Count of features = 24\",\"params\":{\"resultCount\":\"24\"}}\n",
      "{\"messageCode\":\"BD_101083\",\"message\":\"* Spatial extent = None\",\"params\":{\"extent\":\"None\"}}\n",
      "{\"messageCode\":\"BD_101084\",\"message\":\"* Temporal extent = None\",\"params\":{\"extent\":\"None\"}}\n",
      "{\"messageCode\":\"BD_101226\",\"message\":\"Feature service layer created: https://ndhagsb01.esri.com/gis/rest/services/Hosted/Description_of_air_quality_2019_data830823/FeatureServer/0\",\"params\":{\"serviceUrl\":\"https://ndhagsb01.esri.com/gis/rest/services/Hosted/Description_of_air_quality_2019_data830823/FeatureServer/0\"}}\n",
      "{\"messageCode\":\"BD_101028\",\"message\":\"Starting new distributed job with 18 tasks.\",\"params\":{\"totalTasks\":\"18\"}}\n",
      "{\"messageCode\":\"BD_101029\",\"message\":\"0/18 distributed tasks completed.\",\"params\":{\"completedTasks\":\"0\",\"totalTasks\":\"18\"}}\n",
      "{\"messageCode\":\"BD_101029\",\"message\":\"18/18 distributed tasks completed.\",\"params\":{\"completedTasks\":\"18\",\"totalTasks\":\"18\"}}\n",
      "{\"messageCode\":\"BD_101081\",\"message\":\"Finished writing results:\"}\n",
      "{\"messageCode\":\"BD_101082\",\"message\":\"* Count of features = 1\",\"params\":{\"resultCount\":\"1\"}}\n",
      "{\"messageCode\":\"BD_101083\",\"message\":\"* Spatial extent = {\\\"xmin\\\":-161.767,\\\"ymin\\\":17.953006,\\\"xmax\\\":-65.915482,\\\"ymax\\\":64.84568999999999}\",\"params\":{\"extent\":\"{\\\"xmin\\\":-161.767,\\\"ymin\\\":17.953006,\\\"xmax\\\":-65.915482,\\\"ymax\\\":64.84568999999999}\"}}\n",
      "{\"messageCode\":\"BD_101084\",\"message\":\"* Temporal extent = Interval(MutableInstant(2017-01-01 00:00:00.000),MutableInstant(2019-04-30 00:00:00.000))\",\"params\":{\"extent\":\"Interval(MutableInstant(2017-01-01 00:00:00.000),MutableInstant(2019-04-30 00:00:00.000))\"}}\n",
      "{\"messageCode\":\"BD_101226\",\"message\":\"Feature service layer created: https://ndhagsb01.esri.com/gis/rest/services/Hosted/Description_of_air_quality_2019_data830823/FeatureServer/1\",\"params\":{\"serviceUrl\":\"https://ndhagsb01.esri.com/gis/rest/services/Hosted/Description_of_air_quality_2019_data830823/FeatureServer/1\"}}\n",
      "{\"messageCode\":\"BD_101028\",\"message\":\"Starting new distributed job with 1147 tasks.\",\"params\":{\"totalTasks\":\"1147\"}}\n",
      "{\"messageCode\":\"BD_101029\",\"message\":\"1/1147 distributed tasks completed.\",\"params\":{\"completedTasks\":\"1\",\"totalTasks\":\"1147\"}}\n",
      "{\"messageCode\":\"BD_101029\",\"message\":\"27/1147 distributed tasks completed.\",\"params\":{\"completedTasks\":\"27\",\"totalTasks\":\"1147\"}}\n",
      "{\"messageCode\":\"BD_101029\",\"message\":\"44/1147 distributed tasks completed.\",\"params\":{\"completedTasks\":\"44\",\"totalTasks\":\"1147\"}}\n",
      "{\"messageCode\":\"BD_101029\",\"message\":\"64/1147 distributed tasks completed.\",\"params\":{\"completedTasks\":\"64\",\"totalTasks\":\"1147\"}}\n",
      "{\"messageCode\":\"BD_101029\",\"message\":\"83/1147 distributed tasks completed.\",\"params\":{\"completedTasks\":\"83\",\"totalTasks\":\"1147\"}}\n",
      "{\"messageCode\":\"BD_101029\",\"message\":\"100/1147 distributed tasks completed.\",\"params\":{\"completedTasks\":\"100\",\"totalTasks\":\"1147\"}}\n",
      "{\"messageCode\":\"BD_101029\",\"message\":\"118/1147 distributed tasks completed.\",\"params\":{\"completedTasks\":\"118\",\"totalTasks\":\"1147\"}}\n",
      "{\"messageCode\":\"BD_101029\",\"message\":\"137/1147 distributed tasks completed.\",\"params\":{\"completedTasks\":\"137\",\"totalTasks\":\"1147\"}}\n",
      "{\"messageCode\":\"BD_101029\",\"message\":\"151/1147 distributed tasks completed.\",\"params\":{\"completedTasks\":\"151\",\"totalTasks\":\"1147\"}}\n",
      "{\"messageCode\":\"BD_101029\",\"message\":\"168/1147 distributed tasks completed.\",\"params\":{\"completedTasks\":\"168\",\"totalTasks\":\"1147\"}}\n",
      "{\"messageCode\":\"BD_101029\",\"message\":\"194/1147 distributed tasks completed.\",\"params\":{\"completedTasks\":\"194\",\"totalTasks\":\"1147\"}}\n",
      "{\"messageCode\":\"BD_101029\",\"message\":\"210/1147 distributed tasks completed.\",\"params\":{\"completedTasks\":\"210\",\"totalTasks\":\"1147\"}}\n",
      "{\"messageCode\":\"BD_101029\",\"message\":\"225/1147 distributed tasks completed.\",\"params\":{\"completedTasks\":\"225\",\"totalTasks\":\"1147\"}}\n",
      "{\"messageCode\":\"BD_101029\",\"message\":\"243/1147 distributed tasks completed.\",\"params\":{\"completedTasks\":\"243\",\"totalTasks\":\"1147\"}}\n",
      "{\"messageCode\":\"BD_101029\",\"message\":\"260/1147 distributed tasks completed.\",\"params\":{\"completedTasks\":\"260\",\"totalTasks\":\"1147\"}}\n",
      "{\"messageCode\":\"BD_101029\",\"message\":\"283/1147 distributed tasks completed.\",\"params\":{\"completedTasks\":\"283\",\"totalTasks\":\"1147\"}}\n",
      "{\"messageCode\":\"BD_101029\",\"message\":\"296/1147 distributed tasks completed.\",\"params\":{\"completedTasks\":\"296\",\"totalTasks\":\"1147\"}}\n",
      "{\"messageCode\":\"BD_101029\",\"message\":\"314/1147 distributed tasks completed.\",\"params\":{\"completedTasks\":\"314\",\"totalTasks\":\"1147\"}}\n",
      "{\"messageCode\":\"BD_101029\",\"message\":\"336/1147 distributed tasks completed.\",\"params\":{\"completedTasks\":\"336\",\"totalTasks\":\"1147\"}}\n",
      "{\"messageCode\":\"BD_101029\",\"message\":\"357/1147 distributed tasks completed.\",\"params\":{\"completedTasks\":\"357\",\"totalTasks\":\"1147\"}}\n",
      "{\"messageCode\":\"BD_101029\",\"message\":\"370/1147 distributed tasks completed.\",\"params\":{\"completedTasks\":\"370\",\"totalTasks\":\"1147\"}}\n",
      "{\"messageCode\":\"BD_101029\",\"message\":\"390/1147 distributed tasks completed.\",\"params\":{\"completedTasks\":\"390\",\"totalTasks\":\"1147\"}}\n",
      "{\"messageCode\":\"BD_101029\",\"message\":\"409/1147 distributed tasks completed.\",\"params\":{\"completedTasks\":\"409\",\"totalTasks\":\"1147\"}}\n",
      "{\"messageCode\":\"BD_101029\",\"message\":\"430/1147 distributed tasks completed.\",\"params\":{\"completedTasks\":\"430\",\"totalTasks\":\"1147\"}}\n",
      "{\"messageCode\":\"BD_101029\",\"message\":\"443/1147 distributed tasks completed.\",\"params\":{\"completedTasks\":\"443\",\"totalTasks\":\"1147\"}}\n",
      "{\"messageCode\":\"BD_101029\",\"message\":\"463/1147 distributed tasks completed.\",\"params\":{\"completedTasks\":\"463\",\"totalTasks\":\"1147\"}}\n",
      "{\"messageCode\":\"BD_101029\",\"message\":\"481/1147 distributed tasks completed.\",\"params\":{\"completedTasks\":\"481\",\"totalTasks\":\"1147\"}}\n",
      "{\"messageCode\":\"BD_101029\",\"message\":\"500/1147 distributed tasks completed.\",\"params\":{\"completedTasks\":\"500\",\"totalTasks\":\"1147\"}}\n",
      "{\"messageCode\":\"BD_101029\",\"message\":\"518/1147 distributed tasks completed.\",\"params\":{\"completedTasks\":\"518\",\"totalTasks\":\"1147\"}}\n",
      "{\"messageCode\":\"BD_101029\",\"message\":\"536/1147 distributed tasks completed.\",\"params\":{\"completedTasks\":\"536\",\"totalTasks\":\"1147\"}}\n",
      "{\"messageCode\":\"BD_101029\",\"message\":\"551/1147 distributed tasks completed.\",\"params\":{\"completedTasks\":\"551\",\"totalTasks\":\"1147\"}}\n",
      "{\"messageCode\":\"BD_101029\",\"message\":\"576/1147 distributed tasks completed.\",\"params\":{\"completedTasks\":\"576\",\"totalTasks\":\"1147\"}}\n"
     ]
    },
    {
     "name": "stdout",
     "output_type": "stream",
     "text": [
      "{\"messageCode\":\"BD_101029\",\"message\":\"594/1147 distributed tasks completed.\",\"params\":{\"completedTasks\":\"594\",\"totalTasks\":\"1147\"}}\n",
      "{\"messageCode\":\"BD_101029\",\"message\":\"613/1147 distributed tasks completed.\",\"params\":{\"completedTasks\":\"613\",\"totalTasks\":\"1147\"}}\n",
      "{\"messageCode\":\"BD_101029\",\"message\":\"632/1147 distributed tasks completed.\",\"params\":{\"completedTasks\":\"632\",\"totalTasks\":\"1147\"}}\n",
      "{\"messageCode\":\"BD_101029\",\"message\":\"649/1147 distributed tasks completed.\",\"params\":{\"completedTasks\":\"649\",\"totalTasks\":\"1147\"}}\n",
      "{\"messageCode\":\"BD_101029\",\"message\":\"672/1147 distributed tasks completed.\",\"params\":{\"completedTasks\":\"672\",\"totalTasks\":\"1147\"}}\n",
      "{\"messageCode\":\"BD_101029\",\"message\":\"697/1147 distributed tasks completed.\",\"params\":{\"completedTasks\":\"697\",\"totalTasks\":\"1147\"}}\n",
      "{\"messageCode\":\"BD_101029\",\"message\":\"716/1147 distributed tasks completed.\",\"params\":{\"completedTasks\":\"716\",\"totalTasks\":\"1147\"}}\n",
      "{\"messageCode\":\"BD_101029\",\"message\":\"737/1147 distributed tasks completed.\",\"params\":{\"completedTasks\":\"737\",\"totalTasks\":\"1147\"}}\n",
      "{\"messageCode\":\"BD_101029\",\"message\":\"757/1147 distributed tasks completed.\",\"params\":{\"completedTasks\":\"757\",\"totalTasks\":\"1147\"}}\n",
      "{\"messageCode\":\"BD_101029\",\"message\":\"768/1147 distributed tasks completed.\",\"params\":{\"completedTasks\":\"768\",\"totalTasks\":\"1147\"}}\n",
      "{\"messageCode\":\"BD_101029\",\"message\":\"788/1147 distributed tasks completed.\",\"params\":{\"completedTasks\":\"788\",\"totalTasks\":\"1147\"}}\n",
      "{\"messageCode\":\"BD_101029\",\"message\":\"807/1147 distributed tasks completed.\",\"params\":{\"completedTasks\":\"807\",\"totalTasks\":\"1147\"}}\n",
      "{\"messageCode\":\"BD_101029\",\"message\":\"824/1147 distributed tasks completed.\",\"params\":{\"completedTasks\":\"824\",\"totalTasks\":\"1147\"}}\n",
      "{\"messageCode\":\"BD_101029\",\"message\":\"844/1147 distributed tasks completed.\",\"params\":{\"completedTasks\":\"844\",\"totalTasks\":\"1147\"}}\n",
      "{\"messageCode\":\"BD_101029\",\"message\":\"864/1147 distributed tasks completed.\",\"params\":{\"completedTasks\":\"864\",\"totalTasks\":\"1147\"}}\n",
      "{\"messageCode\":\"BD_101029\",\"message\":\"878/1147 distributed tasks completed.\",\"params\":{\"completedTasks\":\"878\",\"totalTasks\":\"1147\"}}\n",
      "{\"messageCode\":\"BD_101029\",\"message\":\"897/1147 distributed tasks completed.\",\"params\":{\"completedTasks\":\"897\",\"totalTasks\":\"1147\"}}\n",
      "{\"messageCode\":\"BD_101029\",\"message\":\"917/1147 distributed tasks completed.\",\"params\":{\"completedTasks\":\"917\",\"totalTasks\":\"1147\"}}\n",
      "{\"messageCode\":\"BD_101029\",\"message\":\"935/1147 distributed tasks completed.\",\"params\":{\"completedTasks\":\"935\",\"totalTasks\":\"1147\"}}\n",
      "{\"messageCode\":\"BD_101029\",\"message\":\"954/1147 distributed tasks completed.\",\"params\":{\"completedTasks\":\"954\",\"totalTasks\":\"1147\"}}\n",
      "{\"messageCode\":\"BD_101029\",\"message\":\"972/1147 distributed tasks completed.\",\"params\":{\"completedTasks\":\"972\",\"totalTasks\":\"1147\"}}\n",
      "{\"messageCode\":\"BD_101029\",\"message\":\"994/1147 distributed tasks completed.\",\"params\":{\"completedTasks\":\"994\",\"totalTasks\":\"1147\"}}\n",
      "{\"messageCode\":\"BD_101029\",\"message\":\"1008/1147 distributed tasks completed.\",\"params\":{\"completedTasks\":\"1008\",\"totalTasks\":\"1147\"}}\n",
      "{\"messageCode\":\"BD_101029\",\"message\":\"1027/1147 distributed tasks completed.\",\"params\":{\"completedTasks\":\"1027\",\"totalTasks\":\"1147\"}}\n",
      "{\"messageCode\":\"BD_101029\",\"message\":\"1043/1147 distributed tasks completed.\",\"params\":{\"completedTasks\":\"1043\",\"totalTasks\":\"1147\"}}\n",
      "{\"messageCode\":\"BD_101029\",\"message\":\"1061/1147 distributed tasks completed.\",\"params\":{\"completedTasks\":\"1061\",\"totalTasks\":\"1147\"}}\n",
      "{\"messageCode\":\"BD_101029\",\"message\":\"1083/1147 distributed tasks completed.\",\"params\":{\"completedTasks\":\"1083\",\"totalTasks\":\"1147\"}}\n",
      "{\"messageCode\":\"BD_101029\",\"message\":\"1102/1147 distributed tasks completed.\",\"params\":{\"completedTasks\":\"1102\",\"totalTasks\":\"1147\"}}\n",
      "{\"messageCode\":\"BD_101029\",\"message\":\"1123/1147 distributed tasks completed.\",\"params\":{\"completedTasks\":\"1123\",\"totalTasks\":\"1147\"}}\n",
      "{\"messageCode\":\"BD_101029\",\"message\":\"1142/1147 distributed tasks completed.\",\"params\":{\"completedTasks\":\"1142\",\"totalTasks\":\"1147\"}}\n",
      "{\"messageCode\":\"BD_101029\",\"message\":\"1147/1147 distributed tasks completed.\",\"params\":{\"completedTasks\":\"1147\",\"totalTasks\":\"1147\"}}\n",
      "{\"messageCode\":\"BD_101028\",\"message\":\"Starting new distributed job with 1147 tasks.\",\"params\":{\"totalTasks\":\"1147\"}}\n",
      "{\"messageCode\":\"BD_101029\",\"message\":\"10/1147 distributed tasks completed.\",\"params\":{\"completedTasks\":\"10\",\"totalTasks\":\"1147\"}}\n",
      "{\"messageCode\":\"BD_101029\",\"message\":\"30/1147 distributed tasks completed.\",\"params\":{\"completedTasks\":\"30\",\"totalTasks\":\"1147\"}}\n",
      "{\"messageCode\":\"BD_101029\",\"message\":\"50/1147 distributed tasks completed.\",\"params\":{\"completedTasks\":\"50\",\"totalTasks\":\"1147\"}}\n",
      "{\"messageCode\":\"BD_101029\",\"message\":\"70/1147 distributed tasks completed.\",\"params\":{\"completedTasks\":\"70\",\"totalTasks\":\"1147\"}}\n",
      "{\"messageCode\":\"BD_101029\",\"message\":\"86/1147 distributed tasks completed.\",\"params\":{\"completedTasks\":\"86\",\"totalTasks\":\"1147\"}}\n",
      "{\"messageCode\":\"BD_101029\",\"message\":\"107/1147 distributed tasks completed.\",\"params\":{\"completedTasks\":\"107\",\"totalTasks\":\"1147\"}}\n",
      "{\"messageCode\":\"BD_101029\",\"message\":\"125/1147 distributed tasks completed.\",\"params\":{\"completedTasks\":\"125\",\"totalTasks\":\"1147\"}}\n",
      "{\"messageCode\":\"BD_101029\",\"message\":\"143/1147 distributed tasks completed.\",\"params\":{\"completedTasks\":\"143\",\"totalTasks\":\"1147\"}}\n",
      "{\"messageCode\":\"BD_101029\",\"message\":\"168/1147 distributed tasks completed.\",\"params\":{\"completedTasks\":\"168\",\"totalTasks\":\"1147\"}}\n",
      "{\"messageCode\":\"BD_101029\",\"message\":\"193/1147 distributed tasks completed.\",\"params\":{\"completedTasks\":\"193\",\"totalTasks\":\"1147\"}}\n",
      "{\"messageCode\":\"BD_101029\",\"message\":\"208/1147 distributed tasks completed.\",\"params\":{\"completedTasks\":\"208\",\"totalTasks\":\"1147\"}}\n",
      "{\"messageCode\":\"BD_101029\",\"message\":\"228/1147 distributed tasks completed.\",\"params\":{\"completedTasks\":\"228\",\"totalTasks\":\"1147\"}}\n",
      "{\"messageCode\":\"BD_101029\",\"message\":\"246/1147 distributed tasks completed.\",\"params\":{\"completedTasks\":\"246\",\"totalTasks\":\"1147\"}}\n",
      "{\"messageCode\":\"BD_101029\",\"message\":\"260/1147 distributed tasks completed.\",\"params\":{\"completedTasks\":\"260\",\"totalTasks\":\"1147\"}}\n",
      "{\"messageCode\":\"BD_101029\",\"message\":\"282/1147 distributed tasks completed.\",\"params\":{\"completedTasks\":\"282\",\"totalTasks\":\"1147\"}}\n",
      "{\"messageCode\":\"BD_101029\",\"message\":\"297/1147 distributed tasks completed.\",\"params\":{\"completedTasks\":\"297\",\"totalTasks\":\"1147\"}}\n",
      "{\"messageCode\":\"BD_101029\",\"message\":\"313/1147 distributed tasks completed.\",\"params\":{\"completedTasks\":\"313\",\"totalTasks\":\"1147\"}}\n",
      "{\"messageCode\":\"BD_101029\",\"message\":\"333/1147 distributed tasks completed.\",\"params\":{\"completedTasks\":\"333\",\"totalTasks\":\"1147\"}}\n",
      "{\"messageCode\":\"BD_101029\",\"message\":\"351/1147 distributed tasks completed.\",\"params\":{\"completedTasks\":\"351\",\"totalTasks\":\"1147\"}}\n",
      "{\"messageCode\":\"BD_101029\",\"message\":\"370/1147 distributed tasks completed.\",\"params\":{\"completedTasks\":\"370\",\"totalTasks\":\"1147\"}}\n",
      "{\"messageCode\":\"BD_101029\",\"message\":\"386/1147 distributed tasks completed.\",\"params\":{\"completedTasks\":\"386\",\"totalTasks\":\"1147\"}}\n",
      "{\"messageCode\":\"BD_101029\",\"message\":\"402/1147 distributed tasks completed.\",\"params\":{\"completedTasks\":\"402\",\"totalTasks\":\"1147\"}}\n",
      "{\"messageCode\":\"BD_101029\",\"message\":\"423/1147 distributed tasks completed.\",\"params\":{\"completedTasks\":\"423\",\"totalTasks\":\"1147\"}}\n",
      "{\"messageCode\":\"BD_101029\",\"message\":\"441/1147 distributed tasks completed.\",\"params\":{\"completedTasks\":\"441\",\"totalTasks\":\"1147\"}}\n",
      "{\"messageCode\":\"BD_101029\",\"message\":\"460/1147 distributed tasks completed.\",\"params\":{\"completedTasks\":\"460\",\"totalTasks\":\"1147\"}}\n",
      "{\"messageCode\":\"BD_101029\",\"message\":\"477/1147 distributed tasks completed.\",\"params\":{\"completedTasks\":\"477\",\"totalTasks\":\"1147\"}}\n",
      "{\"messageCode\":\"BD_101029\",\"message\":\"498/1147 distributed tasks completed.\",\"params\":{\"completedTasks\":\"498\",\"totalTasks\":\"1147\"}}\n",
      "{\"messageCode\":\"BD_101029\",\"message\":\"517/1147 distributed tasks completed.\",\"params\":{\"completedTasks\":\"517\",\"totalTasks\":\"1147\"}}\n",
      "{\"messageCode\":\"BD_101029\",\"message\":\"537/1147 distributed tasks completed.\",\"params\":{\"completedTasks\":\"537\",\"totalTasks\":\"1147\"}}\n",
      "{\"messageCode\":\"BD_101029\",\"message\":\"555/1147 distributed tasks completed.\",\"params\":{\"completedTasks\":\"555\",\"totalTasks\":\"1147\"}}\n",
      "{\"messageCode\":\"BD_101029\",\"message\":\"579/1147 distributed tasks completed.\",\"params\":{\"completedTasks\":\"579\",\"totalTasks\":\"1147\"}}\n",
      "{\"messageCode\":\"BD_101029\",\"message\":\"597/1147 distributed tasks completed.\",\"params\":{\"completedTasks\":\"597\",\"totalTasks\":\"1147\"}}\n",
      "{\"messageCode\":\"BD_101029\",\"message\":\"612/1147 distributed tasks completed.\",\"params\":{\"completedTasks\":\"612\",\"totalTasks\":\"1147\"}}\n",
      "{\"messageCode\":\"BD_101029\",\"message\":\"630/1147 distributed tasks completed.\",\"params\":{\"completedTasks\":\"630\",\"totalTasks\":\"1147\"}}\n",
      "{\"messageCode\":\"BD_101029\",\"message\":\"648/1147 distributed tasks completed.\",\"params\":{\"completedTasks\":\"648\",\"totalTasks\":\"1147\"}}\n",
      "{\"messageCode\":\"BD_101029\",\"message\":\"672/1147 distributed tasks completed.\",\"params\":{\"completedTasks\":\"672\",\"totalTasks\":\"1147\"}}\n",
      "{\"messageCode\":\"BD_101029\",\"message\":\"697/1147 distributed tasks completed.\",\"params\":{\"completedTasks\":\"697\",\"totalTasks\":\"1147\"}}\n",
      "{\"messageCode\":\"BD_101029\",\"message\":\"715/1147 distributed tasks completed.\",\"params\":{\"completedTasks\":\"715\",\"totalTasks\":\"1147\"}}\n",
      "{\"messageCode\":\"BD_101029\",\"message\":\"738/1147 distributed tasks completed.\",\"params\":{\"completedTasks\":\"738\",\"totalTasks\":\"1147\"}}\n",
      "{\"messageCode\":\"BD_101029\",\"message\":\"762/1147 distributed tasks completed.\",\"params\":{\"completedTasks\":\"762\",\"totalTasks\":\"1147\"}}\n",
      "{\"messageCode\":\"BD_101029\",\"message\":\"779/1147 distributed tasks completed.\",\"params\":{\"completedTasks\":\"779\",\"totalTasks\":\"1147\"}}\n",
      "{\"messageCode\":\"BD_101029\",\"message\":\"797/1147 distributed tasks completed.\",\"params\":{\"completedTasks\":\"797\",\"totalTasks\":\"1147\"}}\n",
      "{\"messageCode\":\"BD_101029\",\"message\":\"816/1147 distributed tasks completed.\",\"params\":{\"completedTasks\":\"816\",\"totalTasks\":\"1147\"}}\n",
      "{\"messageCode\":\"BD_101029\",\"message\":\"832/1147 distributed tasks completed.\",\"params\":{\"completedTasks\":\"832\",\"totalTasks\":\"1147\"}}\n",
      "{\"messageCode\":\"BD_101029\",\"message\":\"855/1147 distributed tasks completed.\",\"params\":{\"completedTasks\":\"855\",\"totalTasks\":\"1147\"}}\n",
      "{\"messageCode\":\"BD_101029\",\"message\":\"870/1147 distributed tasks completed.\",\"params\":{\"completedTasks\":\"870\",\"totalTasks\":\"1147\"}}\n",
      "{\"messageCode\":\"BD_101029\",\"message\":\"887/1147 distributed tasks completed.\",\"params\":{\"completedTasks\":\"887\",\"totalTasks\":\"1147\"}}\n",
      "{\"messageCode\":\"BD_101029\",\"message\":\"910/1147 distributed tasks completed.\",\"params\":{\"completedTasks\":\"910\",\"totalTasks\":\"1147\"}}\n",
      "{\"messageCode\":\"BD_101029\",\"message\":\"927/1147 distributed tasks completed.\",\"params\":{\"completedTasks\":\"927\",\"totalTasks\":\"1147\"}}\n",
      "{\"messageCode\":\"BD_101029\",\"message\":\"940/1147 distributed tasks completed.\",\"params\":{\"completedTasks\":\"940\",\"totalTasks\":\"1147\"}}\n",
      "{\"messageCode\":\"BD_101029\",\"message\":\"960/1147 distributed tasks completed.\",\"params\":{\"completedTasks\":\"960\",\"totalTasks\":\"1147\"}}\n",
      "{\"messageCode\":\"BD_101029\",\"message\":\"977/1147 distributed tasks completed.\",\"params\":{\"completedTasks\":\"977\",\"totalTasks\":\"1147\"}}\n",
      "{\"messageCode\":\"BD_101029\",\"message\":\"996/1147 distributed tasks completed.\",\"params\":{\"completedTasks\":\"996\",\"totalTasks\":\"1147\"}}\n",
      "{\"messageCode\":\"BD_101029\",\"message\":\"1015/1147 distributed tasks completed.\",\"params\":{\"completedTasks\":\"1015\",\"totalTasks\":\"1147\"}}\n",
      "{\"messageCode\":\"BD_101029\",\"message\":\"1032/1147 distributed tasks completed.\",\"params\":{\"completedTasks\":\"1032\",\"totalTasks\":\"1147\"}}\n",
      "{\"messageCode\":\"BD_101029\",\"message\":\"1051/1147 distributed tasks completed.\",\"params\":{\"completedTasks\":\"1051\",\"totalTasks\":\"1147\"}}\n",
      "{\"messageCode\":\"BD_101029\",\"message\":\"1068/1147 distributed tasks completed.\",\"params\":{\"completedTasks\":\"1068\",\"totalTasks\":\"1147\"}}\n",
      "{\"messageCode\":\"BD_101029\",\"message\":\"1088/1147 distributed tasks completed.\",\"params\":{\"completedTasks\":\"1088\",\"totalTasks\":\"1147\"}}\n",
      "{\"messageCode\":\"BD_101029\",\"message\":\"1111/1147 distributed tasks completed.\",\"params\":{\"completedTasks\":\"1111\",\"totalTasks\":\"1147\"}}\n",
      "{\"messageCode\":\"BD_101029\",\"message\":\"1133/1147 distributed tasks completed.\",\"params\":{\"completedTasks\":\"1133\",\"totalTasks\":\"1147\"}}\n",
      "{\"messageCode\":\"BD_101029\",\"message\":\"1147/1147 distributed tasks completed.\",\"params\":{\"completedTasks\":\"1147\",\"totalTasks\":\"1147\"}}\n",
      "{\"messageCode\":\"BD_101028\",\"message\":\"Starting new distributed job with 18 tasks.\",\"params\":{\"totalTasks\":\"18\"}}\n",
      "{\"messageCode\":\"BD_101029\",\"message\":\"18/18 distributed tasks completed.\",\"params\":{\"completedTasks\":\"18\",\"totalTasks\":\"18\"}}\n",
      "{\"messageCode\":\"BD_101081\",\"message\":\"Finished writing results:\"}\n",
      "{\"messageCode\":\"BD_101082\",\"message\":\"* Count of features = 1000\",\"params\":{\"resultCount\":\"1000\"}}\n",
      "{\"messageCode\":\"BD_101083\",\"message\":\"* Spatial extent = {\\\"xmin\\\":-158.088613,\\\"ymin\\\":18.420089,\\\"xmax\\\":-66.05251,\\\"ymax\\\":64.84568999999999}\",\"params\":{\"extent\":\"{\\\"xmin\\\":-158.088613,\\\"ymin\\\":18.420089,\\\"xmax\\\":-66.05251,\\\"ymax\\\":64.84568999999999}\"}}\n",
      "{\"messageCode\":\"BD_101084\",\"message\":\"* Temporal extent = Interval(MutableInstant(2017-01-01 00:00:00.000),MutableInstant(2019-04-03 00:00:00.000))\",\"params\":{\"extent\":\"Interval(MutableInstant(2017-01-01 00:00:00.000),MutableInstant(2019-04-03 00:00:00.000))\"}}\n",
      "{\"messageCode\":\"BD_101226\",\"message\":\"Feature service layer created: https://ndhagsb01.esri.com/gis/rest/services/Hosted/Description_of_air_quality_2019_data830823/FeatureServer/2\",\"params\":{\"serviceUrl\":\"https://ndhagsb01.esri.com/gis/rest/services/Hosted/Description_of_air_quality_2019_data830823/FeatureServer/2\"}}\n",
      "Succeeded at Mon Mar 16 13:31:46 2020 (Elapsed Time: 17 minutes 33 seconds)\n"
     ]
    }
   ],
   "source": [
    "description = describe_dataset(input_layer=air_lyr,\n",
    "                               extent_output=True,\n",
    "                               sample_size=1000,\n",
    "                               output_name=\"Description of air quality 2019 data\" + str(dt.now().microsecond),\n",
    "                               return_tuple=True)"
   ]
  },
  {
   "cell_type": "code",
   "execution_count": 48,
   "metadata": {},
   "outputs": [
    {
     "data": {
      "text/plain": [
       "{'datasetName': 'air_quality',\n",
       " 'datasetSource': 'Big Data File Share - air_quality_2017_18_19',\n",
       " 'recordCount': 147535365,\n",
       " 'geometry': {'geometryType': 'Point',\n",
       "  'sref': {'wkid': 4326},\n",
       "  'countNonEmpty': 147535365,\n",
       "  'countEmpty': 0,\n",
       "  'spatialExtent': {'xmin': -161.767,\n",
       "   'ymin': 17.953006,\n",
       "   'xmax': -65.915482,\n",
       "   'ymax': 64.84568999999999}},\n",
       " 'time': {'timeType': 'Instant',\n",
       "  'countNonEmpty': 147535365,\n",
       "  'countEmpty': 0,\n",
       "  'temporalExtent': {'start': '2017-01-01 00:00:00.000',\n",
       "   'end': '2019-04-30 00:00:00.000'}}}"
      ]
     },
     "execution_count": 48,
     "metadata": {},
     "output_type": "execute_result"
    }
   ],
   "source": [
    "description.output_json"
   ]
  },
  {
   "cell_type": "code",
   "execution_count": 37,
   "metadata": {},
   "outputs": [],
   "source": [
    "df = description.sample_layer.query().sdf"
   ]
  },
  {
   "cell_type": "code",
   "execution_count": 39,
   "metadata": {},
   "outputs": [],
   "source": [
    "lyr = description.sample_layer"
   ]
  },
  {
   "cell_type": "code",
   "execution_count": 40,
   "metadata": {},
   "outputs": [
    {
     "data": {
      "text/plain": [
       "<FeatureLayer url:\"https://ndhagsb01.esri.com/gis/rest/services/Hosted/Description_of_air_quality_2019_data830823/FeatureServer/2\">"
      ]
     },
     "execution_count": 40,
     "metadata": {},
     "output_type": "execute_result"
    }
   ],
   "source": [
    "lyr"
   ]
  },
  {
   "cell_type": "code",
   "execution_count": null,
   "metadata": {},
   "outputs": [],
   "source": [
    "df = df.filter(df.unique_id == df.first().unique_id)\n"
   ]
  },
  {
   "cell_type": "code",
   "execution_count": 76,
   "metadata": {},
   "outputs": [],
   "source": [
    "def data_processsing():\n",
    "    from datetime import datetime as dt\n",
    "    import pyspark.sql.functions as F\n",
    "    from pyspark.sql.functions import concat, col, lit\n",
    "    # Load the big data file share layer into a DataFrame.\n",
    "    df = layers[0]\n",
    "    cols = ['Site Num', 'County Code', 'State Code', 'Date Local', 'Time Local', 'Parameter Name', 'Sample Measurement']\n",
    "    df = df.select(cols)\n",
    "    df = df.withColumn('Site_Num', F.lpad(df['Site Num'], 4, '0'))\n",
    "    df = df.withColumn('County_Code', F.lpad(df['County Code'], 3, '0'))\n",
    "    df = df.withColumn('State_Code', F.lpad(df['State Code'], 2, '0'))\n",
    "    df = df.withColumn('unique_id', F.concat(F.col('State_Code'), F.col('County_Code'), F.col('Site_Num')))\n",
    "#     drop_cols = ['Site_Num', 'County_Code', 'State_Code', 'Site Num', 'County Code', 'State Code']\n",
    "    df = df.drop('Site_Num', 'County_Code', 'Staate_Code', 'Site Num', 'County Code', 'State Code')\n",
    "    df = df.withColumn('datetime', concat(col(\"Date Local\"), lit(\" \"), col(\"Time Local\")))\n",
    "#     drop_cols = ['Time Local', 'Date Local']\n",
    "    df = df.drop('Time Local', 'Date Local')\n",
    "    df = df.filter(df.unique_id == df.first().unique_id)\n",
    "    # group the dataframe by TextType field and count the number of calls for each call type. \n",
    "    df = df.groupby(df['datetime'], df['unique_id']).pivot(\"Parameter Name\").avg(\"Sample Measurement\")\n",
    "\n",
    "    df.write.format(\"webgis\").save(\"timeseries_data_17_18_19_1station\" + str(dt.now().microsecond))"
   ]
  },
  {
   "cell_type": "code",
   "execution_count": 77,
   "metadata": {
    "scrolled": true
   },
   "outputs": [
    {
     "name": "stdout",
     "output_type": "stream",
     "text": [
      "Submitted.\n",
      "Executing...\n",
      "Executing (RunPythonScript): RunPythonScript \"def data_processsing():\\n    from datetime import datetime as dt\\n    import pyspark.sql.functions as F\\n    from pyspark.sql.functions import concat, col, lit\\n    # Load the big data file share layer into a DataFrame.\\n    df = layers[0]\\n    cols = ['Site Num', 'County Code', 'State Code', 'Date Local', 'Time Local', 'Parameter Name', 'Sample Measurement']\\n    df = df.select(cols)\\n    df = df.withColumn('Site_Num', F.lpad(df['Site Num'], 4, '0'))\\n    df = df.withColumn('County_Code', F.lpad(df['County Code'], 3, '0'))\\n    df = df.withColumn('State_Code', F.lpad(df['State Code'], 2, '0'))\\n    df = df.withColumn('unique_id', F.concat(F.col('State_Code'), F.col('County_Code'), F.col('Site_Num')))\\n#     drop_cols = ['Site_Num', 'County_Code', 'State_Code', 'Site Num', 'County Code', 'State Code']\\n    df = df.drop('Site_Num', 'County_Code', 'Staate_Code', 'Site Num', 'County Code', 'State Code')\\n    df = df.withColumn('datetime', concat(col(\"Date Local\"), lit(\" \"), col(\"Time Local\")))\\n#     drop_cols = ['Time Local', 'Date Local']\\n    df = df.drop('Time Local', 'Date Local')\\n    df = df.filter(df.unique_id == df.first().unique_id)\\n    # group the dataframe by TextType field and count the number of calls for each call type. \\n    df = df.groupby(df['datetime'], df['unique_id']).pivot(\"Parameter Name\").avg(\"Sample Measurement\")\\n\\n    df.write.format(\"webgis\").save(\"timeseries_data_17_18_19_1station\" + str(dt.now().microsecond))\\n\\ndata_processsing()\" https://ndhga01.esri.com/gis/rest/services/DataStoreCatalogs/bigDataFileShares_air_quality_2017_18_19/BigDataCatalogServer/air_quality \"{\"defaultAggregationStyles\": false}\"\n",
      "Start Time: Mon Mar 16 15:38:10 2020\n",
      "Using URL based GPRecordSet param: https://ndhga01.esri.com/gis/rest/services/DataStoreCatalogs/bigDataFileShares_air_quality_2017_18_19/BigDataCatalogServer/air_quality\n",
      "{\"messageCode\":\"BD_101028\",\"message\":\"Starting new distributed job with 1 tasks.\",\"params\":{\"totalTasks\":\"1\"}}\n",
      "{\"messageCode\":\"BD_101029\",\"message\":\"0/1 distributed tasks completed.\",\"params\":{\"completedTasks\":\"0\",\"totalTasks\":\"1\"}}\n",
      "{\"messageCode\":\"BD_101029\",\"message\":\"1/1 distributed tasks completed.\",\"params\":{\"completedTasks\":\"1\",\"totalTasks\":\"1\"}}\n",
      "{\"messageCode\":\"BD_101028\",\"message\":\"Starting new distributed job with 1348 tasks.\",\"params\":{\"totalTasks\":\"1348\"}}\n",
      "{\"messageCode\":\"BD_101029\",\"message\":\"8/1348 distributed tasks completed.\",\"params\":{\"completedTasks\":\"8\",\"totalTasks\":\"1348\"}}\n",
      "{\"messageCode\":\"BD_101029\",\"message\":\"26/1348 distributed tasks completed.\",\"params\":{\"completedTasks\":\"26\",\"totalTasks\":\"1348\"}}\n",
      "{\"messageCode\":\"BD_101029\",\"message\":\"44/1348 distributed tasks completed.\",\"params\":{\"completedTasks\":\"44\",\"totalTasks\":\"1348\"}}\n",
      "{\"messageCode\":\"BD_101029\",\"message\":\"62/1348 distributed tasks completed.\",\"params\":{\"completedTasks\":\"62\",\"totalTasks\":\"1348\"}}\n",
      "{\"messageCode\":\"BD_101029\",\"message\":\"80/1348 distributed tasks completed.\",\"params\":{\"completedTasks\":\"80\",\"totalTasks\":\"1348\"}}\n",
      "{\"messageCode\":\"BD_101029\",\"message\":\"96/1348 distributed tasks completed.\",\"params\":{\"completedTasks\":\"96\",\"totalTasks\":\"1348\"}}\n",
      "{\"messageCode\":\"BD_101029\",\"message\":\"114/1348 distributed tasks completed.\",\"params\":{\"completedTasks\":\"114\",\"totalTasks\":\"1348\"}}\n",
      "{\"messageCode\":\"BD_101029\",\"message\":\"129/1348 distributed tasks completed.\",\"params\":{\"completedTasks\":\"129\",\"totalTasks\":\"1348\"}}\n",
      "{\"messageCode\":\"BD_101029\",\"message\":\"144/1348 distributed tasks completed.\",\"params\":{\"completedTasks\":\"144\",\"totalTasks\":\"1348\"}}\n",
      "{\"messageCode\":\"BD_101029\",\"message\":\"166/1348 distributed tasks completed.\",\"params\":{\"completedTasks\":\"166\",\"totalTasks\":\"1348\"}}\n",
      "{\"messageCode\":\"BD_101029\",\"message\":\"181/1348 distributed tasks completed.\",\"params\":{\"completedTasks\":\"181\",\"totalTasks\":\"1348\"}}\n",
      "{\"messageCode\":\"BD_101029\",\"message\":\"198/1348 distributed tasks completed.\",\"params\":{\"completedTasks\":\"198\",\"totalTasks\":\"1348\"}}\n",
      "{\"messageCode\":\"BD_101029\",\"message\":\"216/1348 distributed tasks completed.\",\"params\":{\"completedTasks\":\"216\",\"totalTasks\":\"1348\"}}\n",
      "{\"messageCode\":\"BD_101029\",\"message\":\"233/1348 distributed tasks completed.\",\"params\":{\"completedTasks\":\"233\",\"totalTasks\":\"1348\"}}\n",
      "{\"messageCode\":\"BD_101029\",\"message\":\"252/1348 distributed tasks completed.\",\"params\":{\"completedTasks\":\"252\",\"totalTasks\":\"1348\"}}\n",
      "{\"messageCode\":\"BD_101029\",\"message\":\"262/1348 distributed tasks completed.\",\"params\":{\"completedTasks\":\"262\",\"totalTasks\":\"1348\"}}\n",
      "{\"messageCode\":\"BD_101029\",\"message\":\"282/1348 distributed tasks completed.\",\"params\":{\"completedTasks\":\"282\",\"totalTasks\":\"1348\"}}\n",
      "{\"messageCode\":\"BD_101029\",\"message\":\"299/1348 distributed tasks completed.\",\"params\":{\"completedTasks\":\"299\",\"totalTasks\":\"1348\"}}\n",
      "{\"messageCode\":\"BD_101029\",\"message\":\"316/1348 distributed tasks completed.\",\"params\":{\"completedTasks\":\"316\",\"totalTasks\":\"1348\"}}\n",
      "{\"messageCode\":\"BD_101029\",\"message\":\"333/1348 distributed tasks completed.\",\"params\":{\"completedTasks\":\"333\",\"totalTasks\":\"1348\"}}\n",
      "{\"messageCode\":\"BD_101029\",\"message\":\"349/1348 distributed tasks completed.\",\"params\":{\"completedTasks\":\"349\",\"totalTasks\":\"1348\"}}\n",
      "{\"messageCode\":\"BD_101029\",\"message\":\"368/1348 distributed tasks completed.\",\"params\":{\"completedTasks\":\"368\",\"totalTasks\":\"1348\"}}\n",
      "{\"messageCode\":\"BD_101029\",\"message\":\"386/1348 distributed tasks completed.\",\"params\":{\"completedTasks\":\"386\",\"totalTasks\":\"1348\"}}\n",
      "{\"messageCode\":\"BD_101029\",\"message\":\"404/1348 distributed tasks completed.\",\"params\":{\"completedTasks\":\"404\",\"totalTasks\":\"1348\"}}\n",
      "{\"messageCode\":\"BD_101029\",\"message\":\"422/1348 distributed tasks completed.\",\"params\":{\"completedTasks\":\"422\",\"totalTasks\":\"1348\"}}\n",
      "{\"messageCode\":\"BD_101029\",\"message\":\"441/1348 distributed tasks completed.\",\"params\":{\"completedTasks\":\"441\",\"totalTasks\":\"1348\"}}\n",
      "{\"messageCode\":\"BD_101029\",\"message\":\"460/1348 distributed tasks completed.\",\"params\":{\"completedTasks\":\"460\",\"totalTasks\":\"1348\"}}\n",
      "{\"messageCode\":\"BD_101029\",\"message\":\"478/1348 distributed tasks completed.\",\"params\":{\"completedTasks\":\"478\",\"totalTasks\":\"1348\"}}\n",
      "{\"messageCode\":\"BD_101029\",\"message\":\"496/1348 distributed tasks completed.\",\"params\":{\"completedTasks\":\"496\",\"totalTasks\":\"1348\"}}\n",
      "{\"messageCode\":\"BD_101029\",\"message\":\"513/1348 distributed tasks completed.\",\"params\":{\"completedTasks\":\"513\",\"totalTasks\":\"1348\"}}\n",
      "{\"messageCode\":\"BD_101029\",\"message\":\"533/1348 distributed tasks completed.\",\"params\":{\"completedTasks\":\"533\",\"totalTasks\":\"1348\"}}\n",
      "{\"messageCode\":\"BD_101029\",\"message\":\"551/1348 distributed tasks completed.\",\"params\":{\"completedTasks\":\"551\",\"totalTasks\":\"1348\"}}\n",
      "{\"messageCode\":\"BD_101029\",\"message\":\"569/1348 distributed tasks completed.\",\"params\":{\"completedTasks\":\"569\",\"totalTasks\":\"1348\"}}\n",
      "{\"messageCode\":\"BD_101029\",\"message\":\"587/1348 distributed tasks completed.\",\"params\":{\"completedTasks\":\"587\",\"totalTasks\":\"1348\"}}\n",
      "{\"messageCode\":\"BD_101029\",\"message\":\"606/1348 distributed tasks completed.\",\"params\":{\"completedTasks\":\"606\",\"totalTasks\":\"1348\"}}\n",
      "{\"messageCode\":\"BD_101029\",\"message\":\"624/1348 distributed tasks completed.\",\"params\":{\"completedTasks\":\"624\",\"totalTasks\":\"1348\"}}\n",
      "{\"messageCode\":\"BD_101029\",\"message\":\"643/1348 distributed tasks completed.\",\"params\":{\"completedTasks\":\"643\",\"totalTasks\":\"1348\"}}\n",
      "{\"messageCode\":\"BD_101029\",\"message\":\"661/1348 distributed tasks completed.\",\"params\":{\"completedTasks\":\"661\",\"totalTasks\":\"1348\"}}\n",
      "{\"messageCode\":\"BD_101029\",\"message\":\"675/1348 distributed tasks completed.\",\"params\":{\"completedTasks\":\"675\",\"totalTasks\":\"1348\"}}\n",
      "{\"messageCode\":\"BD_101029\",\"message\":\"697/1348 distributed tasks completed.\",\"params\":{\"completedTasks\":\"697\",\"totalTasks\":\"1348\"}}\n",
      "{\"messageCode\":\"BD_101029\",\"message\":\"716/1348 distributed tasks completed.\",\"params\":{\"completedTasks\":\"716\",\"totalTasks\":\"1348\"}}\n",
      "{\"messageCode\":\"BD_101029\",\"message\":\"736/1348 distributed tasks completed.\",\"params\":{\"completedTasks\":\"736\",\"totalTasks\":\"1348\"}}\n",
      "{\"messageCode\":\"BD_101029\",\"message\":\"749/1348 distributed tasks completed.\",\"params\":{\"completedTasks\":\"749\",\"totalTasks\":\"1348\"}}\n",
      "{\"messageCode\":\"BD_101029\",\"message\":\"764/1348 distributed tasks completed.\",\"params\":{\"completedTasks\":\"764\",\"totalTasks\":\"1348\"}}\n",
      "{\"messageCode\":\"BD_101029\",\"message\":\"782/1348 distributed tasks completed.\",\"params\":{\"completedTasks\":\"782\",\"totalTasks\":\"1348\"}}\n",
      "{\"messageCode\":\"BD_101029\",\"message\":\"799/1348 distributed tasks completed.\",\"params\":{\"completedTasks\":\"799\",\"totalTasks\":\"1348\"}}\n",
      "{\"messageCode\":\"BD_101029\",\"message\":\"817/1348 distributed tasks completed.\",\"params\":{\"completedTasks\":\"817\",\"totalTasks\":\"1348\"}}\n",
      "{\"messageCode\":\"BD_101029\",\"message\":\"835/1348 distributed tasks completed.\",\"params\":{\"completedTasks\":\"835\",\"totalTasks\":\"1348\"}}\n",
      "{\"messageCode\":\"BD_101029\",\"message\":\"858/1348 distributed tasks completed.\",\"params\":{\"completedTasks\":\"858\",\"totalTasks\":\"1348\"}}\n",
      "{\"messageCode\":\"BD_101029\",\"message\":\"878/1348 distributed tasks completed.\",\"params\":{\"completedTasks\":\"878\",\"totalTasks\":\"1348\"}}\n",
      "{\"messageCode\":\"BD_101029\",\"message\":\"896/1348 distributed tasks completed.\",\"params\":{\"completedTasks\":\"896\",\"totalTasks\":\"1348\"}}\n",
      "{\"messageCode\":\"BD_101029\",\"message\":\"914/1348 distributed tasks completed.\",\"params\":{\"completedTasks\":\"914\",\"totalTasks\":\"1348\"}}\n",
      "{\"messageCode\":\"BD_101029\",\"message\":\"933/1348 distributed tasks completed.\",\"params\":{\"completedTasks\":\"933\",\"totalTasks\":\"1348\"}}\n",
      "{\"messageCode\":\"BD_101029\",\"message\":\"953/1348 distributed tasks completed.\",\"params\":{\"completedTasks\":\"953\",\"totalTasks\":\"1348\"}}\n",
      "{\"messageCode\":\"BD_101029\",\"message\":\"967/1348 distributed tasks completed.\",\"params\":{\"completedTasks\":\"967\",\"totalTasks\":\"1348\"}}\n",
      "{\"messageCode\":\"BD_101029\",\"message\":\"986/1348 distributed tasks completed.\",\"params\":{\"completedTasks\":\"986\",\"totalTasks\":\"1348\"}}\n",
      "{\"messageCode\":\"BD_101029\",\"message\":\"1005/1348 distributed tasks completed.\",\"params\":{\"completedTasks\":\"1005\",\"totalTasks\":\"1348\"}}\n",
      "{\"messageCode\":\"BD_101029\",\"message\":\"1023/1348 distributed tasks completed.\",\"params\":{\"completedTasks\":\"1023\",\"totalTasks\":\"1348\"}}\n",
      "{\"messageCode\":\"BD_101029\",\"message\":\"1040/1348 distributed tasks completed.\",\"params\":{\"completedTasks\":\"1040\",\"totalTasks\":\"1348\"}}\n",
      "{\"messageCode\":\"BD_101029\",\"message\":\"1058/1348 distributed tasks completed.\",\"params\":{\"completedTasks\":\"1058\",\"totalTasks\":\"1348\"}}\n",
      "{\"messageCode\":\"BD_101029\",\"message\":\"1076/1348 distributed tasks completed.\",\"params\":{\"completedTasks\":\"1076\",\"totalTasks\":\"1348\"}}\n",
      "{\"messageCode\":\"BD_101029\",\"message\":\"1091/1348 distributed tasks completed.\",\"params\":{\"completedTasks\":\"1091\",\"totalTasks\":\"1348\"}}\n",
      "{\"messageCode\":\"BD_101029\",\"message\":\"1114/1348 distributed tasks completed.\",\"params\":{\"completedTasks\":\"1114\",\"totalTasks\":\"1348\"}}\n",
      "{\"messageCode\":\"BD_101029\",\"message\":\"1133/1348 distributed tasks completed.\",\"params\":{\"completedTasks\":\"1133\",\"totalTasks\":\"1348\"}}\n",
      "{\"messageCode\":\"BD_101029\",\"message\":\"1348/1348 distributed tasks completed.\",\"params\":{\"completedTasks\":\"1348\",\"totalTasks\":\"1348\"}}\n",
      "{\"messageCode\":\"BD_101028\",\"message\":\"Starting new distributed job with 1547 tasks.\",\"params\":{\"totalTasks\":\"1547\"}}\n",
      "{\"messageCode\":\"BD_101029\",\"message\":\"0/1547 distributed tasks completed.\",\"params\":{\"completedTasks\":\"0\",\"totalTasks\":\"1547\"}}\n",
      "{\"messageCode\":\"BD_101029\",\"message\":\"4/1547 distributed tasks completed.\",\"params\":{\"completedTasks\":\"4\",\"totalTasks\":\"1547\"}}\n",
      "{\"messageCode\":\"BD_101029\",\"message\":\"26/1547 distributed tasks completed.\",\"params\":{\"completedTasks\":\"26\",\"totalTasks\":\"1547\"}}\n",
      "{\"messageCode\":\"BD_101029\",\"message\":\"50/1547 distributed tasks completed.\",\"params\":{\"completedTasks\":\"50\",\"totalTasks\":\"1547\"}}\n",
      "{\"messageCode\":\"BD_101029\",\"message\":\"71/1547 distributed tasks completed.\",\"params\":{\"completedTasks\":\"71\",\"totalTasks\":\"1547\"}}\n",
      "{\"messageCode\":\"BD_101029\",\"message\":\"87/1547 distributed tasks completed.\",\"params\":{\"completedTasks\":\"87\",\"totalTasks\":\"1547\"}}\n",
      "{\"messageCode\":\"BD_101029\",\"message\":\"104/1547 distributed tasks completed.\",\"params\":{\"completedTasks\":\"104\",\"totalTasks\":\"1547\"}}\n",
      "{\"messageCode\":\"BD_101029\",\"message\":\"122/1547 distributed tasks completed.\",\"params\":{\"completedTasks\":\"122\",\"totalTasks\":\"1547\"}}\n",
      "{\"messageCode\":\"BD_101029\",\"message\":\"139/1547 distributed tasks completed.\",\"params\":{\"completedTasks\":\"139\",\"totalTasks\":\"1547\"}}\n",
      "{\"messageCode\":\"BD_101029\",\"message\":\"156/1547 distributed tasks completed.\",\"params\":{\"completedTasks\":\"156\",\"totalTasks\":\"1547\"}}\n",
      "{\"messageCode\":\"BD_101029\",\"message\":\"175/1547 distributed tasks completed.\",\"params\":{\"completedTasks\":\"175\",\"totalTasks\":\"1547\"}}\n",
      "{\"messageCode\":\"BD_101029\",\"message\":\"200/1547 distributed tasks completed.\",\"params\":{\"completedTasks\":\"200\",\"totalTasks\":\"1547\"}}\n",
      "{\"messageCode\":\"BD_101029\",\"message\":\"218/1547 distributed tasks completed.\",\"params\":{\"completedTasks\":\"218\",\"totalTasks\":\"1547\"}}\n",
      "{\"messageCode\":\"BD_101029\",\"message\":\"233/1547 distributed tasks completed.\",\"params\":{\"completedTasks\":\"233\",\"totalTasks\":\"1547\"}}\n",
      "{\"messageCode\":\"BD_101029\",\"message\":\"253/1547 distributed tasks completed.\",\"params\":{\"completedTasks\":\"253\",\"totalTasks\":\"1547\"}}\n",
      "{\"messageCode\":\"BD_101029\",\"message\":\"262/1547 distributed tasks completed.\",\"params\":{\"completedTasks\":\"262\",\"totalTasks\":\"1547\"}}\n",
      "{\"messageCode\":\"BD_101029\",\"message\":\"290/1547 distributed tasks completed.\",\"params\":{\"completedTasks\":\"290\",\"totalTasks\":\"1547\"}}\n",
      "{\"messageCode\":\"BD_101029\",\"message\":\"307/1547 distributed tasks completed.\",\"params\":{\"completedTasks\":\"307\",\"totalTasks\":\"1547\"}}\n",
      "{\"messageCode\":\"BD_101029\",\"message\":\"316/1547 distributed tasks completed.\",\"params\":{\"completedTasks\":\"316\",\"totalTasks\":\"1547\"}}\n",
      "{\"messageCode\":\"BD_101029\",\"message\":\"341/1547 distributed tasks completed.\",\"params\":{\"completedTasks\":\"341\",\"totalTasks\":\"1547\"}}\n",
      "{\"messageCode\":\"BD_101029\",\"message\":\"357/1547 distributed tasks completed.\",\"params\":{\"completedTasks\":\"357\",\"totalTasks\":\"1547\"}}\n",
      "{\"messageCode\":\"BD_101029\",\"message\":\"374/1547 distributed tasks completed.\",\"params\":{\"completedTasks\":\"374\",\"totalTasks\":\"1547\"}}\n",
      "{\"messageCode\":\"BD_101029\",\"message\":\"394/1547 distributed tasks completed.\",\"params\":{\"completedTasks\":\"394\",\"totalTasks\":\"1547\"}}\n",
      "{\"messageCode\":\"BD_101029\",\"message\":\"412/1547 distributed tasks completed.\",\"params\":{\"completedTasks\":\"412\",\"totalTasks\":\"1547\"}}\n",
      "{\"messageCode\":\"BD_101029\",\"message\":\"431/1547 distributed tasks completed.\",\"params\":{\"completedTasks\":\"431\",\"totalTasks\":\"1547\"}}\n",
      "{\"messageCode\":\"BD_101029\",\"message\":\"449/1547 distributed tasks completed.\",\"params\":{\"completedTasks\":\"449\",\"totalTasks\":\"1547\"}}\n",
      "{\"messageCode\":\"BD_101029\",\"message\":\"466/1547 distributed tasks completed.\",\"params\":{\"completedTasks\":\"466\",\"totalTasks\":\"1547\"}}\n",
      "{\"messageCode\":\"BD_101029\",\"message\":\"484/1547 distributed tasks completed.\",\"params\":{\"completedTasks\":\"484\",\"totalTasks\":\"1547\"}}\n",
      "{\"messageCode\":\"BD_101029\",\"message\":\"503/1547 distributed tasks completed.\",\"params\":{\"completedTasks\":\"503\",\"totalTasks\":\"1547\"}}\n",
      "{\"messageCode\":\"BD_101029\",\"message\":\"522/1547 distributed tasks completed.\",\"params\":{\"completedTasks\":\"522\",\"totalTasks\":\"1547\"}}\n",
      "{\"messageCode\":\"BD_101029\",\"message\":\"536/1547 distributed tasks completed.\",\"params\":{\"completedTasks\":\"536\",\"totalTasks\":\"1547\"}}\n",
      "{\"messageCode\":\"BD_101029\",\"message\":\"556/1547 distributed tasks completed.\",\"params\":{\"completedTasks\":\"556\",\"totalTasks\":\"1547\"}}\n",
      "{\"messageCode\":\"BD_101029\",\"message\":\"578/1547 distributed tasks completed.\",\"params\":{\"completedTasks\":\"578\",\"totalTasks\":\"1547\"}}\n",
      "{\"messageCode\":\"BD_101029\",\"message\":\"597/1547 distributed tasks completed.\",\"params\":{\"completedTasks\":\"597\",\"totalTasks\":\"1547\"}}\n",
      "{\"messageCode\":\"BD_101029\",\"message\":\"613/1547 distributed tasks completed.\",\"params\":{\"completedTasks\":\"613\",\"totalTasks\":\"1547\"}}\n",
      "{\"messageCode\":\"BD_101029\",\"message\":\"629/1547 distributed tasks completed.\",\"params\":{\"completedTasks\":\"629\",\"totalTasks\":\"1547\"}}\n",
      "{\"messageCode\":\"BD_101029\",\"message\":\"647/1547 distributed tasks completed.\",\"params\":{\"completedTasks\":\"647\",\"totalTasks\":\"1547\"}}\n",
      "{\"messageCode\":\"BD_101029\",\"message\":\"668/1547 distributed tasks completed.\",\"params\":{\"completedTasks\":\"668\",\"totalTasks\":\"1547\"}}\n",
      "{\"messageCode\":\"BD_101029\",\"message\":\"682/1547 distributed tasks completed.\",\"params\":{\"completedTasks\":\"682\",\"totalTasks\":\"1547\"}}\n"
     ]
    },
    {
     "name": "stdout",
     "output_type": "stream",
     "text": [
      "{\"messageCode\":\"BD_101029\",\"message\":\"699/1547 distributed tasks completed.\",\"params\":{\"completedTasks\":\"699\",\"totalTasks\":\"1547\"}}\n",
      "{\"messageCode\":\"BD_101029\",\"message\":\"717/1547 distributed tasks completed.\",\"params\":{\"completedTasks\":\"717\",\"totalTasks\":\"1547\"}}\n",
      "{\"messageCode\":\"BD_101029\",\"message\":\"738/1547 distributed tasks completed.\",\"params\":{\"completedTasks\":\"738\",\"totalTasks\":\"1547\"}}\n",
      "{\"messageCode\":\"BD_101029\",\"message\":\"761/1547 distributed tasks completed.\",\"params\":{\"completedTasks\":\"761\",\"totalTasks\":\"1547\"}}\n",
      "{\"messageCode\":\"BD_101029\",\"message\":\"775/1547 distributed tasks completed.\",\"params\":{\"completedTasks\":\"775\",\"totalTasks\":\"1547\"}}\n",
      "{\"messageCode\":\"BD_101029\",\"message\":\"788/1547 distributed tasks completed.\",\"params\":{\"completedTasks\":\"788\",\"totalTasks\":\"1547\"}}\n",
      "{\"messageCode\":\"BD_101029\",\"message\":\"807/1547 distributed tasks completed.\",\"params\":{\"completedTasks\":\"807\",\"totalTasks\":\"1547\"}}\n",
      "{\"messageCode\":\"BD_101029\",\"message\":\"826/1547 distributed tasks completed.\",\"params\":{\"completedTasks\":\"826\",\"totalTasks\":\"1547\"}}\n",
      "{\"messageCode\":\"BD_101029\",\"message\":\"848/1547 distributed tasks completed.\",\"params\":{\"completedTasks\":\"848\",\"totalTasks\":\"1547\"}}\n",
      "{\"messageCode\":\"BD_101029\",\"message\":\"862/1547 distributed tasks completed.\",\"params\":{\"completedTasks\":\"862\",\"totalTasks\":\"1547\"}}\n",
      "{\"messageCode\":\"BD_101029\",\"message\":\"879/1547 distributed tasks completed.\",\"params\":{\"completedTasks\":\"879\",\"totalTasks\":\"1547\"}}\n",
      "{\"messageCode\":\"BD_101029\",\"message\":\"901/1547 distributed tasks completed.\",\"params\":{\"completedTasks\":\"901\",\"totalTasks\":\"1547\"}}\n",
      "{\"messageCode\":\"BD_101029\",\"message\":\"920/1547 distributed tasks completed.\",\"params\":{\"completedTasks\":\"920\",\"totalTasks\":\"1547\"}}\n",
      "{\"messageCode\":\"BD_101029\",\"message\":\"940/1547 distributed tasks completed.\",\"params\":{\"completedTasks\":\"940\",\"totalTasks\":\"1547\"}}\n",
      "{\"messageCode\":\"BD_101029\",\"message\":\"960/1547 distributed tasks completed.\",\"params\":{\"completedTasks\":\"960\",\"totalTasks\":\"1547\"}}\n",
      "{\"messageCode\":\"BD_101029\",\"message\":\"974/1547 distributed tasks completed.\",\"params\":{\"completedTasks\":\"974\",\"totalTasks\":\"1547\"}}\n",
      "{\"messageCode\":\"BD_101029\",\"message\":\"995/1547 distributed tasks completed.\",\"params\":{\"completedTasks\":\"995\",\"totalTasks\":\"1547\"}}\n",
      "{\"messageCode\":\"BD_101029\",\"message\":\"1011/1547 distributed tasks completed.\",\"params\":{\"completedTasks\":\"1011\",\"totalTasks\":\"1547\"}}\n",
      "{\"messageCode\":\"BD_101029\",\"message\":\"1029/1547 distributed tasks completed.\",\"params\":{\"completedTasks\":\"1029\",\"totalTasks\":\"1547\"}}\n",
      "{\"messageCode\":\"BD_101029\",\"message\":\"1046/1547 distributed tasks completed.\",\"params\":{\"completedTasks\":\"1046\",\"totalTasks\":\"1547\"}}\n",
      "{\"messageCode\":\"BD_101029\",\"message\":\"1066/1547 distributed tasks completed.\",\"params\":{\"completedTasks\":\"1066\",\"totalTasks\":\"1547\"}}\n",
      "{\"messageCode\":\"BD_101029\",\"message\":\"1085/1547 distributed tasks completed.\",\"params\":{\"completedTasks\":\"1085\",\"totalTasks\":\"1547\"}}\n",
      "{\"messageCode\":\"BD_101029\",\"message\":\"1109/1547 distributed tasks completed.\",\"params\":{\"completedTasks\":\"1109\",\"totalTasks\":\"1547\"}}\n",
      "{\"messageCode\":\"BD_101029\",\"message\":\"1130/1547 distributed tasks completed.\",\"params\":{\"completedTasks\":\"1130\",\"totalTasks\":\"1547\"}}\n",
      "{\"messageCode\":\"BD_101029\",\"message\":\"1148/1547 distributed tasks completed.\",\"params\":{\"completedTasks\":\"1148\",\"totalTasks\":\"1547\"}}\n",
      "{\"messageCode\":\"BD_101029\",\"message\":\"1199/1547 distributed tasks completed.\",\"params\":{\"completedTasks\":\"1199\",\"totalTasks\":\"1547\"}}\n",
      "{\"messageCode\":\"BD_101029\",\"message\":\"1244/1547 distributed tasks completed.\",\"params\":{\"completedTasks\":\"1244\",\"totalTasks\":\"1547\"}}\n",
      "{\"messageCode\":\"BD_101029\",\"message\":\"1293/1547 distributed tasks completed.\",\"params\":{\"completedTasks\":\"1293\",\"totalTasks\":\"1547\"}}\n",
      "{\"messageCode\":\"BD_101029\",\"message\":\"1344/1547 distributed tasks completed.\",\"params\":{\"completedTasks\":\"1344\",\"totalTasks\":\"1547\"}}\n",
      "{\"messageCode\":\"BD_101029\",\"message\":\"1394/1547 distributed tasks completed.\",\"params\":{\"completedTasks\":\"1394\",\"totalTasks\":\"1547\"}}\n",
      "{\"messageCode\":\"BD_101029\",\"message\":\"1429/1547 distributed tasks completed.\",\"params\":{\"completedTasks\":\"1429\",\"totalTasks\":\"1547\"}}\n",
      "{\"messageCode\":\"BD_101029\",\"message\":\"1465/1547 distributed tasks completed.\",\"params\":{\"completedTasks\":\"1465\",\"totalTasks\":\"1547\"}}\n",
      "{\"messageCode\":\"BD_101029\",\"message\":\"1511/1547 distributed tasks completed.\",\"params\":{\"completedTasks\":\"1511\",\"totalTasks\":\"1547\"}}\n",
      "{\"messageCode\":\"BD_101029\",\"message\":\"1547/1547 distributed tasks completed.\",\"params\":{\"completedTasks\":\"1547\",\"totalTasks\":\"1547\"}}\n",
      "{\"messageCode\":\"BD_101081\",\"message\":\"Finished writing results:\"}\n",
      "{\"messageCode\":\"BD_101082\",\"message\":\"* Count of features = 18231\",\"params\":{\"resultCount\":\"18231\"}}\n",
      "{\"messageCode\":\"BD_101083\",\"message\":\"* Spatial extent = None\",\"params\":{\"extent\":\"None\"}}\n",
      "{\"messageCode\":\"BD_101084\",\"message\":\"* Temporal extent = None\",\"params\":{\"extent\":\"None\"}}\n",
      "{\"messageCode\":\"BD_101226\",\"message\":\"Feature service layer created: https://ndhagsb01.esri.com/gis/rest/services/Hosted/timeseries_data_17_18_19_1station291167/FeatureServer/0\",\"params\":{\"serviceUrl\":\"https://ndhagsb01.esri.com/gis/rest/services/Hosted/timeseries_data_17_18_19_1station291167/FeatureServer/0\"}}\n",
      "Succeeded at Mon Mar 16 15:50:49 2020 (Elapsed Time: 12 minutes 38 seconds)\n"
     ]
    },
    {
     "data": {
      "text/plain": [
       "[{'type': 'esriJobMessageTypeInformative',\n",
       "  'description': 'Executing (RunPythonScript): RunPythonScript \"def data_processsing():\\\\n    from datetime import datetime as dt\\\\n    import pyspark.sql.functions as F\\\\n    from pyspark.sql.functions import concat, col, lit\\\\n    # Load the big data file share layer into a DataFrame.\\\\n    df = layers[0]\\\\n    cols = [\\'Site Num\\', \\'County Code\\', \\'State Code\\', \\'Date Local\\', \\'Time Local\\', \\'Parameter Name\\', \\'Sample Measurement\\']\\\\n    df = df.select(cols)\\\\n    df = df.withColumn(\\'Site_Num\\', F.lpad(df[\\'Site Num\\'], 4, \\'0\\'))\\\\n    df = df.withColumn(\\'County_Code\\', F.lpad(df[\\'County Code\\'], 3, \\'0\\'))\\\\n    df = df.withColumn(\\'State_Code\\', F.lpad(df[\\'State Code\\'], 2, \\'0\\'))\\\\n    df = df.withColumn(\\'unique_id\\', F.concat(F.col(\\'State_Code\\'), F.col(\\'County_Code\\'), F.col(\\'Site_Num\\')))\\\\n#     drop_cols = [\\'Site_Num\\', \\'County_Code\\', \\'State_Code\\', \\'Site Num\\', \\'County Code\\', \\'State Code\\']\\\\n    df = df.drop(\\'Site_Num\\', \\'County_Code\\', \\'Staate_Code\\', \\'Site Num\\', \\'County Code\\', \\'State Code\\')\\\\n    df = df.withColumn(\\'datetime\\', concat(col(\"Date Local\"), lit(\" \"), col(\"Time Local\")))\\\\n#     drop_cols = [\\'Time Local\\', \\'Date Local\\']\\\\n    df = df.drop(\\'Time Local\\', \\'Date Local\\')\\\\n    df = df.filter(df.unique_id == df.first().unique_id)\\\\n    # group the dataframe by TextType field and count the number of calls for each call type. \\\\n    df = df.groupby(df[\\'datetime\\'], df[\\'unique_id\\']).pivot(\"Parameter Name\").avg(\"Sample Measurement\")\\\\n\\\\n    df.write.format(\"webgis\").save(\"timeseries_data_17_18_19_1station\" + str(dt.now().microsecond))\\\\n\\\\ndata_processsing()\" https://ndhga01.esri.com/gis/rest/services/DataStoreCatalogs/bigDataFileShares_air_quality_2017_18_19/BigDataCatalogServer/air_quality \"{\"defaultAggregationStyles\": false}\"'},\n",
       " {'type': 'esriJobMessageTypeInformative',\n",
       "  'description': 'Start Time: Mon Mar 16 15:38:10 2020'},\n",
       " {'type': 'esriJobMessageTypeInformative',\n",
       "  'description': 'Using URL based GPRecordSet param: https://ndhga01.esri.com/gis/rest/services/DataStoreCatalogs/bigDataFileShares_air_quality_2017_18_19/BigDataCatalogServer/air_quality'},\n",
       " {'type': 'esriJobMessageTypeInformative',\n",
       "  'description': '{\"messageCode\":\"BD_101028\",\"message\":\"Starting new distributed job with 1 tasks.\",\"params\":{\"totalTasks\":\"1\"}}'},\n",
       " {'type': 'esriJobMessageTypeInformative',\n",
       "  'description': '{\"messageCode\":\"BD_101029\",\"message\":\"0/1 distributed tasks completed.\",\"params\":{\"completedTasks\":\"0\",\"totalTasks\":\"1\"}}'},\n",
       " {'type': 'esriJobMessageTypeInformative',\n",
       "  'description': '{\"messageCode\":\"BD_101029\",\"message\":\"1/1 distributed tasks completed.\",\"params\":{\"completedTasks\":\"1\",\"totalTasks\":\"1\"}}'},\n",
       " {'type': 'esriJobMessageTypeInformative',\n",
       "  'description': '{\"messageCode\":\"BD_101028\",\"message\":\"Starting new distributed job with 1348 tasks.\",\"params\":{\"totalTasks\":\"1348\"}}'},\n",
       " {'type': 'esriJobMessageTypeInformative',\n",
       "  'description': '{\"messageCode\":\"BD_101029\",\"message\":\"8/1348 distributed tasks completed.\",\"params\":{\"completedTasks\":\"8\",\"totalTasks\":\"1348\"}}'},\n",
       " {'type': 'esriJobMessageTypeInformative',\n",
       "  'description': '{\"messageCode\":\"BD_101029\",\"message\":\"26/1348 distributed tasks completed.\",\"params\":{\"completedTasks\":\"26\",\"totalTasks\":\"1348\"}}'},\n",
       " {'type': 'esriJobMessageTypeInformative',\n",
       "  'description': '{\"messageCode\":\"BD_101029\",\"message\":\"44/1348 distributed tasks completed.\",\"params\":{\"completedTasks\":\"44\",\"totalTasks\":\"1348\"}}'},\n",
       " {'type': 'esriJobMessageTypeInformative',\n",
       "  'description': '{\"messageCode\":\"BD_101029\",\"message\":\"62/1348 distributed tasks completed.\",\"params\":{\"completedTasks\":\"62\",\"totalTasks\":\"1348\"}}'},\n",
       " {'type': 'esriJobMessageTypeInformative',\n",
       "  'description': '{\"messageCode\":\"BD_101029\",\"message\":\"80/1348 distributed tasks completed.\",\"params\":{\"completedTasks\":\"80\",\"totalTasks\":\"1348\"}}'},\n",
       " {'type': 'esriJobMessageTypeInformative',\n",
       "  'description': '{\"messageCode\":\"BD_101029\",\"message\":\"96/1348 distributed tasks completed.\",\"params\":{\"completedTasks\":\"96\",\"totalTasks\":\"1348\"}}'},\n",
       " {'type': 'esriJobMessageTypeInformative',\n",
       "  'description': '{\"messageCode\":\"BD_101029\",\"message\":\"114/1348 distributed tasks completed.\",\"params\":{\"completedTasks\":\"114\",\"totalTasks\":\"1348\"}}'},\n",
       " {'type': 'esriJobMessageTypeInformative',\n",
       "  'description': '{\"messageCode\":\"BD_101029\",\"message\":\"129/1348 distributed tasks completed.\",\"params\":{\"completedTasks\":\"129\",\"totalTasks\":\"1348\"}}'},\n",
       " {'type': 'esriJobMessageTypeInformative',\n",
       "  'description': '{\"messageCode\":\"BD_101029\",\"message\":\"144/1348 distributed tasks completed.\",\"params\":{\"completedTasks\":\"144\",\"totalTasks\":\"1348\"}}'},\n",
       " {'type': 'esriJobMessageTypeInformative',\n",
       "  'description': '{\"messageCode\":\"BD_101029\",\"message\":\"166/1348 distributed tasks completed.\",\"params\":{\"completedTasks\":\"166\",\"totalTasks\":\"1348\"}}'},\n",
       " {'type': 'esriJobMessageTypeInformative',\n",
       "  'description': '{\"messageCode\":\"BD_101029\",\"message\":\"181/1348 distributed tasks completed.\",\"params\":{\"completedTasks\":\"181\",\"totalTasks\":\"1348\"}}'},\n",
       " {'type': 'esriJobMessageTypeInformative',\n",
       "  'description': '{\"messageCode\":\"BD_101029\",\"message\":\"198/1348 distributed tasks completed.\",\"params\":{\"completedTasks\":\"198\",\"totalTasks\":\"1348\"}}'},\n",
       " {'type': 'esriJobMessageTypeInformative',\n",
       "  'description': '{\"messageCode\":\"BD_101029\",\"message\":\"216/1348 distributed tasks completed.\",\"params\":{\"completedTasks\":\"216\",\"totalTasks\":\"1348\"}}'},\n",
       " {'type': 'esriJobMessageTypeInformative',\n",
       "  'description': '{\"messageCode\":\"BD_101029\",\"message\":\"233/1348 distributed tasks completed.\",\"params\":{\"completedTasks\":\"233\",\"totalTasks\":\"1348\"}}'},\n",
       " {'type': 'esriJobMessageTypeInformative',\n",
       "  'description': '{\"messageCode\":\"BD_101029\",\"message\":\"252/1348 distributed tasks completed.\",\"params\":{\"completedTasks\":\"252\",\"totalTasks\":\"1348\"}}'},\n",
       " {'type': 'esriJobMessageTypeInformative',\n",
       "  'description': '{\"messageCode\":\"BD_101029\",\"message\":\"262/1348 distributed tasks completed.\",\"params\":{\"completedTasks\":\"262\",\"totalTasks\":\"1348\"}}'},\n",
       " {'type': 'esriJobMessageTypeInformative',\n",
       "  'description': '{\"messageCode\":\"BD_101029\",\"message\":\"282/1348 distributed tasks completed.\",\"params\":{\"completedTasks\":\"282\",\"totalTasks\":\"1348\"}}'},\n",
       " {'type': 'esriJobMessageTypeInformative',\n",
       "  'description': '{\"messageCode\":\"BD_101029\",\"message\":\"299/1348 distributed tasks completed.\",\"params\":{\"completedTasks\":\"299\",\"totalTasks\":\"1348\"}}'},\n",
       " {'type': 'esriJobMessageTypeInformative',\n",
       "  'description': '{\"messageCode\":\"BD_101029\",\"message\":\"316/1348 distributed tasks completed.\",\"params\":{\"completedTasks\":\"316\",\"totalTasks\":\"1348\"}}'},\n",
       " {'type': 'esriJobMessageTypeInformative',\n",
       "  'description': '{\"messageCode\":\"BD_101029\",\"message\":\"333/1348 distributed tasks completed.\",\"params\":{\"completedTasks\":\"333\",\"totalTasks\":\"1348\"}}'},\n",
       " {'type': 'esriJobMessageTypeInformative',\n",
       "  'description': '{\"messageCode\":\"BD_101029\",\"message\":\"349/1348 distributed tasks completed.\",\"params\":{\"completedTasks\":\"349\",\"totalTasks\":\"1348\"}}'},\n",
       " {'type': 'esriJobMessageTypeInformative',\n",
       "  'description': '{\"messageCode\":\"BD_101029\",\"message\":\"368/1348 distributed tasks completed.\",\"params\":{\"completedTasks\":\"368\",\"totalTasks\":\"1348\"}}'},\n",
       " {'type': 'esriJobMessageTypeInformative',\n",
       "  'description': '{\"messageCode\":\"BD_101029\",\"message\":\"386/1348 distributed tasks completed.\",\"params\":{\"completedTasks\":\"386\",\"totalTasks\":\"1348\"}}'},\n",
       " {'type': 'esriJobMessageTypeInformative',\n",
       "  'description': '{\"messageCode\":\"BD_101029\",\"message\":\"404/1348 distributed tasks completed.\",\"params\":{\"completedTasks\":\"404\",\"totalTasks\":\"1348\"}}'},\n",
       " {'type': 'esriJobMessageTypeInformative',\n",
       "  'description': '{\"messageCode\":\"BD_101029\",\"message\":\"422/1348 distributed tasks completed.\",\"params\":{\"completedTasks\":\"422\",\"totalTasks\":\"1348\"}}'},\n",
       " {'type': 'esriJobMessageTypeInformative',\n",
       "  'description': '{\"messageCode\":\"BD_101029\",\"message\":\"441/1348 distributed tasks completed.\",\"params\":{\"completedTasks\":\"441\",\"totalTasks\":\"1348\"}}'},\n",
       " {'type': 'esriJobMessageTypeInformative',\n",
       "  'description': '{\"messageCode\":\"BD_101029\",\"message\":\"460/1348 distributed tasks completed.\",\"params\":{\"completedTasks\":\"460\",\"totalTasks\":\"1348\"}}'},\n",
       " {'type': 'esriJobMessageTypeInformative',\n",
       "  'description': '{\"messageCode\":\"BD_101029\",\"message\":\"478/1348 distributed tasks completed.\",\"params\":{\"completedTasks\":\"478\",\"totalTasks\":\"1348\"}}'},\n",
       " {'type': 'esriJobMessageTypeInformative',\n",
       "  'description': '{\"messageCode\":\"BD_101029\",\"message\":\"496/1348 distributed tasks completed.\",\"params\":{\"completedTasks\":\"496\",\"totalTasks\":\"1348\"}}'},\n",
       " {'type': 'esriJobMessageTypeInformative',\n",
       "  'description': '{\"messageCode\":\"BD_101029\",\"message\":\"513/1348 distributed tasks completed.\",\"params\":{\"completedTasks\":\"513\",\"totalTasks\":\"1348\"}}'},\n",
       " {'type': 'esriJobMessageTypeInformative',\n",
       "  'description': '{\"messageCode\":\"BD_101029\",\"message\":\"533/1348 distributed tasks completed.\",\"params\":{\"completedTasks\":\"533\",\"totalTasks\":\"1348\"}}'},\n",
       " {'type': 'esriJobMessageTypeInformative',\n",
       "  'description': '{\"messageCode\":\"BD_101029\",\"message\":\"551/1348 distributed tasks completed.\",\"params\":{\"completedTasks\":\"551\",\"totalTasks\":\"1348\"}}'},\n",
       " {'type': 'esriJobMessageTypeInformative',\n",
       "  'description': '{\"messageCode\":\"BD_101029\",\"message\":\"569/1348 distributed tasks completed.\",\"params\":{\"completedTasks\":\"569\",\"totalTasks\":\"1348\"}}'},\n",
       " {'type': 'esriJobMessageTypeInformative',\n",
       "  'description': '{\"messageCode\":\"BD_101029\",\"message\":\"587/1348 distributed tasks completed.\",\"params\":{\"completedTasks\":\"587\",\"totalTasks\":\"1348\"}}'},\n",
       " {'type': 'esriJobMessageTypeInformative',\n",
       "  'description': '{\"messageCode\":\"BD_101029\",\"message\":\"606/1348 distributed tasks completed.\",\"params\":{\"completedTasks\":\"606\",\"totalTasks\":\"1348\"}}'},\n",
       " {'type': 'esriJobMessageTypeInformative',\n",
       "  'description': '{\"messageCode\":\"BD_101029\",\"message\":\"624/1348 distributed tasks completed.\",\"params\":{\"completedTasks\":\"624\",\"totalTasks\":\"1348\"}}'},\n",
       " {'type': 'esriJobMessageTypeInformative',\n",
       "  'description': '{\"messageCode\":\"BD_101029\",\"message\":\"643/1348 distributed tasks completed.\",\"params\":{\"completedTasks\":\"643\",\"totalTasks\":\"1348\"}}'},\n",
       " {'type': 'esriJobMessageTypeInformative',\n",
       "  'description': '{\"messageCode\":\"BD_101029\",\"message\":\"661/1348 distributed tasks completed.\",\"params\":{\"completedTasks\":\"661\",\"totalTasks\":\"1348\"}}'},\n",
       " {'type': 'esriJobMessageTypeInformative',\n",
       "  'description': '{\"messageCode\":\"BD_101029\",\"message\":\"675/1348 distributed tasks completed.\",\"params\":{\"completedTasks\":\"675\",\"totalTasks\":\"1348\"}}'},\n",
       " {'type': 'esriJobMessageTypeInformative',\n",
       "  'description': '{\"messageCode\":\"BD_101029\",\"message\":\"697/1348 distributed tasks completed.\",\"params\":{\"completedTasks\":\"697\",\"totalTasks\":\"1348\"}}'},\n",
       " {'type': 'esriJobMessageTypeInformative',\n",
       "  'description': '{\"messageCode\":\"BD_101029\",\"message\":\"716/1348 distributed tasks completed.\",\"params\":{\"completedTasks\":\"716\",\"totalTasks\":\"1348\"}}'},\n",
       " {'type': 'esriJobMessageTypeInformative',\n",
       "  'description': '{\"messageCode\":\"BD_101029\",\"message\":\"736/1348 distributed tasks completed.\",\"params\":{\"completedTasks\":\"736\",\"totalTasks\":\"1348\"}}'},\n",
       " {'type': 'esriJobMessageTypeInformative',\n",
       "  'description': '{\"messageCode\":\"BD_101029\",\"message\":\"749/1348 distributed tasks completed.\",\"params\":{\"completedTasks\":\"749\",\"totalTasks\":\"1348\"}}'},\n",
       " {'type': 'esriJobMessageTypeInformative',\n",
       "  'description': '{\"messageCode\":\"BD_101029\",\"message\":\"764/1348 distributed tasks completed.\",\"params\":{\"completedTasks\":\"764\",\"totalTasks\":\"1348\"}}'},\n",
       " {'type': 'esriJobMessageTypeInformative',\n",
       "  'description': '{\"messageCode\":\"BD_101029\",\"message\":\"782/1348 distributed tasks completed.\",\"params\":{\"completedTasks\":\"782\",\"totalTasks\":\"1348\"}}'},\n",
       " {'type': 'esriJobMessageTypeInformative',\n",
       "  'description': '{\"messageCode\":\"BD_101029\",\"message\":\"799/1348 distributed tasks completed.\",\"params\":{\"completedTasks\":\"799\",\"totalTasks\":\"1348\"}}'},\n",
       " {'type': 'esriJobMessageTypeInformative',\n",
       "  'description': '{\"messageCode\":\"BD_101029\",\"message\":\"817/1348 distributed tasks completed.\",\"params\":{\"completedTasks\":\"817\",\"totalTasks\":\"1348\"}}'},\n",
       " {'type': 'esriJobMessageTypeInformative',\n",
       "  'description': '{\"messageCode\":\"BD_101029\",\"message\":\"835/1348 distributed tasks completed.\",\"params\":{\"completedTasks\":\"835\",\"totalTasks\":\"1348\"}}'},\n",
       " {'type': 'esriJobMessageTypeInformative',\n",
       "  'description': '{\"messageCode\":\"BD_101029\",\"message\":\"858/1348 distributed tasks completed.\",\"params\":{\"completedTasks\":\"858\",\"totalTasks\":\"1348\"}}'},\n",
       " {'type': 'esriJobMessageTypeInformative',\n",
       "  'description': '{\"messageCode\":\"BD_101029\",\"message\":\"878/1348 distributed tasks completed.\",\"params\":{\"completedTasks\":\"878\",\"totalTasks\":\"1348\"}}'},\n",
       " {'type': 'esriJobMessageTypeInformative',\n",
       "  'description': '{\"messageCode\":\"BD_101029\",\"message\":\"896/1348 distributed tasks completed.\",\"params\":{\"completedTasks\":\"896\",\"totalTasks\":\"1348\"}}'},\n",
       " {'type': 'esriJobMessageTypeInformative',\n",
       "  'description': '{\"messageCode\":\"BD_101029\",\"message\":\"914/1348 distributed tasks completed.\",\"params\":{\"completedTasks\":\"914\",\"totalTasks\":\"1348\"}}'},\n",
       " {'type': 'esriJobMessageTypeInformative',\n",
       "  'description': '{\"messageCode\":\"BD_101029\",\"message\":\"933/1348 distributed tasks completed.\",\"params\":{\"completedTasks\":\"933\",\"totalTasks\":\"1348\"}}'},\n",
       " {'type': 'esriJobMessageTypeInformative',\n",
       "  'description': '{\"messageCode\":\"BD_101029\",\"message\":\"953/1348 distributed tasks completed.\",\"params\":{\"completedTasks\":\"953\",\"totalTasks\":\"1348\"}}'},\n",
       " {'type': 'esriJobMessageTypeInformative',\n",
       "  'description': '{\"messageCode\":\"BD_101029\",\"message\":\"967/1348 distributed tasks completed.\",\"params\":{\"completedTasks\":\"967\",\"totalTasks\":\"1348\"}}'},\n",
       " {'type': 'esriJobMessageTypeInformative',\n",
       "  'description': '{\"messageCode\":\"BD_101029\",\"message\":\"986/1348 distributed tasks completed.\",\"params\":{\"completedTasks\":\"986\",\"totalTasks\":\"1348\"}}'},\n",
       " {'type': 'esriJobMessageTypeInformative',\n",
       "  'description': '{\"messageCode\":\"BD_101029\",\"message\":\"1005/1348 distributed tasks completed.\",\"params\":{\"completedTasks\":\"1005\",\"totalTasks\":\"1348\"}}'},\n",
       " {'type': 'esriJobMessageTypeInformative',\n",
       "  'description': '{\"messageCode\":\"BD_101029\",\"message\":\"1023/1348 distributed tasks completed.\",\"params\":{\"completedTasks\":\"1023\",\"totalTasks\":\"1348\"}}'},\n",
       " {'type': 'esriJobMessageTypeInformative',\n",
       "  'description': '{\"messageCode\":\"BD_101029\",\"message\":\"1040/1348 distributed tasks completed.\",\"params\":{\"completedTasks\":\"1040\",\"totalTasks\":\"1348\"}}'},\n",
       " {'type': 'esriJobMessageTypeInformative',\n",
       "  'description': '{\"messageCode\":\"BD_101029\",\"message\":\"1058/1348 distributed tasks completed.\",\"params\":{\"completedTasks\":\"1058\",\"totalTasks\":\"1348\"}}'},\n",
       " {'type': 'esriJobMessageTypeInformative',\n",
       "  'description': '{\"messageCode\":\"BD_101029\",\"message\":\"1076/1348 distributed tasks completed.\",\"params\":{\"completedTasks\":\"1076\",\"totalTasks\":\"1348\"}}'},\n",
       " {'type': 'esriJobMessageTypeInformative',\n",
       "  'description': '{\"messageCode\":\"BD_101029\",\"message\":\"1091/1348 distributed tasks completed.\",\"params\":{\"completedTasks\":\"1091\",\"totalTasks\":\"1348\"}}'},\n",
       " {'type': 'esriJobMessageTypeInformative',\n",
       "  'description': '{\"messageCode\":\"BD_101029\",\"message\":\"1114/1348 distributed tasks completed.\",\"params\":{\"completedTasks\":\"1114\",\"totalTasks\":\"1348\"}}'},\n",
       " {'type': 'esriJobMessageTypeInformative',\n",
       "  'description': '{\"messageCode\":\"BD_101029\",\"message\":\"1133/1348 distributed tasks completed.\",\"params\":{\"completedTasks\":\"1133\",\"totalTasks\":\"1348\"}}'},\n",
       " {'type': 'esriJobMessageTypeInformative',\n",
       "  'description': '{\"messageCode\":\"BD_101029\",\"message\":\"1348/1348 distributed tasks completed.\",\"params\":{\"completedTasks\":\"1348\",\"totalTasks\":\"1348\"}}'},\n",
       " {'type': 'esriJobMessageTypeInformative',\n",
       "  'description': '{\"messageCode\":\"BD_101028\",\"message\":\"Starting new distributed job with 1547 tasks.\",\"params\":{\"totalTasks\":\"1547\"}}'},\n",
       " {'type': 'esriJobMessageTypeInformative',\n",
       "  'description': '{\"messageCode\":\"BD_101029\",\"message\":\"0/1547 distributed tasks completed.\",\"params\":{\"completedTasks\":\"0\",\"totalTasks\":\"1547\"}}'},\n",
       " {'type': 'esriJobMessageTypeInformative',\n",
       "  'description': '{\"messageCode\":\"BD_101029\",\"message\":\"4/1547 distributed tasks completed.\",\"params\":{\"completedTasks\":\"4\",\"totalTasks\":\"1547\"}}'},\n",
       " {'type': 'esriJobMessageTypeInformative',\n",
       "  'description': '{\"messageCode\":\"BD_101029\",\"message\":\"26/1547 distributed tasks completed.\",\"params\":{\"completedTasks\":\"26\",\"totalTasks\":\"1547\"}}'},\n",
       " {'type': 'esriJobMessageTypeInformative',\n",
       "  'description': '{\"messageCode\":\"BD_101029\",\"message\":\"50/1547 distributed tasks completed.\",\"params\":{\"completedTasks\":\"50\",\"totalTasks\":\"1547\"}}'},\n",
       " {'type': 'esriJobMessageTypeInformative',\n",
       "  'description': '{\"messageCode\":\"BD_101029\",\"message\":\"71/1547 distributed tasks completed.\",\"params\":{\"completedTasks\":\"71\",\"totalTasks\":\"1547\"}}'},\n",
       " {'type': 'esriJobMessageTypeInformative',\n",
       "  'description': '{\"messageCode\":\"BD_101029\",\"message\":\"87/1547 distributed tasks completed.\",\"params\":{\"completedTasks\":\"87\",\"totalTasks\":\"1547\"}}'},\n",
       " {'type': 'esriJobMessageTypeInformative',\n",
       "  'description': '{\"messageCode\":\"BD_101029\",\"message\":\"104/1547 distributed tasks completed.\",\"params\":{\"completedTasks\":\"104\",\"totalTasks\":\"1547\"}}'},\n",
       " {'type': 'esriJobMessageTypeInformative',\n",
       "  'description': '{\"messageCode\":\"BD_101029\",\"message\":\"122/1547 distributed tasks completed.\",\"params\":{\"completedTasks\":\"122\",\"totalTasks\":\"1547\"}}'},\n",
       " {'type': 'esriJobMessageTypeInformative',\n",
       "  'description': '{\"messageCode\":\"BD_101029\",\"message\":\"139/1547 distributed tasks completed.\",\"params\":{\"completedTasks\":\"139\",\"totalTasks\":\"1547\"}}'},\n",
       " {'type': 'esriJobMessageTypeInformative',\n",
       "  'description': '{\"messageCode\":\"BD_101029\",\"message\":\"156/1547 distributed tasks completed.\",\"params\":{\"completedTasks\":\"156\",\"totalTasks\":\"1547\"}}'},\n",
       " {'type': 'esriJobMessageTypeInformative',\n",
       "  'description': '{\"messageCode\":\"BD_101029\",\"message\":\"175/1547 distributed tasks completed.\",\"params\":{\"completedTasks\":\"175\",\"totalTasks\":\"1547\"}}'},\n",
       " {'type': 'esriJobMessageTypeInformative',\n",
       "  'description': '{\"messageCode\":\"BD_101029\",\"message\":\"200/1547 distributed tasks completed.\",\"params\":{\"completedTasks\":\"200\",\"totalTasks\":\"1547\"}}'},\n",
       " {'type': 'esriJobMessageTypeInformative',\n",
       "  'description': '{\"messageCode\":\"BD_101029\",\"message\":\"218/1547 distributed tasks completed.\",\"params\":{\"completedTasks\":\"218\",\"totalTasks\":\"1547\"}}'},\n",
       " {'type': 'esriJobMessageTypeInformative',\n",
       "  'description': '{\"messageCode\":\"BD_101029\",\"message\":\"233/1547 distributed tasks completed.\",\"params\":{\"completedTasks\":\"233\",\"totalTasks\":\"1547\"}}'},\n",
       " {'type': 'esriJobMessageTypeInformative',\n",
       "  'description': '{\"messageCode\":\"BD_101029\",\"message\":\"253/1547 distributed tasks completed.\",\"params\":{\"completedTasks\":\"253\",\"totalTasks\":\"1547\"}}'},\n",
       " {'type': 'esriJobMessageTypeInformative',\n",
       "  'description': '{\"messageCode\":\"BD_101029\",\"message\":\"262/1547 distributed tasks completed.\",\"params\":{\"completedTasks\":\"262\",\"totalTasks\":\"1547\"}}'},\n",
       " {'type': 'esriJobMessageTypeInformative',\n",
       "  'description': '{\"messageCode\":\"BD_101029\",\"message\":\"290/1547 distributed tasks completed.\",\"params\":{\"completedTasks\":\"290\",\"totalTasks\":\"1547\"}}'},\n",
       " {'type': 'esriJobMessageTypeInformative',\n",
       "  'description': '{\"messageCode\":\"BD_101029\",\"message\":\"307/1547 distributed tasks completed.\",\"params\":{\"completedTasks\":\"307\",\"totalTasks\":\"1547\"}}'},\n",
       " {'type': 'esriJobMessageTypeInformative',\n",
       "  'description': '{\"messageCode\":\"BD_101029\",\"message\":\"316/1547 distributed tasks completed.\",\"params\":{\"completedTasks\":\"316\",\"totalTasks\":\"1547\"}}'},\n",
       " {'type': 'esriJobMessageTypeInformative',\n",
       "  'description': '{\"messageCode\":\"BD_101029\",\"message\":\"341/1547 distributed tasks completed.\",\"params\":{\"completedTasks\":\"341\",\"totalTasks\":\"1547\"}}'},\n",
       " {'type': 'esriJobMessageTypeInformative',\n",
       "  'description': '{\"messageCode\":\"BD_101029\",\"message\":\"357/1547 distributed tasks completed.\",\"params\":{\"completedTasks\":\"357\",\"totalTasks\":\"1547\"}}'},\n",
       " {'type': 'esriJobMessageTypeInformative',\n",
       "  'description': '{\"messageCode\":\"BD_101029\",\"message\":\"374/1547 distributed tasks completed.\",\"params\":{\"completedTasks\":\"374\",\"totalTasks\":\"1547\"}}'},\n",
       " {'type': 'esriJobMessageTypeInformative',\n",
       "  'description': '{\"messageCode\":\"BD_101029\",\"message\":\"394/1547 distributed tasks completed.\",\"params\":{\"completedTasks\":\"394\",\"totalTasks\":\"1547\"}}'},\n",
       " {'type': 'esriJobMessageTypeInformative',\n",
       "  'description': '{\"messageCode\":\"BD_101029\",\"message\":\"412/1547 distributed tasks completed.\",\"params\":{\"completedTasks\":\"412\",\"totalTasks\":\"1547\"}}'},\n",
       " {'type': 'esriJobMessageTypeInformative',\n",
       "  'description': '{\"messageCode\":\"BD_101029\",\"message\":\"431/1547 distributed tasks completed.\",\"params\":{\"completedTasks\":\"431\",\"totalTasks\":\"1547\"}}'},\n",
       " {'type': 'esriJobMessageTypeInformative',\n",
       "  'description': '{\"messageCode\":\"BD_101029\",\"message\":\"449/1547 distributed tasks completed.\",\"params\":{\"completedTasks\":\"449\",\"totalTasks\":\"1547\"}}'},\n",
       " {'type': 'esriJobMessageTypeInformative',\n",
       "  'description': '{\"messageCode\":\"BD_101029\",\"message\":\"466/1547 distributed tasks completed.\",\"params\":{\"completedTasks\":\"466\",\"totalTasks\":\"1547\"}}'},\n",
       " {'type': 'esriJobMessageTypeInformative',\n",
       "  'description': '{\"messageCode\":\"BD_101029\",\"message\":\"484/1547 distributed tasks completed.\",\"params\":{\"completedTasks\":\"484\",\"totalTasks\":\"1547\"}}'},\n",
       " {'type': 'esriJobMessageTypeInformative',\n",
       "  'description': '{\"messageCode\":\"BD_101029\",\"message\":\"503/1547 distributed tasks completed.\",\"params\":{\"completedTasks\":\"503\",\"totalTasks\":\"1547\"}}'},\n",
       " {'type': 'esriJobMessageTypeInformative',\n",
       "  'description': '{\"messageCode\":\"BD_101029\",\"message\":\"522/1547 distributed tasks completed.\",\"params\":{\"completedTasks\":\"522\",\"totalTasks\":\"1547\"}}'},\n",
       " {'type': 'esriJobMessageTypeInformative',\n",
       "  'description': '{\"messageCode\":\"BD_101029\",\"message\":\"536/1547 distributed tasks completed.\",\"params\":{\"completedTasks\":\"536\",\"totalTasks\":\"1547\"}}'},\n",
       " {'type': 'esriJobMessageTypeInformative',\n",
       "  'description': '{\"messageCode\":\"BD_101029\",\"message\":\"556/1547 distributed tasks completed.\",\"params\":{\"completedTasks\":\"556\",\"totalTasks\":\"1547\"}}'},\n",
       " {'type': 'esriJobMessageTypeInformative',\n",
       "  'description': '{\"messageCode\":\"BD_101029\",\"message\":\"578/1547 distributed tasks completed.\",\"params\":{\"completedTasks\":\"578\",\"totalTasks\":\"1547\"}}'},\n",
       " {'type': 'esriJobMessageTypeInformative',\n",
       "  'description': '{\"messageCode\":\"BD_101029\",\"message\":\"597/1547 distributed tasks completed.\",\"params\":{\"completedTasks\":\"597\",\"totalTasks\":\"1547\"}}'},\n",
       " {'type': 'esriJobMessageTypeInformative',\n",
       "  'description': '{\"messageCode\":\"BD_101029\",\"message\":\"613/1547 distributed tasks completed.\",\"params\":{\"completedTasks\":\"613\",\"totalTasks\":\"1547\"}}'},\n",
       " {'type': 'esriJobMessageTypeInformative',\n",
       "  'description': '{\"messageCode\":\"BD_101029\",\"message\":\"629/1547 distributed tasks completed.\",\"params\":{\"completedTasks\":\"629\",\"totalTasks\":\"1547\"}}'},\n",
       " {'type': 'esriJobMessageTypeInformative',\n",
       "  'description': '{\"messageCode\":\"BD_101029\",\"message\":\"647/1547 distributed tasks completed.\",\"params\":{\"completedTasks\":\"647\",\"totalTasks\":\"1547\"}}'},\n",
       " {'type': 'esriJobMessageTypeInformative',\n",
       "  'description': '{\"messageCode\":\"BD_101029\",\"message\":\"668/1547 distributed tasks completed.\",\"params\":{\"completedTasks\":\"668\",\"totalTasks\":\"1547\"}}'},\n",
       " {'type': 'esriJobMessageTypeInformative',\n",
       "  'description': '{\"messageCode\":\"BD_101029\",\"message\":\"682/1547 distributed tasks completed.\",\"params\":{\"completedTasks\":\"682\",\"totalTasks\":\"1547\"}}'},\n",
       " {'type': 'esriJobMessageTypeInformative',\n",
       "  'description': '{\"messageCode\":\"BD_101029\",\"message\":\"699/1547 distributed tasks completed.\",\"params\":{\"completedTasks\":\"699\",\"totalTasks\":\"1547\"}}'},\n",
       " {'type': 'esriJobMessageTypeInformative',\n",
       "  'description': '{\"messageCode\":\"BD_101029\",\"message\":\"717/1547 distributed tasks completed.\",\"params\":{\"completedTasks\":\"717\",\"totalTasks\":\"1547\"}}'},\n",
       " {'type': 'esriJobMessageTypeInformative',\n",
       "  'description': '{\"messageCode\":\"BD_101029\",\"message\":\"738/1547 distributed tasks completed.\",\"params\":{\"completedTasks\":\"738\",\"totalTasks\":\"1547\"}}'},\n",
       " {'type': 'esriJobMessageTypeInformative',\n",
       "  'description': '{\"messageCode\":\"BD_101029\",\"message\":\"761/1547 distributed tasks completed.\",\"params\":{\"completedTasks\":\"761\",\"totalTasks\":\"1547\"}}'},\n",
       " {'type': 'esriJobMessageTypeInformative',\n",
       "  'description': '{\"messageCode\":\"BD_101029\",\"message\":\"775/1547 distributed tasks completed.\",\"params\":{\"completedTasks\":\"775\",\"totalTasks\":\"1547\"}}'},\n",
       " {'type': 'esriJobMessageTypeInformative',\n",
       "  'description': '{\"messageCode\":\"BD_101029\",\"message\":\"788/1547 distributed tasks completed.\",\"params\":{\"completedTasks\":\"788\",\"totalTasks\":\"1547\"}}'},\n",
       " {'type': 'esriJobMessageTypeInformative',\n",
       "  'description': '{\"messageCode\":\"BD_101029\",\"message\":\"807/1547 distributed tasks completed.\",\"params\":{\"completedTasks\":\"807\",\"totalTasks\":\"1547\"}}'},\n",
       " {'type': 'esriJobMessageTypeInformative',\n",
       "  'description': '{\"messageCode\":\"BD_101029\",\"message\":\"826/1547 distributed tasks completed.\",\"params\":{\"completedTasks\":\"826\",\"totalTasks\":\"1547\"}}'},\n",
       " {'type': 'esriJobMessageTypeInformative',\n",
       "  'description': '{\"messageCode\":\"BD_101029\",\"message\":\"848/1547 distributed tasks completed.\",\"params\":{\"completedTasks\":\"848\",\"totalTasks\":\"1547\"}}'},\n",
       " {'type': 'esriJobMessageTypeInformative',\n",
       "  'description': '{\"messageCode\":\"BD_101029\",\"message\":\"862/1547 distributed tasks completed.\",\"params\":{\"completedTasks\":\"862\",\"totalTasks\":\"1547\"}}'},\n",
       " {'type': 'esriJobMessageTypeInformative',\n",
       "  'description': '{\"messageCode\":\"BD_101029\",\"message\":\"879/1547 distributed tasks completed.\",\"params\":{\"completedTasks\":\"879\",\"totalTasks\":\"1547\"}}'},\n",
       " {'type': 'esriJobMessageTypeInformative',\n",
       "  'description': '{\"messageCode\":\"BD_101029\",\"message\":\"901/1547 distributed tasks completed.\",\"params\":{\"completedTasks\":\"901\",\"totalTasks\":\"1547\"}}'},\n",
       " {'type': 'esriJobMessageTypeInformative',\n",
       "  'description': '{\"messageCode\":\"BD_101029\",\"message\":\"920/1547 distributed tasks completed.\",\"params\":{\"completedTasks\":\"920\",\"totalTasks\":\"1547\"}}'},\n",
       " {'type': 'esriJobMessageTypeInformative',\n",
       "  'description': '{\"messageCode\":\"BD_101029\",\"message\":\"940/1547 distributed tasks completed.\",\"params\":{\"completedTasks\":\"940\",\"totalTasks\":\"1547\"}}'},\n",
       " {'type': 'esriJobMessageTypeInformative',\n",
       "  'description': '{\"messageCode\":\"BD_101029\",\"message\":\"960/1547 distributed tasks completed.\",\"params\":{\"completedTasks\":\"960\",\"totalTasks\":\"1547\"}}'},\n",
       " {'type': 'esriJobMessageTypeInformative',\n",
       "  'description': '{\"messageCode\":\"BD_101029\",\"message\":\"974/1547 distributed tasks completed.\",\"params\":{\"completedTasks\":\"974\",\"totalTasks\":\"1547\"}}'},\n",
       " {'type': 'esriJobMessageTypeInformative',\n",
       "  'description': '{\"messageCode\":\"BD_101029\",\"message\":\"995/1547 distributed tasks completed.\",\"params\":{\"completedTasks\":\"995\",\"totalTasks\":\"1547\"}}'},\n",
       " {'type': 'esriJobMessageTypeInformative',\n",
       "  'description': '{\"messageCode\":\"BD_101029\",\"message\":\"1011/1547 distributed tasks completed.\",\"params\":{\"completedTasks\":\"1011\",\"totalTasks\":\"1547\"}}'},\n",
       " {'type': 'esriJobMessageTypeInformative',\n",
       "  'description': '{\"messageCode\":\"BD_101029\",\"message\":\"1029/1547 distributed tasks completed.\",\"params\":{\"completedTasks\":\"1029\",\"totalTasks\":\"1547\"}}'},\n",
       " {'type': 'esriJobMessageTypeInformative',\n",
       "  'description': '{\"messageCode\":\"BD_101029\",\"message\":\"1046/1547 distributed tasks completed.\",\"params\":{\"completedTasks\":\"1046\",\"totalTasks\":\"1547\"}}'},\n",
       " {'type': 'esriJobMessageTypeInformative',\n",
       "  'description': '{\"messageCode\":\"BD_101029\",\"message\":\"1066/1547 distributed tasks completed.\",\"params\":{\"completedTasks\":\"1066\",\"totalTasks\":\"1547\"}}'},\n",
       " {'type': 'esriJobMessageTypeInformative',\n",
       "  'description': '{\"messageCode\":\"BD_101029\",\"message\":\"1085/1547 distributed tasks completed.\",\"params\":{\"completedTasks\":\"1085\",\"totalTasks\":\"1547\"}}'},\n",
       " {'type': 'esriJobMessageTypeInformative',\n",
       "  'description': '{\"messageCode\":\"BD_101029\",\"message\":\"1109/1547 distributed tasks completed.\",\"params\":{\"completedTasks\":\"1109\",\"totalTasks\":\"1547\"}}'},\n",
       " {'type': 'esriJobMessageTypeInformative',\n",
       "  'description': '{\"messageCode\":\"BD_101029\",\"message\":\"1130/1547 distributed tasks completed.\",\"params\":{\"completedTasks\":\"1130\",\"totalTasks\":\"1547\"}}'},\n",
       " {'type': 'esriJobMessageTypeInformative',\n",
       "  'description': '{\"messageCode\":\"BD_101029\",\"message\":\"1148/1547 distributed tasks completed.\",\"params\":{\"completedTasks\":\"1148\",\"totalTasks\":\"1547\"}}'},\n",
       " {'type': 'esriJobMessageTypeInformative',\n",
       "  'description': '{\"messageCode\":\"BD_101029\",\"message\":\"1199/1547 distributed tasks completed.\",\"params\":{\"completedTasks\":\"1199\",\"totalTasks\":\"1547\"}}'},\n",
       " {'type': 'esriJobMessageTypeInformative',\n",
       "  'description': '{\"messageCode\":\"BD_101029\",\"message\":\"1244/1547 distributed tasks completed.\",\"params\":{\"completedTasks\":\"1244\",\"totalTasks\":\"1547\"}}'},\n",
       " {'type': 'esriJobMessageTypeInformative',\n",
       "  'description': '{\"messageCode\":\"BD_101029\",\"message\":\"1293/1547 distributed tasks completed.\",\"params\":{\"completedTasks\":\"1293\",\"totalTasks\":\"1547\"}}'},\n",
       " {'type': 'esriJobMessageTypeInformative',\n",
       "  'description': '{\"messageCode\":\"BD_101029\",\"message\":\"1344/1547 distributed tasks completed.\",\"params\":{\"completedTasks\":\"1344\",\"totalTasks\":\"1547\"}}'},\n",
       " {'type': 'esriJobMessageTypeInformative',\n",
       "  'description': '{\"messageCode\":\"BD_101029\",\"message\":\"1394/1547 distributed tasks completed.\",\"params\":{\"completedTasks\":\"1394\",\"totalTasks\":\"1547\"}}'},\n",
       " {'type': 'esriJobMessageTypeInformative',\n",
       "  'description': '{\"messageCode\":\"BD_101029\",\"message\":\"1429/1547 distributed tasks completed.\",\"params\":{\"completedTasks\":\"1429\",\"totalTasks\":\"1547\"}}'},\n",
       " {'type': 'esriJobMessageTypeInformative',\n",
       "  'description': '{\"messageCode\":\"BD_101029\",\"message\":\"1465/1547 distributed tasks completed.\",\"params\":{\"completedTasks\":\"1465\",\"totalTasks\":\"1547\"}}'},\n",
       " {'type': 'esriJobMessageTypeInformative',\n",
       "  'description': '{\"messageCode\":\"BD_101029\",\"message\":\"1511/1547 distributed tasks completed.\",\"params\":{\"completedTasks\":\"1511\",\"totalTasks\":\"1547\"}}'},\n",
       " {'type': 'esriJobMessageTypeInformative',\n",
       "  'description': '{\"messageCode\":\"BD_101029\",\"message\":\"1547/1547 distributed tasks completed.\",\"params\":{\"completedTasks\":\"1547\",\"totalTasks\":\"1547\"}}'},\n",
       " {'type': 'esriJobMessageTypeInformative',\n",
       "  'description': '{\"messageCode\":\"BD_101081\",\"message\":\"Finished writing results:\"}'},\n",
       " {'type': 'esriJobMessageTypeInformative',\n",
       "  'description': '{\"messageCode\":\"BD_101082\",\"message\":\"* Count of features = 18231\",\"params\":{\"resultCount\":\"18231\"}}'},\n",
       " {'type': 'esriJobMessageTypeInformative',\n",
       "  'description': '{\"messageCode\":\"BD_101083\",\"message\":\"* Spatial extent = None\",\"params\":{\"extent\":\"None\"}}'},\n",
       " {'type': 'esriJobMessageTypeInformative',\n",
       "  'description': '{\"messageCode\":\"BD_101084\",\"message\":\"* Temporal extent = None\",\"params\":{\"extent\":\"None\"}}'},\n",
       " {'type': 'esriJobMessageTypeInformative',\n",
       "  'description': '{\"messageCode\":\"BD_101226\",\"message\":\"Feature service layer created: https://ndhagsb01.esri.com/gis/rest/services/Hosted/timeseries_data_17_18_19_1station291167/FeatureServer/0\",\"params\":{\"serviceUrl\":\"https://ndhagsb01.esri.com/gis/rest/services/Hosted/timeseries_data_17_18_19_1station291167/FeatureServer/0\"}}'},\n",
       " {'type': 'esriJobMessageTypeInformative',\n",
       "  'description': 'Succeeded at Mon Mar 16 15:50:49 2020 (Elapsed Time: 12 minutes 38 seconds)'}]"
      ]
     },
     "execution_count": 77,
     "metadata": {},
     "output_type": "execute_result"
    }
   ],
   "source": [
    "run_python_script(code=data_processsing, layers=[air_lyr])"
   ]
  },
  {
   "cell_type": "code",
   "execution_count": 78,
   "metadata": {},
   "outputs": [],
   "source": [
    "data = gis.content.search('timeseries_data_17_18_19_1station')[0]"
   ]
  },
  {
   "cell_type": "code",
   "execution_count": 79,
   "metadata": {
    "scrolled": true
   },
   "outputs": [
    {
     "data": {
      "text/html": [
       "<div class=\"item_container\" style=\"height: auto; overflow: hidden; border: 1px solid #cfcfcf; border-radius: 2px; background: #f6fafa; line-height: 1.21429em; padding: 10px;\">\n",
       "                    <div class=\"item_left\" style=\"width: 210px; float: left;\">\n",
       "                       <a href='https://ndhagsb01.esri.com/portal/home/item.html?id=01ea39f1742d4ea6a1ef98bb62062010' target='_blank'>\n",
       "                        <img src='https://ndhagsb01.esri.com/portal/portalimages/desktopapp.png' class=\"itemThumbnail\">\n",
       "                       </a>\n",
       "                    </div>\n",
       "\n",
       "                    <div class=\"item_right\"     style=\"float: none; width: auto; overflow: hidden;\">\n",
       "                        <a href='https://ndhagsb01.esri.com/portal/home/item.html?id=01ea39f1742d4ea6a1ef98bb62062010' target='_blank'><b>timeseries_data_17_18_19_1station291167</b>\n",
       "                        </a>\n",
       "                        <br/><img src='https://ndhagsb01.esri.com/portal/home/js/jsapi/esri/css/images/item_type_icons/table16.png' style=\"vertical-align:middle;\">Table Layer by admin\n",
       "                        <br/>Last Modified: March 16, 2020\n",
       "                        <br/>0 comments, 0 views\n",
       "                    </div>\n",
       "                </div>\n",
       "                "
      ],
      "text/plain": [
       "<Item title:\"timeseries_data_17_18_19_1station291167\" type:Table Layer owner:admin>"
      ]
     },
     "execution_count": 79,
     "metadata": {},
     "output_type": "execute_result"
    }
   ],
   "source": [
    "data"
   ]
  },
  {
   "cell_type": "code",
   "execution_count": 80,
   "metadata": {},
   "outputs": [],
   "source": [
    "series_data = data.tables[0]"
   ]
  },
  {
   "cell_type": "code",
   "execution_count": 98,
   "metadata": {},
   "outputs": [],
   "source": [
    "df = series_data.query(as_df=True)"
   ]
  },
  {
   "cell_type": "code",
   "execution_count": 103,
   "metadata": {},
   "outputs": [
    {
     "data": {
      "text/plain": [
       "0        15.7\n",
       "1         9.0\n",
       "2        19.0\n",
       "3         9.9\n",
       "4        12.9\n",
       "         ... \n",
       "18226    12.8\n",
       "18227    12.6\n",
       "18228    15.8\n",
       "18229     NaN\n",
       "18230     NaN\n",
       "Name: PM2_5___Local_Conditions, Length: 18231, dtype: float64"
      ]
     },
     "execution_count": 103,
     "metadata": {},
     "output_type": "execute_result"
    }
   ],
   "source": []
  },
  {
   "cell_type": "code",
   "execution_count": 101,
   "metadata": {},
   "outputs": [],
   "source": [
    "df.to_csv('predict_pm_data')"
   ]
  },
  {
   "cell_type": "code",
   "execution_count": 82,
   "metadata": {},
   "outputs": [
    {
     "data": {
      "text/plain": [
       "Index(['Barometric_pressure', 'Carbon_monoxide', 'Nitric_oxide__NO_',\n",
       "       'Nitrogen_dioxide__NO2_', 'OBJECTID', 'Outdoor_Temperature',\n",
       "       'Oxides_of_nitrogen__NOx_', 'Ozone', 'PM10_Total_0_10um_STP',\n",
       "       'PM2_5___Local_Conditions', 'Reactive_oxides_of_nitrogen__NOy_',\n",
       "       'Relative_Humidity', 'Sulfur_dioxide', 'Wind_Direction___Resultant',\n",
       "       'Wind_Speed___Resultant', 'datetime', 'globalid', 'unique_id'],\n",
       "      dtype='object')"
      ]
     },
     "execution_count": 82,
     "metadata": {},
     "output_type": "execute_result"
    }
   ],
   "source": [
    "df.columns"
   ]
  },
  {
   "cell_type": "code",
   "execution_count": 68,
   "metadata": {
    "scrolled": true
   },
   "outputs": [
    {
     "data": {
      "text/plain": [
       "0      2017-05-25 08:00\n",
       "1      2018-04-26 07:00\n",
       "2      2018-03-04 09:00\n",
       "3      2017-07-01 03:00\n",
       "4      2017-06-27 20:00\n",
       "             ...       \n",
       "995    2018-03-21 03:00\n",
       "996    2018-12-08 17:00\n",
       "997    2018-07-13 16:00\n",
       "998    2017-02-08 07:00\n",
       "999    2017-08-05 09:00\n",
       "Name: datetime, Length: 1000, dtype: object"
      ]
     },
     "execution_count": 68,
     "metadata": {},
     "output_type": "execute_result"
    }
   ],
   "source": [
    "df.resample()"
   ]
  },
  {
   "cell_type": "code",
   "execution_count": 83,
   "metadata": {},
   "outputs": [],
   "source": [
    "matrix = df.corr()"
   ]
  },
  {
   "cell_type": "code",
   "execution_count": 84,
   "metadata": {},
   "outputs": [
    {
     "data": {
      "text/html": [
       "<div>\n",
       "<style scoped>\n",
       "    .dataframe tbody tr th:only-of-type {\n",
       "        vertical-align: middle;\n",
       "    }\n",
       "\n",
       "    .dataframe tbody tr th {\n",
       "        vertical-align: top;\n",
       "    }\n",
       "\n",
       "    .dataframe thead th {\n",
       "        text-align: right;\n",
       "    }\n",
       "</style>\n",
       "<table border=\"1\" class=\"dataframe\">\n",
       "  <thead>\n",
       "    <tr style=\"text-align: right;\">\n",
       "      <th></th>\n",
       "      <th>Barometric_pressure</th>\n",
       "      <th>Carbon_monoxide</th>\n",
       "      <th>Nitric_oxide__NO_</th>\n",
       "      <th>Nitrogen_dioxide__NO2_</th>\n",
       "      <th>OBJECTID</th>\n",
       "      <th>Outdoor_Temperature</th>\n",
       "      <th>Oxides_of_nitrogen__NOx_</th>\n",
       "      <th>Ozone</th>\n",
       "      <th>PM10_Total_0_10um_STP</th>\n",
       "      <th>PM2_5___Local_Conditions</th>\n",
       "      <th>Reactive_oxides_of_nitrogen__NOy_</th>\n",
       "      <th>Relative_Humidity</th>\n",
       "      <th>Sulfur_dioxide</th>\n",
       "      <th>Wind_Direction___Resultant</th>\n",
       "      <th>Wind_Speed___Resultant</th>\n",
       "      <th>datetime</th>\n",
       "      <th>globalid</th>\n",
       "      <th>unique_id</th>\n",
       "    </tr>\n",
       "  </thead>\n",
       "  <tbody>\n",
       "    <tr>\n",
       "      <td>0</td>\n",
       "      <td>992.7</td>\n",
       "      <td>0.059</td>\n",
       "      <td>0.70</td>\n",
       "      <td>3.0</td>\n",
       "      <td>1</td>\n",
       "      <td>86.9</td>\n",
       "      <td>4.0</td>\n",
       "      <td>0.033</td>\n",
       "      <td>23.0</td>\n",
       "      <td>15.7</td>\n",
       "      <td>3.7</td>\n",
       "      <td>50.0</td>\n",
       "      <td>0.8</td>\n",
       "      <td>206.0</td>\n",
       "      <td>9.2</td>\n",
       "      <td>2017-04-28 15:00</td>\n",
       "      <td>{8E2CB27D-96C6-6FA2-46E9-1EA28BDCC1FF}</td>\n",
       "      <td>010730023</td>\n",
       "    </tr>\n",
       "    <tr>\n",
       "      <td>1</td>\n",
       "      <td>999.0</td>\n",
       "      <td>NaN</td>\n",
       "      <td>0.70</td>\n",
       "      <td>2.7</td>\n",
       "      <td>2</td>\n",
       "      <td>43.9</td>\n",
       "      <td>3.5</td>\n",
       "      <td>0.021</td>\n",
       "      <td>5.0</td>\n",
       "      <td>9.0</td>\n",
       "      <td>3.8</td>\n",
       "      <td>69.0</td>\n",
       "      <td>0.0</td>\n",
       "      <td>285.0</td>\n",
       "      <td>3.7</td>\n",
       "      <td>2017-11-19 07:00</td>\n",
       "      <td>{98B0D3C7-7219-2C73-98C3-31F862DC2E86}</td>\n",
       "      <td>010730023</td>\n",
       "    </tr>\n",
       "    <tr>\n",
       "      <td>2</td>\n",
       "      <td>995.8</td>\n",
       "      <td>NaN</td>\n",
       "      <td>31.40</td>\n",
       "      <td>21.5</td>\n",
       "      <td>3</td>\n",
       "      <td>66.2</td>\n",
       "      <td>55.9</td>\n",
       "      <td>0.007</td>\n",
       "      <td>50.0</td>\n",
       "      <td>19.0</td>\n",
       "      <td>48.5</td>\n",
       "      <td>69.0</td>\n",
       "      <td>6.4</td>\n",
       "      <td>150.0</td>\n",
       "      <td>2.0</td>\n",
       "      <td>2017-05-26 06:00</td>\n",
       "      <td>{5467D1C2-503A-A94F-11BC-C1DFB93CD0EA}</td>\n",
       "      <td>010730023</td>\n",
       "    </tr>\n",
       "    <tr>\n",
       "      <td>3</td>\n",
       "      <td>995.2</td>\n",
       "      <td>0.422</td>\n",
       "      <td>8.55</td>\n",
       "      <td>18.9</td>\n",
       "      <td>4</td>\n",
       "      <td>68.0</td>\n",
       "      <td>28.1</td>\n",
       "      <td>NaN</td>\n",
       "      <td>15.0</td>\n",
       "      <td>9.9</td>\n",
       "      <td>24.0</td>\n",
       "      <td>91.0</td>\n",
       "      <td>0.3</td>\n",
       "      <td>241.0</td>\n",
       "      <td>3.5</td>\n",
       "      <td>2017-03-28 07:00</td>\n",
       "      <td>{27FC92CA-4941-ADB0-7E5E-EFB9018E02BB}</td>\n",
       "      <td>010730023</td>\n",
       "    </tr>\n",
       "    <tr>\n",
       "      <td>4</td>\n",
       "      <td>978.2</td>\n",
       "      <td>NaN</td>\n",
       "      <td>0.25</td>\n",
       "      <td>4.9</td>\n",
       "      <td>5</td>\n",
       "      <td>73.6</td>\n",
       "      <td>5.3</td>\n",
       "      <td>0.027</td>\n",
       "      <td>NaN</td>\n",
       "      <td>12.9</td>\n",
       "      <td>4.4</td>\n",
       "      <td>70.0</td>\n",
       "      <td>0.2</td>\n",
       "      <td>216.0</td>\n",
       "      <td>7.6</td>\n",
       "      <td>2018-03-19 18:00</td>\n",
       "      <td>{37EA6335-6768-0C0B-D0D5-56D9A3F6C6BA}</td>\n",
       "      <td>010730023</td>\n",
       "    </tr>\n",
       "  </tbody>\n",
       "</table>\n",
       "</div>"
      ],
      "text/plain": [
       "   Barometric_pressure  Carbon_monoxide  Nitric_oxide__NO_  \\\n",
       "0                992.7            0.059               0.70   \n",
       "1                999.0              NaN               0.70   \n",
       "2                995.8              NaN              31.40   \n",
       "3                995.2            0.422               8.55   \n",
       "4                978.2              NaN               0.25   \n",
       "\n",
       "   Nitrogen_dioxide__NO2_  OBJECTID  Outdoor_Temperature  \\\n",
       "0                     3.0         1                 86.9   \n",
       "1                     2.7         2                 43.9   \n",
       "2                    21.5         3                 66.2   \n",
       "3                    18.9         4                 68.0   \n",
       "4                     4.9         5                 73.6   \n",
       "\n",
       "   Oxides_of_nitrogen__NOx_  Ozone  PM10_Total_0_10um_STP  \\\n",
       "0                       4.0  0.033                   23.0   \n",
       "1                       3.5  0.021                    5.0   \n",
       "2                      55.9  0.007                   50.0   \n",
       "3                      28.1    NaN                   15.0   \n",
       "4                       5.3  0.027                    NaN   \n",
       "\n",
       "   PM2_5___Local_Conditions  Reactive_oxides_of_nitrogen__NOy_  \\\n",
       "0                      15.7                                3.7   \n",
       "1                       9.0                                3.8   \n",
       "2                      19.0                               48.5   \n",
       "3                       9.9                               24.0   \n",
       "4                      12.9                                4.4   \n",
       "\n",
       "   Relative_Humidity  Sulfur_dioxide  Wind_Direction___Resultant  \\\n",
       "0               50.0             0.8                       206.0   \n",
       "1               69.0             0.0                       285.0   \n",
       "2               69.0             6.4                       150.0   \n",
       "3               91.0             0.3                       241.0   \n",
       "4               70.0             0.2                       216.0   \n",
       "\n",
       "   Wind_Speed___Resultant          datetime  \\\n",
       "0                     9.2  2017-04-28 15:00   \n",
       "1                     3.7  2017-11-19 07:00   \n",
       "2                     2.0  2017-05-26 06:00   \n",
       "3                     3.5  2017-03-28 07:00   \n",
       "4                     7.6  2018-03-19 18:00   \n",
       "\n",
       "                                 globalid  unique_id  \n",
       "0  {8E2CB27D-96C6-6FA2-46E9-1EA28BDCC1FF}  010730023  \n",
       "1  {98B0D3C7-7219-2C73-98C3-31F862DC2E86}  010730023  \n",
       "2  {5467D1C2-503A-A94F-11BC-C1DFB93CD0EA}  010730023  \n",
       "3  {27FC92CA-4941-ADB0-7E5E-EFB9018E02BB}  010730023  \n",
       "4  {37EA6335-6768-0C0B-D0D5-56D9A3F6C6BA}  010730023  "
      ]
     },
     "execution_count": 84,
     "metadata": {},
     "output_type": "execute_result"
    }
   ],
   "source": [
    "df.head()"
   ]
  },
  {
   "cell_type": "code",
   "execution_count": 85,
   "metadata": {
    "scrolled": true
   },
   "outputs": [
    {
     "data": {
      "text/plain": [
       "Ozone                               -0.276271\n",
       "Wind_Speed___Resultant              -0.268314\n",
       "Wind_Direction___Resultant          -0.219734\n",
       "Outdoor_Temperature                 -0.052256\n",
       "OBJECTID                             0.005891\n",
       "Relative_Humidity                    0.091825\n",
       "Barometric_pressure                  0.158869\n",
       "Carbon_monoxide                      0.284716\n",
       "Sulfur_dioxide                       0.398257\n",
       "Nitric_oxide__NO_                    0.403251\n",
       "Nitrogen_dioxide__NO2_               0.403685\n",
       "Oxides_of_nitrogen__NOx_             0.467652\n",
       "Reactive_oxides_of_nitrogen__NOy_    0.508848\n",
       "PM10_Total_0_10um_STP                0.613552\n",
       "PM2_5___Local_Conditions             1.000000\n",
       "Name: PM2_5___Local_Conditions, dtype: float64"
      ]
     },
     "execution_count": 85,
     "metadata": {},
     "output_type": "execute_result"
    }
   ],
   "source": [
    "matrix['PM2_5___Local_Conditions'].sort_values()"
   ]
  },
  {
   "cell_type": "markdown",
   "metadata": {},
   "source": [
    "Nitric_oxide__NO_, Barometric_pressure, Ozone, unique_id, Reactive_oxides_of_nitrogen__NOy_, Carbon_monoxide, datetime, globalid, Nitrogen_dioxide__NO2_, Wind_Speed___Resultant, OBJECTID, Outdoor_Temperature, Sulfur_dioxide, Relative_Humidity, PM10_Total_0_10um_STP, Wind_Direction___Resultant, Oxides_of_nitrogen__NOx_, PM2_5___Local_Conditions'"
   ]
  },
  {
   "cell_type": "code",
   "execution_count": 110,
   "metadata": {},
   "outputs": [],
   "source": [
    "def predict():\n",
    "    import os\n",
    "    from pyspark.ml.regression import RandomForestRegressor\n",
    "    from pyspark.ml.evaluation import RegressionEvaluator\n",
    "    from pyspark.ml.feature import VectorAssembler\n",
    "\n",
    "    # The training dataset is a feature service with the revenue and demographics of current customer areas.\n",
    "    data = layers[0]\n",
    "    data = data.filter(data.PM2_5___Local_Conditions.isNotNull())\n",
    "\n",
    "    # Combine explanatory columns into a single column called \"features\"\n",
    "    assembler = VectorAssembler(inputCols=['Outdoor_Temperature', \n",
    "                                           'Relative_Humidity', \n",
    "                                           'Wind_Direction___Resultant', \n",
    "                                           'Wind_Speed___Resultant', \n",
    "                                           'PM10_Total_0_10um_STP'], \n",
    "                                outputCol='features')\n",
    "    data = assembler.setHandleInvalid(\"skip\").transform(data)\n",
    "\n",
    "    # Split the dataset to keep 10% for model validation\n",
    "    (trainingData, testData) = data.randomSplit([0.9, 0.1])\n",
    "\n",
    "    # Create the Random Forest model and fit it using the training data\n",
    "    rf = RandomForestRegressor(featuresCol=\"features\", labelCol=\"PM2_5___Local_Conditions\", numTrees=100, seed=14389)\n",
    "    model = rf.fit(trainingData)\n",
    "\n",
    "    # Apply the model to the test data removed earlier for validation\n",
    "    predictions = model.transform(testData)\n",
    "\n",
    "    # Calculate and print the Root Mean Squared Error between model results and actual revenue\n",
    "    evaluator = RegressionEvaluator(labelCol=\"PM2_5___Local_Conditions\", predictionCol=\"prediction\", metricName=\"rmse\")\n",
    "    rmse = evaluator.evaluate(predictions)\n",
    "    print(\"Root Mean Squared Error (RMSE) on test data = %g\" % rmse)\n",
    "\n",
    "    # Write a summary of feature importance to a shared folder\n",
    "    out_path = r\"\\\\DELDEVD014\\store\"\n",
    "    with open(os.path.join(out_path, 'feature_importance.txt'), 'w') as w:\n",
    "        w.write(str(model.featureImportances))"
   ]
  },
  {
   "cell_type": "code",
   "execution_count": 111,
   "metadata": {
    "collapsed": true
   },
   "outputs": [
    {
     "name": "stdout",
     "output_type": "stream",
     "text": [
      "Submitted.\n",
      "Executing...\n",
      "Executing (RunPythonScript): RunPythonScript \"def predict():\\n    import os\\n    from pyspark.ml.regression import RandomForestRegressor\\n    from pyspark.ml.evaluation import RegressionEvaluator\\n    from pyspark.ml.feature import VectorAssembler\\n\\n    # The training dataset is a feature service with the revenue and demographics of current customer areas.\\n    data = layers[0]\\n    data = data.filter(data.PM2_5___Local_Conditions.isNotNull())\\n\\n    # Combine explanatory columns into a single column called \"features\"\\n    assembler = VectorAssembler(inputCols=['Outdoor_Temperature', \\n                                           'Relative_Humidity', \\n                                           'Wind_Direction___Resultant', \\n                                           'Wind_Speed___Resultant', \\n                                           'PM10_Total_0_10um_STP'], \\n                                outputCol='features')\\n    data = assembler.setHandleInvalid(\"skip\").transform(data)\\n\\n    # Split the dataset to keep 10% for model validation\\n    (trainingData, testData) = data.randomSplit([0.9, 0.1])\\n\\n    # Create the Random Forest model and fit it using the training data\\n    rf = RandomForestRegressor(featuresCol=\"features\", labelCol=\"PM2_5___Local_Conditions\", numTrees=100, seed=14389)\\n    model = rf.fit(trainingData)\\n\\n    # Apply the model to the test data removed earlier for validation\\n    predictions = model.transform(testData)\\n\\n    # Calculate and print the Root Mean Squared Error between model results and actual revenue\\n    evaluator = RegressionEvaluator(labelCol=\"PM2_5___Local_Conditions\", predictionCol=\"prediction\", metricName=\"rmse\")\\n    rmse = evaluator.evaluate(predictions)\\n    print(\"Root Mean Squared Error (RMSE) on test data = %g\" % rmse)\\n\\n    # Write a summary of feature importance to a shared folder\\n    out_path = r\"\\\\DELDEVD014\\store\"\\n    with open(os.path.join(out_path, 'feature_importance.txt'), 'w') as w:\\n        w.write(str(model.featureImportances))\\n\\npredict()\" https://ndhagsb01.esri.com/gis/rest/services/Hosted/timeseries_data_17_18_19_1station291167/FeatureServer/0 \"{\"defaultAggregationStyles\": false}\"\n",
      "Start Time: Tue Mar 17 12:03:38 2020\n",
      "Using URL based GPRecordSet param: https://ndhagsb01.esri.com/gis/rest/services/Hosted/timeseries_data_17_18_19_1station291167/FeatureServer/0\n",
      "{\"messageCode\":\"BD_101028\",\"message\":\"Starting new distributed job with 1 tasks.\",\"params\":{\"totalTasks\":\"1\"}}\n",
      "{\"messageCode\":\"BD_101029\",\"message\":\"0/1 distributed tasks completed.\",\"params\":{\"completedTasks\":\"0\",\"totalTasks\":\"1\"}}\n",
      "{\"messageCode\":\"BD_101029\",\"message\":\"1/1 distributed tasks completed.\",\"params\":{\"completedTasks\":\"1\",\"totalTasks\":\"1\"}}\n",
      "{\"messageCode\":\"BD_101028\",\"message\":\"Starting new distributed job with 6 tasks.\",\"params\":{\"totalTasks\":\"6\"}}\n",
      "{\"messageCode\":\"BD_101029\",\"message\":\"6/6 distributed tasks completed.\",\"params\":{\"completedTasks\":\"6\",\"totalTasks\":\"6\"}}\n",
      "{\"messageCode\":\"BD_101028\",\"message\":\"Starting new distributed job with 11 tasks.\",\"params\":{\"totalTasks\":\"11\"}}\n",
      "{\"messageCode\":\"BD_101029\",\"message\":\"11/11 distributed tasks completed.\",\"params\":{\"completedTasks\":\"11\",\"totalTasks\":\"11\"}}\n",
      "{\"messageCode\":\"BD_101028\",\"message\":\"Starting new distributed job with 12 tasks.\",\"params\":{\"totalTasks\":\"12\"}}\n",
      "{\"messageCode\":\"BD_101029\",\"message\":\"12/12 distributed tasks completed.\",\"params\":{\"completedTasks\":\"12\",\"totalTasks\":\"12\"}}\n",
      "{\"messageCode\":\"BD_101028\",\"message\":\"Starting new distributed job with 12 tasks.\",\"params\":{\"totalTasks\":\"12\"}}\n",
      "{\"messageCode\":\"BD_101029\",\"message\":\"12/12 distributed tasks completed.\",\"params\":{\"completedTasks\":\"12\",\"totalTasks\":\"12\"}}\n",
      "{\"messageCode\":\"BD_101028\",\"message\":\"Starting new distributed job with 12 tasks.\",\"params\":{\"totalTasks\":\"12\"}}\n",
      "{\"messageCode\":\"BD_101029\",\"message\":\"12/12 distributed tasks completed.\",\"params\":{\"completedTasks\":\"12\",\"totalTasks\":\"12\"}}\n",
      "{\"messageCode\":\"BD_101028\",\"message\":\"Starting new distributed job with 12 tasks.\",\"params\":{\"totalTasks\":\"12\"}}\n",
      "{\"messageCode\":\"BD_101029\",\"message\":\"12/12 distributed tasks completed.\",\"params\":{\"completedTasks\":\"12\",\"totalTasks\":\"12\"}}\n",
      "{\"messageCode\":\"BD_101028\",\"message\":\"Starting new distributed job with 12 tasks.\",\"params\":{\"totalTasks\":\"12\"}}\n",
      "{\"messageCode\":\"BD_101029\",\"message\":\"12/12 distributed tasks completed.\",\"params\":{\"completedTasks\":\"12\",\"totalTasks\":\"12\"}}\n",
      "{\"messageCode\":\"BD_101028\",\"message\":\"Starting new distributed job with 1 tasks.\",\"params\":{\"totalTasks\":\"1\"}}\n",
      "{\"messageCode\":\"BD_101029\",\"message\":\"1/1 distributed tasks completed.\",\"params\":{\"completedTasks\":\"1\",\"totalTasks\":\"1\"}}\n",
      "{\"messageCode\":\"BD_101028\",\"message\":\"Starting new distributed job with 8 tasks.\",\"params\":{\"totalTasks\":\"8\"}}\n",
      "{\"messageCode\":\"BD_101029\",\"message\":\"8/8 distributed tasks completed.\",\"params\":{\"completedTasks\":\"8\",\"totalTasks\":\"8\"}}\n",
      "{\"messageCode\":\"BD_101138\",\"message\":\"[Python] Root Mean Squared Error (RMSE) on test data = 6.7978\",\"params\":{\"text\":\"Root Mean Squared Error (RMSE) on test data = 6.7978\"}}\n"
     ]
    },
    {
     "data": {
      "text/plain": [
       "[{'type': 'esriJobMessageTypeInformative',\n",
       "  'description': 'Executing (RunPythonScript): RunPythonScript \"def predict():\\\\n    import os\\\\n    from pyspark.ml.regression import RandomForestRegressor\\\\n    from pyspark.ml.evaluation import RegressionEvaluator\\\\n    from pyspark.ml.feature import VectorAssembler\\\\n\\\\n    # The training dataset is a feature service with the revenue and demographics of current customer areas.\\\\n    data = layers[0]\\\\n    data = data.filter(data.PM2_5___Local_Conditions.isNotNull())\\\\n\\\\n    # Combine explanatory columns into a single column called \"features\"\\\\n    assembler = VectorAssembler(inputCols=[\\'Outdoor_Temperature\\', \\\\n                                           \\'Relative_Humidity\\', \\\\n                                           \\'Wind_Direction___Resultant\\', \\\\n                                           \\'Wind_Speed___Resultant\\', \\\\n                                           \\'PM10_Total_0_10um_STP\\'], \\\\n                                outputCol=\\'features\\')\\\\n    data = assembler.setHandleInvalid(\"skip\").transform(data)\\\\n\\\\n    # Split the dataset to keep 10% for model validation\\\\n    (trainingData, testData) = data.randomSplit([0.9, 0.1])\\\\n\\\\n    # Create the Random Forest model and fit it using the training data\\\\n    rf = RandomForestRegressor(featuresCol=\"features\", labelCol=\"PM2_5___Local_Conditions\", numTrees=100, seed=14389)\\\\n    model = rf.fit(trainingData)\\\\n\\\\n    # Apply the model to the test data removed earlier for validation\\\\n    predictions = model.transform(testData)\\\\n\\\\n    # Calculate and print the Root Mean Squared Error between model results and actual revenue\\\\n    evaluator = RegressionEvaluator(labelCol=\"PM2_5___Local_Conditions\", predictionCol=\"prediction\", metricName=\"rmse\")\\\\n    rmse = evaluator.evaluate(predictions)\\\\n    print(\"Root Mean Squared Error (RMSE) on test data = %g\" % rmse)\\\\n\\\\n    # Write a summary of feature importance to a shared folder\\\\n    out_path = r\"\\\\\\\\DELDEVD014\\\\store\"\\\\n    with open(os.path.join(out_path, \\'feature_importance.txt\\'), \\'w\\') as w:\\\\n        w.write(str(model.featureImportances))\\\\n\\\\npredict()\" https://ndhagsb01.esri.com/gis/rest/services/Hosted/timeseries_data_17_18_19_1station291167/FeatureServer/0 \"{\"defaultAggregationStyles\": false}\"'},\n",
       " {'type': 'esriJobMessageTypeInformative',\n",
       "  'description': 'Start Time: Tue Mar 17 12:03:38 2020'},\n",
       " {'type': 'esriJobMessageTypeInformative',\n",
       "  'description': 'Using URL based GPRecordSet param: https://ndhagsb01.esri.com/gis/rest/services/Hosted/timeseries_data_17_18_19_1station291167/FeatureServer/0'},\n",
       " {'type': 'esriJobMessageTypeInformative',\n",
       "  'description': '{\"messageCode\":\"BD_101028\",\"message\":\"Starting new distributed job with 1 tasks.\",\"params\":{\"totalTasks\":\"1\"}}'},\n",
       " {'type': 'esriJobMessageTypeInformative',\n",
       "  'description': '{\"messageCode\":\"BD_101029\",\"message\":\"0/1 distributed tasks completed.\",\"params\":{\"completedTasks\":\"0\",\"totalTasks\":\"1\"}}'},\n",
       " {'type': 'esriJobMessageTypeInformative',\n",
       "  'description': '{\"messageCode\":\"BD_101029\",\"message\":\"1/1 distributed tasks completed.\",\"params\":{\"completedTasks\":\"1\",\"totalTasks\":\"1\"}}'},\n",
       " {'type': 'esriJobMessageTypeInformative',\n",
       "  'description': '{\"messageCode\":\"BD_101028\",\"message\":\"Starting new distributed job with 6 tasks.\",\"params\":{\"totalTasks\":\"6\"}}'},\n",
       " {'type': 'esriJobMessageTypeInformative',\n",
       "  'description': '{\"messageCode\":\"BD_101029\",\"message\":\"6/6 distributed tasks completed.\",\"params\":{\"completedTasks\":\"6\",\"totalTasks\":\"6\"}}'},\n",
       " {'type': 'esriJobMessageTypeInformative',\n",
       "  'description': '{\"messageCode\":\"BD_101028\",\"message\":\"Starting new distributed job with 11 tasks.\",\"params\":{\"totalTasks\":\"11\"}}'},\n",
       " {'type': 'esriJobMessageTypeInformative',\n",
       "  'description': '{\"messageCode\":\"BD_101029\",\"message\":\"11/11 distributed tasks completed.\",\"params\":{\"completedTasks\":\"11\",\"totalTasks\":\"11\"}}'},\n",
       " {'type': 'esriJobMessageTypeInformative',\n",
       "  'description': '{\"messageCode\":\"BD_101028\",\"message\":\"Starting new distributed job with 12 tasks.\",\"params\":{\"totalTasks\":\"12\"}}'},\n",
       " {'type': 'esriJobMessageTypeInformative',\n",
       "  'description': '{\"messageCode\":\"BD_101029\",\"message\":\"12/12 distributed tasks completed.\",\"params\":{\"completedTasks\":\"12\",\"totalTasks\":\"12\"}}'},\n",
       " {'type': 'esriJobMessageTypeInformative',\n",
       "  'description': '{\"messageCode\":\"BD_101028\",\"message\":\"Starting new distributed job with 12 tasks.\",\"params\":{\"totalTasks\":\"12\"}}'},\n",
       " {'type': 'esriJobMessageTypeInformative',\n",
       "  'description': '{\"messageCode\":\"BD_101029\",\"message\":\"12/12 distributed tasks completed.\",\"params\":{\"completedTasks\":\"12\",\"totalTasks\":\"12\"}}'},\n",
       " {'type': 'esriJobMessageTypeInformative',\n",
       "  'description': '{\"messageCode\":\"BD_101028\",\"message\":\"Starting new distributed job with 12 tasks.\",\"params\":{\"totalTasks\":\"12\"}}'},\n",
       " {'type': 'esriJobMessageTypeInformative',\n",
       "  'description': '{\"messageCode\":\"BD_101029\",\"message\":\"12/12 distributed tasks completed.\",\"params\":{\"completedTasks\":\"12\",\"totalTasks\":\"12\"}}'},\n",
       " {'type': 'esriJobMessageTypeInformative',\n",
       "  'description': '{\"messageCode\":\"BD_101028\",\"message\":\"Starting new distributed job with 12 tasks.\",\"params\":{\"totalTasks\":\"12\"}}'},\n",
       " {'type': 'esriJobMessageTypeInformative',\n",
       "  'description': '{\"messageCode\":\"BD_101029\",\"message\":\"12/12 distributed tasks completed.\",\"params\":{\"completedTasks\":\"12\",\"totalTasks\":\"12\"}}'},\n",
       " {'type': 'esriJobMessageTypeInformative',\n",
       "  'description': '{\"messageCode\":\"BD_101028\",\"message\":\"Starting new distributed job with 12 tasks.\",\"params\":{\"totalTasks\":\"12\"}}'},\n",
       " {'type': 'esriJobMessageTypeInformative',\n",
       "  'description': '{\"messageCode\":\"BD_101029\",\"message\":\"12/12 distributed tasks completed.\",\"params\":{\"completedTasks\":\"12\",\"totalTasks\":\"12\"}}'},\n",
       " {'type': 'esriJobMessageTypeInformative',\n",
       "  'description': '{\"messageCode\":\"BD_101028\",\"message\":\"Starting new distributed job with 1 tasks.\",\"params\":{\"totalTasks\":\"1\"}}'},\n",
       " {'type': 'esriJobMessageTypeInformative',\n",
       "  'description': '{\"messageCode\":\"BD_101029\",\"message\":\"1/1 distributed tasks completed.\",\"params\":{\"completedTasks\":\"1\",\"totalTasks\":\"1\"}}'},\n",
       " {'type': 'esriJobMessageTypeInformative',\n",
       "  'description': '{\"messageCode\":\"BD_101028\",\"message\":\"Starting new distributed job with 8 tasks.\",\"params\":{\"totalTasks\":\"8\"}}'},\n",
       " {'type': 'esriJobMessageTypeInformative',\n",
       "  'description': '{\"messageCode\":\"BD_101029\",\"message\":\"8/8 distributed tasks completed.\",\"params\":{\"completedTasks\":\"8\",\"totalTasks\":\"8\"}}'},\n",
       " {'type': 'esriJobMessageTypeInformative',\n",
       "  'description': '{\"messageCode\":\"BD_101138\",\"message\":\"[Python] Root Mean Squared Error (RMSE) on test data = 6.7978\",\"params\":{\"text\":\"Root Mean Squared Error (RMSE) on test data = 6.7978\"}}'},\n",
       " {'type': 'esriJobMessageTypeInformative',\n",
       "  'description': 'Succeeded at Tue Mar 17 12:04:00 2020 (Elapsed Time: 21.54 seconds)'}]"
      ]
     },
     "execution_count": 111,
     "metadata": {},
     "output_type": "execute_result"
    }
   ],
   "source": [
    "run_python_script(code=predict, layers=[series_data])"
   ]
  },
  {
   "cell_type": "code",
   "execution_count": 123,
   "metadata": {},
   "outputs": [
    {
     "data": {
      "text/plain": [
       "<Table url:\"https://ndhagsb01.esri.com/gis/rest/services/Hosted/timeseries_data_17_18_19_1station291167/FeatureServer/0\">"
      ]
     },
     "execution_count": 123,
     "metadata": {},
     "output_type": "execute_result"
    }
   ],
   "source": [
    "series_data"
   ]
  },
  {
   "cell_type": "code",
   "execution_count": 126,
   "metadata": {},
   "outputs": [
    {
     "name": "stdout",
     "output_type": "stream",
     "text": [
      "Submitted.\n",
      "Executing...\n",
      "Executing (GeneralizedLinearRegression): GeneralizedLinearRegression \"Record Set\" # PM2_5___Local_Conditions \"Outdoor_Temperature, Relative_Humidity, Wind_Direction___Resultant, Wind_Speed___Resultant, PM10_Total_0_10um_STP\" Continuous false # # \"{\"serviceProperties\": {\"name\": \"GLR_JU0ZRN\", \"serviceUrl\": \"https://ndhagsb01.esri.com/gis/rest/services/Hosted/GLR_JU0ZRN/FeatureServer\"}, \"itemProperties\": {\"itemId\": \"0a5e30ca34b74737a0e7c2d495e443ee\"}}\" \"{\"defaultAggregationStyles\": false}\"\n",
      "Start Time: Tue Mar 17 12:17:41 2020\n",
      "Using URL based GPRecordSet param: https://ndhagsb01.esri.com/gis/rest/services/Hosted/timeseries_data_17_18_19_1station291167/FeatureServer/0\n",
      "{\"messageCode\":\"BD_101028\",\"message\":\"Starting new distributed job with 1 tasks.\",\"params\":{\"totalTasks\":\"1\"}}\n",
      "{\"messageCode\":\"BD_101029\",\"message\":\"0/1 distributed tasks completed.\",\"params\":{\"completedTasks\":\"0\",\"totalTasks\":\"1\"}}\n",
      "{\"messageCode\":\"BD_101029\",\"message\":\"1/1 distributed tasks completed.\",\"params\":{\"completedTasks\":\"1\",\"totalTasks\":\"1\"}}\n",
      "{\"messageCode\":\"BD_101028\",\"message\":\"Starting new distributed job with 8 tasks.\",\"params\":{\"totalTasks\":\"8\"}}\n",
      "{\"messageCode\":\"BD_101029\",\"message\":\"8/8 distributed tasks completed.\",\"params\":{\"completedTasks\":\"8\",\"totalTasks\":\"8\"}}\n",
      "{\"messageCode\":\"BD_101028\",\"message\":\"Starting new distributed job with 7 tasks.\",\"params\":{\"totalTasks\":\"7\"}}\n",
      "{\"messageCode\":\"BD_101029\",\"message\":\"7/7 distributed tasks completed.\",\"params\":{\"completedTasks\":\"7\",\"totalTasks\":\"7\"}}\n",
      "{\"messageCode\":\"BD_101028\",\"message\":\"Starting new distributed job with 7 tasks.\",\"params\":{\"totalTasks\":\"7\"}}\n",
      "{\"messageCode\":\"BD_101029\",\"message\":\"7/7 distributed tasks completed.\",\"params\":{\"completedTasks\":\"7\",\"totalTasks\":\"7\"}}\n",
      "{\"messageCode\":\"BD_101028\",\"message\":\"Starting new distributed job with 8 tasks.\",\"params\":{\"totalTasks\":\"8\"}}\n",
      "{\"messageCode\":\"BD_101029\",\"message\":\"8/8 distributed tasks completed.\",\"params\":{\"completedTasks\":\"8\",\"totalTasks\":\"8\"}}\n",
      "{\"messageCode\":\"BD_101028\",\"message\":\"Starting new distributed job with 6 tasks.\",\"params\":{\"totalTasks\":\"6\"}}\n",
      "{\"messageCode\":\"BD_101029\",\"message\":\"6/6 distributed tasks completed.\",\"params\":{\"completedTasks\":\"6\",\"totalTasks\":\"6\"}}\n",
      "{\"messageCode\":\"BD_101028\",\"message\":\"Starting new distributed job with 7 tasks.\",\"params\":{\"totalTasks\":\"7\"}}\n",
      "{\"messageCode\":\"BD_101029\",\"message\":\"7/7 distributed tasks completed.\",\"params\":{\"completedTasks\":\"7\",\"totalTasks\":\"7\"}}\n",
      "{\"messageCode\":\"BD_101028\",\"message\":\"Starting new distributed job with 6 tasks.\",\"params\":{\"totalTasks\":\"6\"}}\n",
      "{\"messageCode\":\"BD_101029\",\"message\":\"6/6 distributed tasks completed.\",\"params\":{\"completedTasks\":\"6\",\"totalTasks\":\"6\"}}\n",
      "{\"messageCode\":\"BD_101028\",\"message\":\"Starting new distributed job with 6 tasks.\",\"params\":{\"totalTasks\":\"6\"}}\n",
      "{\"messageCode\":\"BD_101029\",\"message\":\"6/6 distributed tasks completed.\",\"params\":{\"completedTasks\":\"6\",\"totalTasks\":\"6\"}}\n",
      "{\"messageCode\":\"BD_101028\",\"message\":\"Starting new distributed job with 7 tasks.\",\"params\":{\"totalTasks\":\"7\"}}\n",
      "{\"messageCode\":\"BD_101029\",\"message\":\"7/7 distributed tasks completed.\",\"params\":{\"completedTasks\":\"7\",\"totalTasks\":\"7\"}}\n",
      "{\"messageCode\":\"BD_101178\",\"message\":\"Summary of GLR Results [Model Type: Continuous (Gaussian/OLS)]\",\"params\":{\"regressionFamily\":\"Continuous (Gaussian/OLS)\"}}\n",
      "{\"messageCode\":\"BD_101179\",\"message\":\"[\\\"Variable\\\", \\\"Coef\\\", \\\"StdError\\\", \\\"t_Stat\\\", \\\"Prob\\\"]\"}\n",
      "{\"messageCode\":\"BD_101180\",\"message\":\"'Wind_Speed___Resultant', '-0.382317', '0.035246', '-10.847164', '0.0'\",\"params\":{\"tStatistics\":\"-10.847164\",\"coefficient\":\"-0.382317\",\"prob\":\"0.0\",\"standardError\":\"0.035246\",\"variable\":\"Wind_Speed___Resultant\"}}\n",
      "{\"messageCode\":\"BD_101180\",\"message\":\"'Outdoor_Temperature', '-0.032289', '0.004692', '-6.882011', '0.0'\",\"params\":{\"tStatistics\":\"-6.882011\",\"coefficient\":\"-0.032289\",\"prob\":\"0.0\",\"standardError\":\"0.004692\",\"variable\":\"Outdoor_Temperature\"}}\n",
      "{\"messageCode\":\"BD_101180\",\"message\":\"'Relative_Humidity', '0.002938', '0.003386', '0.867835', '0.385501'\",\"params\":{\"tStatistics\":\"0.867835\",\"coefficient\":\"0.002938\",\"prob\":\"0.385501\",\"standardError\":\"0.003386\",\"variable\":\"Relative_Humidity\"}}\n",
      "{\"messageCode\":\"BD_101180\",\"message\":\"'PM10_Total_0_10um_STP', '0.356844', '0.0045', '79.29629', '0.0'\",\"params\":{\"tStatistics\":\"79.29629\",\"coefficient\":\"0.356844\",\"prob\":\"0.0\",\"standardError\":\"0.0045\",\"variable\":\"PM10_Total_0_10um_STP\"}}\n",
      "{\"messageCode\":\"BD_101180\",\"message\":\"'Wind_Direction___Resultant', '-0.006418', '9.26E-4', '-6.929004', '0.0'\",\"params\":{\"tStatistics\":\"-6.929004\",\"coefficient\":\"-0.006418\",\"prob\":\"0.0\",\"standardError\":\"9.26E-4\",\"variable\":\"Wind_Direction___Resultant\"}}\n",
      "{\"messageCode\":\"BD_101180\",\"message\":\"'Intercept', '7.903056', '0.520743', '15.176487', '0.0'\",\"params\":{\"tStatistics\":\"15.176487\",\"coefficient\":\"7.903056\",\"prob\":\"0.0\",\"standardError\":\"0.520743\",\"variable\":\"Intercept\"}}\n",
      "{\"messageCode\":\"BD_101181\",\"message\":\"GLR Diagnostics\"}\n",
      "{\"messageCode\":\"BD_101182\",\"message\":\"Multiple R-Squared: 0.39359\",\"params\":{\"r2\":\"0.39359\"}}\n",
      "{\"messageCode\":\"BD_101183\",\"message\":\"Adjusted R-Squared: 0.393351\",\"params\":{\"r2Adj\":\"0.393351\"}}\n",
      "{\"messageCode\":\"BD_101184\",\"message\":\"Akaike's Information Criterion (AIC): 85232.688277\",\"params\":{\"aic\":\"85232.688277\"}}\n",
      "{\"messageCode\":\"BD_101185\",\"message\":\"Akaike's Information Criterion corrected (AICc): 85232.688277\",\"params\":{\"aicc\":\"85232.688277\"}}\n",
      "{\"messageCode\":\"BD_101028\",\"message\":\"Starting new distributed job with 212 tasks.\",\"params\":{\"totalTasks\":\"212\"}}\n",
      "{\"messageCode\":\"BD_101029\",\"message\":\"1/212 distributed tasks completed.\",\"params\":{\"completedTasks\":\"1\",\"totalTasks\":\"212\"}}\n",
      "{\"messageCode\":\"BD_101029\",\"message\":\"25/212 distributed tasks completed.\",\"params\":{\"completedTasks\":\"25\",\"totalTasks\":\"212\"}}\n",
      "{\"messageCode\":\"BD_101029\",\"message\":\"73/212 distributed tasks completed.\",\"params\":{\"completedTasks\":\"73\",\"totalTasks\":\"212\"}}\n",
      "{\"messageCode\":\"BD_101029\",\"message\":\"117/212 distributed tasks completed.\",\"params\":{\"completedTasks\":\"117\",\"totalTasks\":\"212\"}}\n",
      "{\"messageCode\":\"BD_101029\",\"message\":\"158/212 distributed tasks completed.\",\"params\":{\"completedTasks\":\"158\",\"totalTasks\":\"212\"}}\n",
      "{\"messageCode\":\"BD_101029\",\"message\":\"197/212 distributed tasks completed.\",\"params\":{\"completedTasks\":\"197\",\"totalTasks\":\"212\"}}\n",
      "{\"messageCode\":\"BD_101029\",\"message\":\"212/212 distributed tasks completed.\",\"params\":{\"completedTasks\":\"212\",\"totalTasks\":\"212\"}}\n",
      "{\"messageCode\":\"BD_101081\",\"message\":\"Finished writing results:\"}\n",
      "{\"messageCode\":\"BD_101082\",\"message\":\"* Count of features = 12677\",\"params\":{\"resultCount\":\"12677\"}}\n",
      "{\"messageCode\":\"BD_101083\",\"message\":\"* Spatial extent = None\",\"params\":{\"extent\":\"None\"}}\n",
      "{\"messageCode\":\"BD_101084\",\"message\":\"* Temporal extent = None\",\"params\":{\"extent\":\"None\"}}\n",
      "{\"messageCode\":\"BD_101226\",\"message\":\"Feature service layer created: https://ndhagsb01.esri.com/gis/rest/services/Hosted/GLR_JU0ZRN/FeatureServer/0\",\"params\":{\"serviceUrl\":\"https://ndhagsb01.esri.com/gis/rest/services/Hosted/GLR_JU0ZRN/FeatureServer/0\"}}\n",
      "Succeeded at Tue Mar 17 12:18:39 2020 (Elapsed Time: 57.63 seconds)\n"
     ]
    },
    {
     "ename": "AttributeError",
     "evalue": "type object 'Table' has no attribute 'from_dict'",
     "output_type": "error",
     "traceback": [
      "\u001b[1;31m---------------------------------------------------------------------------\u001b[0m",
      "\u001b[1;31mAttributeError\u001b[0m                            Traceback (most recent call last)",
      "\u001b[1;32m<ipython-input-126-0c5c78ba1713>\u001b[0m in \u001b[0;36m<module>\u001b[1;34m\u001b[0m\n\u001b[0;32m      5\u001b[0m                          \u001b[1;34m'Wind_Direction___Resultant'\u001b[0m\u001b[1;33m,\u001b[0m\u001b[1;33m\u001b[0m\u001b[1;33m\u001b[0m\u001b[0m\n\u001b[0;32m      6\u001b[0m                          \u001b[1;34m'Wind_Speed___Resultant'\u001b[0m\u001b[1;33m,\u001b[0m\u001b[1;33m\u001b[0m\u001b[1;33m\u001b[0m\u001b[0m\n\u001b[1;32m----> 7\u001b[1;33m                          'PM10_Total_0_10um_STP'], return_tuple=True)\n\u001b[0m",
      "\u001b[1;32m~\\.conda\\envs\\tf-py-fast-arcgis\\lib\\site-packages\\arcgis\\geoanalytics\\analyze_patterns.py\u001b[0m in \u001b[0;36mglr\u001b[1;34m(input_layer, var_dependent, var_explanatory, regression_family, features_to_predict, gen_coeff_table, exp_var_matching, dep_mapping, output_name, gis, context, future, return_tuple)\u001b[0m\n\u001b[0;32m    552\u001b[0m             \u001b[0mgpjob\u001b[0m \u001b[1;33m=\u001b[0m \u001b[0m_execute_gp_tool\u001b[0m\u001b[1;33m(\u001b[0m\u001b[0mgis\u001b[0m\u001b[1;33m,\u001b[0m \u001b[1;34m\"GeneralizedLinearRegression\"\u001b[0m\u001b[1;33m,\u001b[0m \u001b[0mparams\u001b[0m\u001b[1;33m,\u001b[0m \u001b[0mparam_db\u001b[0m\u001b[1;33m,\u001b[0m \u001b[0mreturn_values\u001b[0m\u001b[1;33m,\u001b[0m \u001b[0m_use_async\u001b[0m\u001b[1;33m,\u001b[0m \u001b[0murl\u001b[0m\u001b[1;33m,\u001b[0m \u001b[1;32mTrue\u001b[0m\u001b[1;33m,\u001b[0m \u001b[0mfuture\u001b[0m\u001b[1;33m=\u001b[0m\u001b[0mfuture\u001b[0m\u001b[1;33m)\u001b[0m\u001b[1;33m\u001b[0m\u001b[1;33m\u001b[0m\u001b[0m\n\u001b[0;32m    553\u001b[0m             \u001b[1;32mreturn\u001b[0m \u001b[0mGAJob\u001b[0m\u001b[1;33m(\u001b[0m\u001b[0mgpjob\u001b[0m\u001b[1;33m=\u001b[0m\u001b[0mgpjob\u001b[0m\u001b[1;33m,\u001b[0m \u001b[0mreturn_service\u001b[0m\u001b[1;33m=\u001b[0m\u001b[0moutput_service\u001b[0m\u001b[1;33m)\u001b[0m\u001b[1;33m\u001b[0m\u001b[1;33m\u001b[0m\u001b[0m\n\u001b[1;32m--> 554\u001b[1;33m         \u001b[0mres\u001b[0m \u001b[1;33m=\u001b[0m \u001b[0m_execute_gp_tool\u001b[0m\u001b[1;33m(\u001b[0m\u001b[0mgis\u001b[0m\u001b[1;33m,\u001b[0m \u001b[1;34m\"GeneralizedLinearRegression\"\u001b[0m\u001b[1;33m,\u001b[0m \u001b[0mparams\u001b[0m\u001b[1;33m,\u001b[0m \u001b[0mparam_db\u001b[0m\u001b[1;33m,\u001b[0m \u001b[0mreturn_values\u001b[0m\u001b[1;33m,\u001b[0m \u001b[0m_use_async\u001b[0m\u001b[1;33m,\u001b[0m \u001b[0murl\u001b[0m\u001b[1;33m,\u001b[0m \u001b[1;32mTrue\u001b[0m\u001b[1;33m,\u001b[0m \u001b[0mfuture\u001b[0m\u001b[1;33m=\u001b[0m\u001b[0mfuture\u001b[0m\u001b[1;33m)\u001b[0m\u001b[1;33m\u001b[0m\u001b[1;33m\u001b[0m\u001b[0m\n\u001b[0m\u001b[0;32m    555\u001b[0m \u001b[1;33m\u001b[0m\u001b[0m\n\u001b[0;32m    556\u001b[0m         \u001b[1;32mif\u001b[0m \u001b[0mreturn_tuple\u001b[0m\u001b[1;33m:\u001b[0m\u001b[1;33m\u001b[0m\u001b[1;33m\u001b[0m\u001b[0m\n",
      "\u001b[1;32m~\\.conda\\envs\\tf-py-fast-arcgis\\lib\\site-packages\\arcgis\\geoprocessing\\_support.py\u001b[0m in \u001b[0;36m_execute_gp_tool\u001b[1;34m(gis, task_name, params, param_db, return_values, use_async, url, webtool, add_token, return_messages, future)\u001b[0m\n\u001b[0;32m    404\u001b[0m             \u001b[0moutput_val\u001b[0m \u001b[1;33m=\u001b[0m \u001b[0mresp\u001b[0m\u001b[1;33m[\u001b[0m\u001b[0mretParamName\u001b[0m\u001b[1;33m]\u001b[0m\u001b[1;33m\u001b[0m\u001b[1;33m\u001b[0m\u001b[0m\n\u001b[0;32m    405\u001b[0m             \u001b[1;32mtry\u001b[0m\u001b[1;33m:\u001b[0m\u001b[1;33m\u001b[0m\u001b[1;33m\u001b[0m\u001b[0m\n\u001b[1;32m--> 406\u001b[1;33m                 \u001b[0mret_param_name\u001b[0m\u001b[1;33m,\u001b[0m \u001b[0mret_val\u001b[0m \u001b[1;33m=\u001b[0m \u001b[0m_get_output_value\u001b[0m\u001b[1;33m(\u001b[0m\u001b[0mgptool\u001b[0m\u001b[1;33m,\u001b[0m \u001b[0moutput_val\u001b[0m\u001b[1;33m,\u001b[0m \u001b[0mparam_db\u001b[0m\u001b[1;33m,\u001b[0m \u001b[0mretParamName\u001b[0m\u001b[1;33m)\u001b[0m\u001b[1;33m\u001b[0m\u001b[1;33m\u001b[0m\u001b[0m\n\u001b[0m\u001b[0;32m    407\u001b[0m                 \u001b[0moutput_dict\u001b[0m\u001b[1;33m[\u001b[0m\u001b[0mret_param_name\u001b[0m\u001b[1;33m]\u001b[0m \u001b[1;33m=\u001b[0m \u001b[0mret_val\u001b[0m\u001b[1;33m\u001b[0m\u001b[1;33m\u001b[0m\u001b[0m\n\u001b[0;32m    408\u001b[0m             \u001b[1;32mexcept\u001b[0m \u001b[0mKeyError\u001b[0m\u001b[1;33m:\u001b[0m\u001b[1;33m\u001b[0m\u001b[1;33m\u001b[0m\u001b[0m\n",
      "\u001b[1;32m~\\.conda\\envs\\tf-py-fast-arcgis\\lib\\site-packages\\arcgis\\geoprocessing\\_support.py\u001b[0m in \u001b[0;36m_get_output_value\u001b[1;34m(gptool, output_val, param_db, retParamName)\u001b[0m\n\u001b[0;32m    490\u001b[0m                 \u001b[0mret_val\u001b[0m \u001b[1;33m=\u001b[0m \u001b[0marcgis\u001b[0m\u001b[1;33m.\u001b[0m\u001b[0mfeatures\u001b[0m\u001b[1;33m.\u001b[0m\u001b[0mFeatureLayer\u001b[0m\u001b[1;33m(\u001b[0m\u001b[0mjsondict\u001b[0m\u001b[1;33m[\u001b[0m\u001b[1;34m'url'\u001b[0m\u001b[1;33m]\u001b[0m\u001b[1;33m,\u001b[0m \u001b[0mgptool\u001b[0m\u001b[1;33m.\u001b[0m\u001b[0m_gis\u001b[0m\u001b[1;33m)\u001b[0m\u001b[1;33m\u001b[0m\u001b[1;33m\u001b[0m\u001b[0m\n\u001b[0;32m    491\u001b[0m             \u001b[1;32melse\u001b[0m\u001b[1;33m:\u001b[0m\u001b[1;33m\u001b[0m\u001b[1;33m\u001b[0m\u001b[0m\n\u001b[1;32m--> 492\u001b[1;33m                 \u001b[0mresult\u001b[0m \u001b[1;33m=\u001b[0m \u001b[0mret_type\u001b[0m\u001b[1;33m.\u001b[0m\u001b[0mfrom_dict\u001b[0m\u001b[1;33m(\u001b[0m\u001b[0mjsondict\u001b[0m\u001b[1;33m)\u001b[0m\u001b[1;33m\u001b[0m\u001b[1;33m\u001b[0m\u001b[0m\n\u001b[0m\u001b[0;32m    493\u001b[0m                 \u001b[0mresult\u001b[0m\u001b[1;33m.\u001b[0m\u001b[0m_con\u001b[0m \u001b[1;33m=\u001b[0m \u001b[0mgptool\u001b[0m\u001b[1;33m.\u001b[0m\u001b[0m_con\u001b[0m\u001b[1;33m\u001b[0m\u001b[1;33m\u001b[0m\u001b[0m\n\u001b[0;32m    494\u001b[0m                 \u001b[0mresult\u001b[0m\u001b[1;33m.\u001b[0m\u001b[0m_token\u001b[0m \u001b[1;33m=\u001b[0m \u001b[0mgptool\u001b[0m\u001b[1;33m.\u001b[0m\u001b[0m_token\u001b[0m\u001b[1;33m\u001b[0m\u001b[1;33m\u001b[0m\u001b[0m\n",
      "\u001b[1;31mAttributeError\u001b[0m: type object 'Table' has no attribute 'from_dict'"
     ]
    }
   ],
   "source": [
    "res2 = glr(input_layer=series_data,\n",
    "              var_dependent='PM2_5___Local_Conditions',\n",
    "              var_explanatory=['Outdoor_Temperature', \n",
    "                         'Relative_Humidity', \n",
    "                         'Wind_Direction___Resultant', \n",
    "                         'Wind_Speed___Resultant', \n",
    "                         'PM10_Total_0_10um_STP'], return_tuple=True)"
   ]
  },
  {
   "cell_type": "code",
   "execution_count": 125,
   "metadata": {
    "scrolled": true
   },
   "outputs": [
    {
     "name": "stdout",
     "output_type": "stream",
     "text": [
      "Submitted.\n",
      "Executing...\n",
      "Executing (GeneralizedLinearRegression): GeneralizedLinearRegression \"Record Set\" # PM2_5___Local_Conditions \"Outdoor_Temperature, Relative_Humidity, Wind_Direction___Resultant, Wind_Speed___Resultant, PM10_Total_0_10um_STP\" Continuous false # # \"{\"serviceProperties\": {\"name\": \"GLR_PQ2MQJ\", \"serviceUrl\": \"https://ndhagsb01.esri.com/gis/rest/services/Hosted/GLR_PQ2MQJ/FeatureServer\"}, \"itemProperties\": {\"itemId\": \"39ac4b9b25e44ff7a4c19ab481619b20\"}}\" \"{\"defaultAggregationStyles\": false}\"\n",
      "Start Time: Tue Mar 17 12:11:57 2020\n",
      "Using URL based GPRecordSet param: https://ndhagsb01.esri.com/gis/rest/services/Hosted/timeseries_data_17_18_19_1station291167/FeatureServer/0\n",
      "{\"messageCode\":\"BD_101028\",\"message\":\"Starting new distributed job with 1 tasks.\",\"params\":{\"totalTasks\":\"1\"}}\n",
      "{\"messageCode\":\"BD_101029\",\"message\":\"0/1 distributed tasks completed.\",\"params\":{\"completedTasks\":\"0\",\"totalTasks\":\"1\"}}\n",
      "{\"messageCode\":\"BD_101029\",\"message\":\"1/1 distributed tasks completed.\",\"params\":{\"completedTasks\":\"1\",\"totalTasks\":\"1\"}}\n",
      "{\"messageCode\":\"BD_101028\",\"message\":\"Starting new distributed job with 8 tasks.\",\"params\":{\"totalTasks\":\"8\"}}\n",
      "{\"messageCode\":\"BD_101029\",\"message\":\"8/8 distributed tasks completed.\",\"params\":{\"completedTasks\":\"8\",\"totalTasks\":\"8\"}}\n",
      "{\"messageCode\":\"BD_101028\",\"message\":\"Starting new distributed job with 7 tasks.\",\"params\":{\"totalTasks\":\"7\"}}\n",
      "{\"messageCode\":\"BD_101029\",\"message\":\"7/7 distributed tasks completed.\",\"params\":{\"completedTasks\":\"7\",\"totalTasks\":\"7\"}}\n",
      "{\"messageCode\":\"BD_101028\",\"message\":\"Starting new distributed job with 7 tasks.\",\"params\":{\"totalTasks\":\"7\"}}\n",
      "{\"messageCode\":\"BD_101029\",\"message\":\"7/7 distributed tasks completed.\",\"params\":{\"completedTasks\":\"7\",\"totalTasks\":\"7\"}}\n",
      "{\"messageCode\":\"BD_101028\",\"message\":\"Starting new distributed job with 8 tasks.\",\"params\":{\"totalTasks\":\"8\"}}\n",
      "{\"messageCode\":\"BD_101029\",\"message\":\"8/8 distributed tasks completed.\",\"params\":{\"completedTasks\":\"8\",\"totalTasks\":\"8\"}}\n",
      "{\"messageCode\":\"BD_101028\",\"message\":\"Starting new distributed job with 6 tasks.\",\"params\":{\"totalTasks\":\"6\"}}\n",
      "{\"messageCode\":\"BD_101029\",\"message\":\"6/6 distributed tasks completed.\",\"params\":{\"completedTasks\":\"6\",\"totalTasks\":\"6\"}}\n",
      "{\"messageCode\":\"BD_101028\",\"message\":\"Starting new distributed job with 7 tasks.\",\"params\":{\"totalTasks\":\"7\"}}\n",
      "{\"messageCode\":\"BD_101029\",\"message\":\"7/7 distributed tasks completed.\",\"params\":{\"completedTasks\":\"7\",\"totalTasks\":\"7\"}}\n",
      "{\"messageCode\":\"BD_101028\",\"message\":\"Starting new distributed job with 6 tasks.\",\"params\":{\"totalTasks\":\"6\"}}\n",
      "{\"messageCode\":\"BD_101029\",\"message\":\"6/6 distributed tasks completed.\",\"params\":{\"completedTasks\":\"6\",\"totalTasks\":\"6\"}}\n",
      "{\"messageCode\":\"BD_101028\",\"message\":\"Starting new distributed job with 6 tasks.\",\"params\":{\"totalTasks\":\"6\"}}\n",
      "{\"messageCode\":\"BD_101029\",\"message\":\"6/6 distributed tasks completed.\",\"params\":{\"completedTasks\":\"6\",\"totalTasks\":\"6\"}}\n",
      "{\"messageCode\":\"BD_101028\",\"message\":\"Starting new distributed job with 7 tasks.\",\"params\":{\"totalTasks\":\"7\"}}\n",
      "{\"messageCode\":\"BD_101029\",\"message\":\"7/7 distributed tasks completed.\",\"params\":{\"completedTasks\":\"7\",\"totalTasks\":\"7\"}}\n",
      "{\"messageCode\":\"BD_101178\",\"message\":\"Summary of GLR Results [Model Type: Continuous (Gaussian/OLS)]\",\"params\":{\"regressionFamily\":\"Continuous (Gaussian/OLS)\"}}\n",
      "{\"messageCode\":\"BD_101179\",\"message\":\"[\\\"Variable\\\", \\\"Coef\\\", \\\"StdError\\\", \\\"t_Stat\\\", \\\"Prob\\\"]\"}\n",
      "{\"messageCode\":\"BD_101180\",\"message\":\"'Wind_Speed___Resultant', '-0.382317', '0.035246', '-10.847164', '0.0'\",\"params\":{\"tStatistics\":\"-10.847164\",\"coefficient\":\"-0.382317\",\"prob\":\"0.0\",\"standardError\":\"0.035246\",\"variable\":\"Wind_Speed___Resultant\"}}\n",
      "{\"messageCode\":\"BD_101180\",\"message\":\"'Outdoor_Temperature', '-0.032289', '0.004692', '-6.882011', '0.0'\",\"params\":{\"tStatistics\":\"-6.882011\",\"coefficient\":\"-0.032289\",\"prob\":\"0.0\",\"standardError\":\"0.004692\",\"variable\":\"Outdoor_Temperature\"}}\n",
      "{\"messageCode\":\"BD_101180\",\"message\":\"'Relative_Humidity', '0.002938', '0.003386', '0.867835', '0.385501'\",\"params\":{\"tStatistics\":\"0.867835\",\"coefficient\":\"0.002938\",\"prob\":\"0.385501\",\"standardError\":\"0.003386\",\"variable\":\"Relative_Humidity\"}}\n",
      "{\"messageCode\":\"BD_101180\",\"message\":\"'PM10_Total_0_10um_STP', '0.356844', '0.0045', '79.29629', '0.0'\",\"params\":{\"tStatistics\":\"79.29629\",\"coefficient\":\"0.356844\",\"prob\":\"0.0\",\"standardError\":\"0.0045\",\"variable\":\"PM10_Total_0_10um_STP\"}}\n",
      "{\"messageCode\":\"BD_101180\",\"message\":\"'Wind_Direction___Resultant', '-0.006418', '9.26E-4', '-6.929004', '0.0'\",\"params\":{\"tStatistics\":\"-6.929004\",\"coefficient\":\"-0.006418\",\"prob\":\"0.0\",\"standardError\":\"9.26E-4\",\"variable\":\"Wind_Direction___Resultant\"}}\n",
      "{\"messageCode\":\"BD_101180\",\"message\":\"'Intercept', '7.903056', '0.520743', '15.176487', '0.0'\",\"params\":{\"tStatistics\":\"15.176487\",\"coefficient\":\"7.903056\",\"prob\":\"0.0\",\"standardError\":\"0.520743\",\"variable\":\"Intercept\"}}\n",
      "{\"messageCode\":\"BD_101181\",\"message\":\"GLR Diagnostics\"}\n",
      "{\"messageCode\":\"BD_101182\",\"message\":\"Multiple R-Squared: 0.39359\",\"params\":{\"r2\":\"0.39359\"}}\n",
      "{\"messageCode\":\"BD_101183\",\"message\":\"Adjusted R-Squared: 0.393351\",\"params\":{\"r2Adj\":\"0.393351\"}}\n",
      "{\"messageCode\":\"BD_101184\",\"message\":\"Akaike's Information Criterion (AIC): 85232.688277\",\"params\":{\"aic\":\"85232.688277\"}}\n",
      "{\"messageCode\":\"BD_101185\",\"message\":\"Akaike's Information Criterion corrected (AICc): 85232.688277\",\"params\":{\"aicc\":\"85232.688277\"}}\n",
      "{\"messageCode\":\"BD_101028\",\"message\":\"Starting new distributed job with 212 tasks.\",\"params\":{\"totalTasks\":\"212\"}}\n",
      "{\"messageCode\":\"BD_101029\",\"message\":\"1/212 distributed tasks completed.\",\"params\":{\"completedTasks\":\"1\",\"totalTasks\":\"212\"}}\n",
      "{\"messageCode\":\"BD_101029\",\"message\":\"25/212 distributed tasks completed.\",\"params\":{\"completedTasks\":\"25\",\"totalTasks\":\"212\"}}\n",
      "{\"messageCode\":\"BD_101029\",\"message\":\"76/212 distributed tasks completed.\",\"params\":{\"completedTasks\":\"76\",\"totalTasks\":\"212\"}}\n",
      "{\"messageCode\":\"BD_101029\",\"message\":\"114/212 distributed tasks completed.\",\"params\":{\"completedTasks\":\"114\",\"totalTasks\":\"212\"}}\n",
      "{\"messageCode\":\"BD_101029\",\"message\":\"154/212 distributed tasks completed.\",\"params\":{\"completedTasks\":\"154\",\"totalTasks\":\"212\"}}\n",
      "{\"messageCode\":\"BD_101029\",\"message\":\"192/212 distributed tasks completed.\",\"params\":{\"completedTasks\":\"192\",\"totalTasks\":\"212\"}}\n",
      "{\"messageCode\":\"BD_101029\",\"message\":\"212/212 distributed tasks completed.\",\"params\":{\"completedTasks\":\"212\",\"totalTasks\":\"212\"}}\n",
      "{\"messageCode\":\"BD_101081\",\"message\":\"Finished writing results:\"}\n",
      "{\"messageCode\":\"BD_101082\",\"message\":\"* Count of features = 12677\",\"params\":{\"resultCount\":\"12677\"}}\n",
      "{\"messageCode\":\"BD_101083\",\"message\":\"* Spatial extent = None\",\"params\":{\"extent\":\"None\"}}\n",
      "{\"messageCode\":\"BD_101084\",\"message\":\"* Temporal extent = None\",\"params\":{\"extent\":\"None\"}}\n",
      "{\"messageCode\":\"BD_101226\",\"message\":\"Feature service layer created: https://ndhagsb01.esri.com/gis/rest/services/Hosted/GLR_PQ2MQJ/FeatureServer/0\",\"params\":{\"serviceUrl\":\"https://ndhagsb01.esri.com/gis/rest/services/Hosted/GLR_PQ2MQJ/FeatureServer/0\"}}\n"
     ]
    },
    {
     "ename": "AttributeError",
     "evalue": "type object 'Table' has no attribute 'from_dict'",
     "output_type": "error",
     "traceback": [
      "\u001b[1;31m---------------------------------------------------------------------------\u001b[0m",
      "\u001b[1;31mAttributeError\u001b[0m                            Traceback (most recent call last)",
      "\u001b[1;32m<ipython-input-125-483932eeff77>\u001b[0m in \u001b[0;36m<module>\u001b[1;34m\u001b[0m\n\u001b[0;32m      5\u001b[0m                          \u001b[1;34m'Wind_Direction___Resultant'\u001b[0m\u001b[1;33m,\u001b[0m\u001b[1;33m\u001b[0m\u001b[1;33m\u001b[0m\u001b[0m\n\u001b[0;32m      6\u001b[0m                          \u001b[1;34m'Wind_Speed___Resultant'\u001b[0m\u001b[1;33m,\u001b[0m\u001b[1;33m\u001b[0m\u001b[1;33m\u001b[0m\u001b[0m\n\u001b[1;32m----> 7\u001b[1;33m                          'PM10_Total_0_10um_STP'])\n\u001b[0m",
      "\u001b[1;32m~\\.conda\\envs\\tf-py-fast-arcgis\\lib\\site-packages\\arcgis\\geoanalytics\\analyze_patterns.py\u001b[0m in \u001b[0;36mglr\u001b[1;34m(input_layer, var_dependent, var_explanatory, regression_family, features_to_predict, gen_coeff_table, exp_var_matching, dep_mapping, output_name, gis, context, future, return_tuple)\u001b[0m\n\u001b[0;32m    552\u001b[0m             \u001b[0mgpjob\u001b[0m \u001b[1;33m=\u001b[0m \u001b[0m_execute_gp_tool\u001b[0m\u001b[1;33m(\u001b[0m\u001b[0mgis\u001b[0m\u001b[1;33m,\u001b[0m \u001b[1;34m\"GeneralizedLinearRegression\"\u001b[0m\u001b[1;33m,\u001b[0m \u001b[0mparams\u001b[0m\u001b[1;33m,\u001b[0m \u001b[0mparam_db\u001b[0m\u001b[1;33m,\u001b[0m \u001b[0mreturn_values\u001b[0m\u001b[1;33m,\u001b[0m \u001b[0m_use_async\u001b[0m\u001b[1;33m,\u001b[0m \u001b[0murl\u001b[0m\u001b[1;33m,\u001b[0m \u001b[1;32mTrue\u001b[0m\u001b[1;33m,\u001b[0m \u001b[0mfuture\u001b[0m\u001b[1;33m=\u001b[0m\u001b[0mfuture\u001b[0m\u001b[1;33m)\u001b[0m\u001b[1;33m\u001b[0m\u001b[1;33m\u001b[0m\u001b[0m\n\u001b[0;32m    553\u001b[0m             \u001b[1;32mreturn\u001b[0m \u001b[0mGAJob\u001b[0m\u001b[1;33m(\u001b[0m\u001b[0mgpjob\u001b[0m\u001b[1;33m=\u001b[0m\u001b[0mgpjob\u001b[0m\u001b[1;33m,\u001b[0m \u001b[0mreturn_service\u001b[0m\u001b[1;33m=\u001b[0m\u001b[0moutput_service\u001b[0m\u001b[1;33m)\u001b[0m\u001b[1;33m\u001b[0m\u001b[1;33m\u001b[0m\u001b[0m\n\u001b[1;32m--> 554\u001b[1;33m         \u001b[0mres\u001b[0m \u001b[1;33m=\u001b[0m \u001b[0m_execute_gp_tool\u001b[0m\u001b[1;33m(\u001b[0m\u001b[0mgis\u001b[0m\u001b[1;33m,\u001b[0m \u001b[1;34m\"GeneralizedLinearRegression\"\u001b[0m\u001b[1;33m,\u001b[0m \u001b[0mparams\u001b[0m\u001b[1;33m,\u001b[0m \u001b[0mparam_db\u001b[0m\u001b[1;33m,\u001b[0m \u001b[0mreturn_values\u001b[0m\u001b[1;33m,\u001b[0m \u001b[0m_use_async\u001b[0m\u001b[1;33m,\u001b[0m \u001b[0murl\u001b[0m\u001b[1;33m,\u001b[0m \u001b[1;32mTrue\u001b[0m\u001b[1;33m,\u001b[0m \u001b[0mfuture\u001b[0m\u001b[1;33m=\u001b[0m\u001b[0mfuture\u001b[0m\u001b[1;33m)\u001b[0m\u001b[1;33m\u001b[0m\u001b[1;33m\u001b[0m\u001b[0m\n\u001b[0m\u001b[0;32m    555\u001b[0m \u001b[1;33m\u001b[0m\u001b[0m\n\u001b[0;32m    556\u001b[0m         \u001b[1;32mif\u001b[0m \u001b[0mreturn_tuple\u001b[0m\u001b[1;33m:\u001b[0m\u001b[1;33m\u001b[0m\u001b[1;33m\u001b[0m\u001b[0m\n",
      "\u001b[1;32m~\\.conda\\envs\\tf-py-fast-arcgis\\lib\\site-packages\\arcgis\\geoprocessing\\_support.py\u001b[0m in \u001b[0;36m_execute_gp_tool\u001b[1;34m(gis, task_name, params, param_db, return_values, use_async, url, webtool, add_token, return_messages, future)\u001b[0m\n\u001b[0;32m    404\u001b[0m             \u001b[0moutput_val\u001b[0m \u001b[1;33m=\u001b[0m \u001b[0mresp\u001b[0m\u001b[1;33m[\u001b[0m\u001b[0mretParamName\u001b[0m\u001b[1;33m]\u001b[0m\u001b[1;33m\u001b[0m\u001b[1;33m\u001b[0m\u001b[0m\n\u001b[0;32m    405\u001b[0m             \u001b[1;32mtry\u001b[0m\u001b[1;33m:\u001b[0m\u001b[1;33m\u001b[0m\u001b[1;33m\u001b[0m\u001b[0m\n\u001b[1;32m--> 406\u001b[1;33m                 \u001b[0mret_param_name\u001b[0m\u001b[1;33m,\u001b[0m \u001b[0mret_val\u001b[0m \u001b[1;33m=\u001b[0m \u001b[0m_get_output_value\u001b[0m\u001b[1;33m(\u001b[0m\u001b[0mgptool\u001b[0m\u001b[1;33m,\u001b[0m \u001b[0moutput_val\u001b[0m\u001b[1;33m,\u001b[0m \u001b[0mparam_db\u001b[0m\u001b[1;33m,\u001b[0m \u001b[0mretParamName\u001b[0m\u001b[1;33m)\u001b[0m\u001b[1;33m\u001b[0m\u001b[1;33m\u001b[0m\u001b[0m\n\u001b[0m\u001b[0;32m    407\u001b[0m                 \u001b[0moutput_dict\u001b[0m\u001b[1;33m[\u001b[0m\u001b[0mret_param_name\u001b[0m\u001b[1;33m]\u001b[0m \u001b[1;33m=\u001b[0m \u001b[0mret_val\u001b[0m\u001b[1;33m\u001b[0m\u001b[1;33m\u001b[0m\u001b[0m\n\u001b[0;32m    408\u001b[0m             \u001b[1;32mexcept\u001b[0m \u001b[0mKeyError\u001b[0m\u001b[1;33m:\u001b[0m\u001b[1;33m\u001b[0m\u001b[1;33m\u001b[0m\u001b[0m\n",
      "\u001b[1;32m~\\.conda\\envs\\tf-py-fast-arcgis\\lib\\site-packages\\arcgis\\geoprocessing\\_support.py\u001b[0m in \u001b[0;36m_get_output_value\u001b[1;34m(gptool, output_val, param_db, retParamName)\u001b[0m\n\u001b[0;32m    490\u001b[0m                 \u001b[0mret_val\u001b[0m \u001b[1;33m=\u001b[0m \u001b[0marcgis\u001b[0m\u001b[1;33m.\u001b[0m\u001b[0mfeatures\u001b[0m\u001b[1;33m.\u001b[0m\u001b[0mFeatureLayer\u001b[0m\u001b[1;33m(\u001b[0m\u001b[0mjsondict\u001b[0m\u001b[1;33m[\u001b[0m\u001b[1;34m'url'\u001b[0m\u001b[1;33m]\u001b[0m\u001b[1;33m,\u001b[0m \u001b[0mgptool\u001b[0m\u001b[1;33m.\u001b[0m\u001b[0m_gis\u001b[0m\u001b[1;33m)\u001b[0m\u001b[1;33m\u001b[0m\u001b[1;33m\u001b[0m\u001b[0m\n\u001b[0;32m    491\u001b[0m             \u001b[1;32melse\u001b[0m\u001b[1;33m:\u001b[0m\u001b[1;33m\u001b[0m\u001b[1;33m\u001b[0m\u001b[0m\n\u001b[1;32m--> 492\u001b[1;33m                 \u001b[0mresult\u001b[0m \u001b[1;33m=\u001b[0m \u001b[0mret_type\u001b[0m\u001b[1;33m.\u001b[0m\u001b[0mfrom_dict\u001b[0m\u001b[1;33m(\u001b[0m\u001b[0mjsondict\u001b[0m\u001b[1;33m)\u001b[0m\u001b[1;33m\u001b[0m\u001b[1;33m\u001b[0m\u001b[0m\n\u001b[0m\u001b[0;32m    493\u001b[0m                 \u001b[0mresult\u001b[0m\u001b[1;33m.\u001b[0m\u001b[0m_con\u001b[0m \u001b[1;33m=\u001b[0m \u001b[0mgptool\u001b[0m\u001b[1;33m.\u001b[0m\u001b[0m_con\u001b[0m\u001b[1;33m\u001b[0m\u001b[1;33m\u001b[0m\u001b[0m\n\u001b[0;32m    494\u001b[0m                 \u001b[0mresult\u001b[0m\u001b[1;33m.\u001b[0m\u001b[0m_token\u001b[0m \u001b[1;33m=\u001b[0m \u001b[0mgptool\u001b[0m\u001b[1;33m.\u001b[0m\u001b[0m_token\u001b[0m\u001b[1;33m\u001b[0m\u001b[1;33m\u001b[0m\u001b[0m\n",
      "\u001b[1;31mAttributeError\u001b[0m: type object 'Table' has no attribute 'from_dict'"
     ]
    }
   ],
   "source": [
    "res = glr(input_layer=series_data,\n",
    "              var_dependent='PM2_5___Local_Conditions',\n",
    "              var_explanatory=['Outdoor_Temperature', \n",
    "                         'Relative_Humidity', \n",
    "                         'Wind_Direction___Resultant', \n",
    "                         'Wind_Speed___Resultant', \n",
    "                         'PM10_Total_0_10um_STP'])"
   ]
  },
  {
   "cell_type": "code",
   "execution_count": null,
   "metadata": {},
   "outputs": [],
   "source": [
    "res"
   ]
  },
  {
   "cell_type": "code",
   "execution_count": null,
   "metadata": {},
   "outputs": [],
   "source": []
  }
 ],
 "metadata": {
  "kernelspec": {
   "display_name": "Python 3",
   "language": "python",
   "name": "python3"
  },
  "language_info": {
   "codemirror_mode": {
    "name": "ipython",
    "version": 3
   },
   "file_extension": ".py",
   "mimetype": "text/x-python",
   "name": "python",
   "nbconvert_exporter": "python",
   "pygments_lexer": "ipython3",
   "version": "3.6.10"
  }
 },
 "nbformat": 4,
 "nbformat_minor": 2
}
